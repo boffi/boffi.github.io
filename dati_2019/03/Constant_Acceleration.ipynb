{
 "cells": [
  {
   "cell_type": "code",
   "execution_count": 2,
   "metadata": {
    "init_cell": true,
    "slideshow": {
     "slide_type": "skip"
    }
   },
   "outputs": [],
   "source": [
    "%matplotlib inline\n",
    "from numpy import *\n",
    "from matplotlib.pyplot import *"
   ]
  },
  {
   "cell_type": "markdown",
   "metadata": {
    "slideshow": {
     "slide_type": "slide"
    }
   },
   "source": [
    "# The Constant Acceleration Algorithm"
   ]
  },
  {
   "cell_type": "markdown",
   "metadata": {
    "slideshow": {
     "slide_type": "slide"
    }
   },
   "source": [
    "### System properties and derived quantities"
   ]
  },
  {
   "cell_type": "code",
   "execution_count": null,
   "metadata": {
    "slideshow": {
     "slide_type": "-"
    }
   },
   "outputs": [],
   "source": [
    "mass = 6E05\n",
    "T_n  = 0.60\n",
    "wn   = 2*pi/T_n\n",
    "k    = mass*wn**2\n",
    "zeta = 0.02\n",
    "wd   = wn * sqrt(1.00-zeta**2)\n",
    "damp = 2*zeta*mass*wn"
   ]
  },
  {
   "cell_type": "markdown",
   "metadata": {
    "slideshow": {
     "slide_type": "slide"
    }
   },
   "source": [
    "### The loading"
   ]
  },
  {
   "cell_type": "code",
   "execution_count": null,
   "metadata": {
    "slideshow": {
     "slide_type": "-"
    }
   },
   "outputs": [],
   "source": [
    "def p(t):\n",
    "    if t < 1.00 : return 4E5 * t\n",
    "    if t < 3.00 : return 2E5 * (3-t)\n",
    "    return 0.00"
   ]
  },
  {
   "cell_type": "markdown",
   "metadata": {
    "slideshow": {
     "slide_type": "slide"
    }
   },
   "source": [
    "### Time step $h$ and algorithmic constants depending on it"
   ]
  },
  {
   "cell_type": "code",
   "execution_count": null,
   "metadata": {
    "slideshow": {
     "slide_type": "fragment"
    }
   },
   "outputs": [],
   "source": [
    "h = 0.025\n",
    "\n",
    "k_ = k + 2*damp/h + 4*mass/h/h\n",
    "\n",
    "cv = 2*damp + 4*mass/h\n",
    "ca = 2*mass"
   ]
  },
  {
   "cell_type": "markdown",
   "metadata": {
    "slideshow": {
     "slide_type": "slide"
    }
   },
   "source": [
    "### The initial conditions (rest conditions)"
   ]
  },
  {
   "cell_type": "code",
   "execution_count": null,
   "metadata": {
    "slideshow": {
     "slide_type": "fragment"
    }
   },
   "outputs": [],
   "source": [
    "x_ = [] ; v_ = [] ; t_ = []\n",
    "\n",
    "t = 0.00 ; X = 0.00 ; V = 0.00 ; P = p(t)\n",
    "A = (P - V*damp - X*k)/mass"
   ]
  },
  {
   "cell_type": "markdown",
   "metadata": {
    "slideshow": {
     "slide_type": "slide"
    }
   },
   "source": [
    "### The loop over time"
   ]
  },
  {
   "cell_type": "code",
   "execution_count": null,
   "metadata": {
    "slideshow": {
     "slide_type": "fragment"
    }
   },
   "outputs": [],
   "source": [
    "while t < 6.00:\n",
    "    x_.append(X) ; v_.append(V) ; t_.append(t)\n",
    "    # print \"%6.3f   %+12.10f %+12.10f\" % (t, X, V)\n",
    "    t = t+h\n",
    "    Ph = p(t)\n",
    "    dp_ = (Ph-P) + cv*V + ca*A\n",
    "    dx  = dp_/k_\n",
    "    dv  = 2*dx/h - 2*V\n",
    "    X = X+dx ; V = V+dv\n",
    "    P = Ph ; A = (P - damp*V - k*X)/mass"
   ]
  },
  {
   "cell_type": "code",
   "execution_count": null,
   "metadata": {
    "slideshow": {
     "slide_type": "slide"
    }
   },
   "outputs": [],
   "source": [
    "plot(t_, x_)\n",
    "None"
   ]
  }
 ],
 "metadata": {
  "celltoolbar": "Slideshow",
  "kernelspec": {
   "display_name": "Python 3",
   "language": "python",
   "name": "python3"
  },
  "language_info": {
   "codemirror_mode": {
    "name": "ipython",
    "version": 3
   },
   "file_extension": ".py",
   "mimetype": "text/x-python",
   "name": "python",
   "nbconvert_exporter": "python",
   "pygments_lexer": "ipython3",
   "version": "3.7.2"
  }
 },
 "nbformat": 4,
 "nbformat_minor": 1
}
