{
 "cells": [
  {
   "cell_type": "markdown",
   "metadata": {},
   "source": [
    "# Half Power Estimation of $\\zeta$"
   ]
  },
  {
   "cell_type": "code",
   "execution_count": null,
   "metadata": {},
   "outputs": [],
   "source": [
    "%matplotlib inline\n",
    "import numpy as np\n",
    "import matplotlib.pyplot as plt\n",
    "from jupyterthemes import jtplot ; jtplot.style()\n",
    "np.random.seed(1969-7-20)"
   ]
  },
  {
   "cell_type": "markdown",
   "metadata": {},
   "source": [
    "We _simulate_ a dynamic testing, using a low sampled, random error affected sequence of frequencies to compute a random error affected sequence of dynamic amplification factors for $\\zeta=3.5\\%$."
   ]
  },
  {
   "cell_type": "code",
   "execution_count": null,
   "metadata": {},
   "outputs": [],
   "source": [
    "N = 51\n",
    "b = np.linspace(0.5, 1.5, N) + (np.random.random(N)-0.5)/100\n",
    "\n",
    "z = 0.035\n",
    "D = 1/np.sqrt((1-b*b)**2+(2*z*b)**2) * (1 + (np.random.random(N)-0.5)/100)\n",
    "\n",
    "print('max of curve', max(D), '\\tmax approx.', 1/2/z, '\\texact', 1/2/z/np.sqrt(1-z*z))\n",
    "plt.plot(b, D) ;  plt.ylim((0, 15)) ; plt.grid(1);"
   ]
  },
  {
   "cell_type": "markdown",
   "metadata": {},
   "source": [
    "We find the reference response value using the _measured_ maximum value and plot a zone around the max value, using a reference line at $D_\\text{max}/\\sqrt2$"
   ]
  },
  {
   "cell_type": "code",
   "execution_count": null,
   "metadata": {},
   "outputs": [],
   "source": [
    "Dmax = max(D)\n",
    "D2 = Dmax/np.sqrt(2)\n",
    "\n",
    "plt.plot(b, D, 'k-*')\n",
    "plt.yticks((D2, Dmax))\n",
    "plt.xlim((0.9, 1.1))\n",
    "plt.grid(1)"
   ]
  },
  {
   "cell_type": "markdown",
   "metadata": {},
   "source": [
    "We plot 2 ranges around the crossings with the reference value"
   ]
  },
  {
   "cell_type": "code",
   "execution_count": null,
   "metadata": {},
   "outputs": [],
   "source": [
    "plt.plot(b, D)\n",
    "plt.yticks((D2, Dmax))\n",
    "plt.xlim((0.950, 0.965))\n",
    "plt.grid(1)\n",
    "plt.show()\n",
    "plt.plot(b, D)\n",
    "plt.yticks((D2, Dmax))\n",
    "plt.xlim((1.025, 1.040))\n",
    "plt.grid(1);"
   ]
  },
  {
   "cell_type": "markdown",
   "metadata": {},
   "source": [
    "My estimates for the half-power frequencies are $f_1 = 0.962$ and $f_2 = 1.034$, and using these values in the half-power formula gives us our estimate of $\\zeta$."
   ]
  },
  {
   "cell_type": "code",
   "execution_count": null,
   "metadata": {},
   "outputs": [],
   "source": [
    "f1 = 0.962\n",
    "f2 = 1.034\n",
    "print(z, '%.6f'%((f2-f1)/(f2+f1)))"
   ]
  }
 ],
 "metadata": {
  "kernelspec": {
   "display_name": "Python 3",
   "language": "python",
   "name": "python3"
  },
  "language_info": {
   "codemirror_mode": {
    "name": "ipython",
    "version": 3
   },
   "file_extension": ".py",
   "mimetype": "text/x-python",
   "name": "python",
   "nbconvert_exporter": "python",
   "pygments_lexer": "ipython3",
   "version": "3.7.6"
  }
 },
 "nbformat": 4,
 "nbformat_minor": 2
}
