{
 "metadata": {
  "name": ""
 },
 "nbformat": 3,
 "nbformat_minor": 0,
 "worksheets": [
  {
   "cells": [
    {
     "cell_type": "code",
     "collapsed": true,
     "input": [
      "from scipy import *\n",
      "set_printoptions(linewidth=100,precision=7)\n",
      "\n",
      "mass=matrix('2,0,0;0,3,0;0,0,4')\n",
      "stiffness=matrix('1,-1,0;-1,3,-2;0,-2,5')\n",
      "print \"Mass matrix:\\n\", mass\n",
      "print \"\\nStiffness matrix:\\n\", stiffness\n",
      "print \"\\nFlexibility matrix:\\n\", stiffness.I"
     ],
     "language": "python",
     "metadata": {},
     "outputs": [
      {
       "output_type": "stream",
       "stream": "stdout",
       "text": [
        "Mass matrix:\n",
        "[[2 0 0]\n",
        " [0 3 0]\n",
        " [0 0 4]]\n",
        "\n",
        "Stiffness matrix:\n",
        "[[ 1 -1  0]\n",
        " [-1  3 -2]\n",
        " [ 0 -2  5]]\n",
        "\n",
        "Flexibility matrix:\n",
        "[[ 1.8333333  0.8333333  0.3333333]\n",
        " [ 0.8333333  0.8333333  0.3333333]\n",
        " [ 0.3333333  0.3333333  0.3333333]]\n"
       ]
      }
     ],
     "prompt_number": 4
    },
    {
     "cell_type": "code",
     "collapsed": true,
     "input": [
      "d0=stiffness.I*mass\n",
      "sweep=matrix('1,0,0;0,1,0;0,0,1')\n",
      "print \"D_0, unmodified Dynamic matrix:\\n\", d0"
     ],
     "language": "python",
     "metadata": {},
     "outputs": [
      {
       "output_type": "stream",
       "stream": "stdout",
       "text": [
        "D_0, unmodified Dynamic matrix:\n",
        "[[ 3.6666667  2.5        1.3333333]\n",
        " [ 1.6666667  2.5        1.3333333]\n",
        " [ 0.6666667  1.         1.3333333]]\n"
       ]
      }
     ],
     "prompt_number": 5
    },
    {
     "cell_type": "code",
     "collapsed": true,
     "input": [
      "for i in 1,2,3:\n",
      "    print \"===========\"\n",
      "    print \"   i =\", i\n",
      "    print \"===========\"\n",
      "    print \"\\nS_%d:\\n%s\" % (i-1, sweep)\n",
      "    d = d0*sweep\n",
      "    print \"D_%d = D_0 * S_%d:\\n%s\" % (i, i-1, d)\n",
      "    x = matrix('1;1;1')\n",
      "    for n in range(10):\n",
      "        nx = d*x\n",
      "        fac = nx[0,0]\n",
      "        x = nx/fac\n",
      "    mm = (x.T*mass*x)[0,0]\n",
      "    sweep = sweep - x*x.T*mass/mm\n",
      "    print \"\\nw2_%d: %f\" % (i, 1/fac)\n",
      "    print \"psi_%d transposed: %s\\n\" % (i, asarray(x.T).reshape(3))"
     ],
     "language": "python",
     "metadata": {},
     "outputs": [
      {
       "output_type": "stream",
       "stream": "stdout",
       "text": [
        "===========\n",
        "   i = 1\n",
        "===========\n",
        "\n",
        "S_0:\n",
        "[[1 0 0]\n",
        " [0 1 0]\n",
        " [0 0 1]]\n",
        "D_1 = D_0 * S_0:\n",
        "[[ 3.6666667  2.5        1.3333333]\n",
        " [ 1.6666667  2.5        1.3333333]\n",
        " [ 0.6666667  1.         1.3333333]]\n",
        "\n",
        "w2_1: 0.175732\n",
        "psi_1 transposed: [ 1.         0.6485354  0.30185  ]\n",
        "\n",
        "===========\n",
        "   i = 2\n",
        "===========\n",
        "\n",
        "S_1:\n",
        "[[ 0.4484658 -0.5365342 -0.3329613]\n",
        " [-0.3576895  0.6520386 -0.2159372]\n",
        " [-0.1664806 -0.1619529  0.8994956]]\n",
        "D_2 = D_0 * S_1:\n",
        "[[ 0.5281767 -0.5531327 -0.5613733]\n",
        " [-0.3687549  0.5199357  0.1045492]\n",
        " [-0.2806864  0.078412   0.7614162]]\n",
        "\n",
        "w2_2: 0.803236\n",
        "psi_2 transposed: [ 1.        -0.606471  -0.6791821]\n",
        "\n",
        "===========\n",
        "   i = 3\n",
        "===========\n",
        "\n",
        "S_2:\n",
        "[[ 0.044309  -0.1688701  0.2160308]\n",
        " [-0.1125801  0.429061  -0.548885 ]\n",
        " [ 0.1080154 -0.4116637  0.52663  ]]\n",
        "D_3 = D_0 * S_2:\n",
        "[[ 0.0250367 -0.095423   0.122074 ]\n",
        " [-0.0635813  0.2423173 -0.3099877]\n",
        " [ 0.0609798 -0.2324041  0.2973089]]\n",
        "\n",
        "w2_3: 1.770968\n",
        "psi_3 transposed: [ 1.        -2.5393757  2.4355016]\n",
        "\n"
       ]
      }
     ],
     "prompt_number": 6
    },
    {
     "cell_type": "code",
     "collapsed": false,
     "input": [],
     "language": "python",
     "metadata": {},
     "outputs": [],
     "prompt_number": 6
    }
   ],
   "metadata": {}
  }
 ]
}