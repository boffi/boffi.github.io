{
 "metadata": {
  "name": ""
 },
 "nbformat": 3,
 "nbformat_minor": 0,
 "worksheets": [
  {
   "cells": [
    {
     "cell_type": "code",
     "collapsed": false,
     "input": [
      "%pylab inline"
     ],
     "language": "python",
     "metadata": {},
     "outputs": [
      {
       "output_type": "stream",
       "stream": "stdout",
       "text": [
        "Populating the interactive namespace from numpy and matplotlib\n"
       ]
      }
     ],
     "prompt_number": 1
    },
    {
     "cell_type": "markdown",
     "metadata": {},
     "source": [
      "### Constant acceleration algorithm\n",
      "\n",
      "We are, again and again, integrating the equation of motion for the same example, that is a damped SDOF with period $T=0.6\\\\,{}$s, with a triangular loading with a peak value of 40 kN.\n",
      "\n",
      "####The loading function"
     ]
    },
    {
     "cell_type": "code",
     "collapsed": false,
     "input": [
      "def p(t):\n",
      "    if t < t0 :\n",
      "        return 54*(t0-t)**2*t/t0**3\n",
      "    return 0.00"
     ],
     "language": "python",
     "metadata": {},
     "outputs": [],
     "prompt_number": 2
    },
    {
     "cell_type": "markdown",
     "metadata": {},
     "source": [
      "####The SDOF system parameters\n",
      "and some derived values"
     ]
    },
    {
     "cell_type": "code",
     "collapsed": false,
     "input": [
      "mass = 3.\n",
      "k    = 1200.\n",
      "zeta = 0.10\n",
      "wn =sqrt(k/mass)\n",
      "wd   = wn * sqrt(1.00-zeta**2)\n",
      "damp = 2*zeta*mass*wn\n",
      "t0 = 0.12\n",
      "\n",
      "print mass, damp, k\n",
      "print wn, wd"
     ],
     "language": "python",
     "metadata": {},
     "outputs": [
      {
       "output_type": "stream",
       "stream": "stdout",
       "text": [
        "3.0 12.0 1200.0\n",
        "20.0 19.8997487421\n"
       ]
      }
     ],
     "prompt_number": 3
    },
    {
     "cell_type": "markdown",
     "metadata": {},
     "source": [
      "#### Initialization of the CA algorithm"
     ]
    },
    {
     "cell_type": "code",
     "collapsed": false,
     "input": [
      "# time step duration\n",
      "h = t0/30.\n",
      "\n",
      "# we require the response from 0 to 6 s, it is convnient\n",
      "# to define a slightly modified duration\n",
      "duration = 10*t0 + h/2\n",
      "\n",
      "# The constants used by the algorithm\n",
      "k_ = k + 2*damp/h + 4*mass/h/h\n",
      "cv = 2*damp + 4*mass/h\n",
      "ca = 2*mass\n",
      "\n",
      "# We'll use these three containers to store our results\n",
      "x = [] ; v = [] ; t = []"
     ],
     "language": "python",
     "metadata": {},
     "outputs": [],
     "prompt_number": 4
    },
    {
     "cell_type": "markdown",
     "metadata": {},
     "source": [
      "#### Initial conditions of the system"
     ]
    },
    {
     "cell_type": "code",
     "collapsed": false,
     "input": [
      "T = 0.00\n",
      "X = 0.00\n",
      "V = 0.00\n",
      "P = p(T)\n",
      "A = (P - V*damp - X*k)/mass"
     ],
     "language": "python",
     "metadata": {},
     "outputs": [],
     "prompt_number": 5
    },
    {
     "cell_type": "markdown",
     "metadata": {},
     "source": [
      "#### Iteration of the elementary, step-wise incremental solution"
     ]
    },
    {
     "cell_type": "code",
     "collapsed": false,
     "input": [
      "while T < duration:\n",
      "    x.append(X) ; v.append(V) ; t.append(T)\n",
      "    # print \"%6.3f   %+12.10f %+12.10f\" % (t, X, V)\n",
      "    T = T+h\n",
      "    Ph = p(T)\n",
      "    dp_ = (Ph-P) + cv*V + ca*A\n",
      "    dx  = dp_/k_\n",
      "    dv  = 2*dx/h - 2*V\n",
      "    X = X+dx ; V = V+dv\n",
      "    P = Ph ; A = (P - damp*V - k*X)/mass"
     ],
     "language": "python",
     "metadata": {},
     "outputs": [],
     "prompt_number": 6
    },
    {
     "cell_type": "markdown",
     "metadata": {},
     "source": [
      "#### Plotting the resulting displacements"
     ]
    },
    {
     "cell_type": "code",
     "collapsed": false,
     "input": [
      "plot(t, [1000*X for X in x]) ; xlim((0,10*t0)) ; xlabel('t/s') ; ylabel('x/mm') ; grid() ; xticks(linspace(0,10*t0,11));"
     ],
     "language": "python",
     "metadata": {},
     "outputs": [
      {
       "metadata": {},
       "output_type": "display_data",
       "png": "[encoded data removed]",
       "text": [
        "<matplotlib.figure.Figure at 0x7f9855e7b090>"
       ]
      }
     ],
     "prompt_number": 7
    }
   ],
   "metadata": {}
  }
 ]
}