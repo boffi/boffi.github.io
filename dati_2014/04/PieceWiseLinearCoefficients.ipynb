{
 "metadata": {
  "name": ""
 },
 "nbformat": 3,
 "nbformat_minor": 0,
 "worksheets": [
  {
   "cells": [
    {
     "cell_type": "code",
     "collapsed": false,
     "input": [
      "from sympy import *\n",
      "init_printing(use_latex=True)\n",
      "from IPython.display import display\n",
      "from sympy.printing import print_python, print_fcode\n",
      " "
     ],
     "language": "python",
     "metadata": {},
     "outputs": [],
     "prompt_number": 28
    },
    {
     "cell_type": "code",
     "collapsed": false,
     "input": [
      "x0,v0,x1,v1,p0,p1, m,c,k, wn, wd, z, h, t, dp= symbols(\n",
      "    'x_0,v_0,x_1,v_1,p_0,p_1, m,c,k, omega_n, omega_d, z, h, t, Delta_p')\n",
      "display((x0,v0,x1,v1,p0,p1, m,c,k, wn, wd, z, h, t, dp))\n",
      "A,B,C,D=symbols('A,B,C,D')"
     ],
     "language": "python",
     "metadata": {},
     "outputs": [
      {
       "latex": [
        "$$\\begin{pmatrix}x_{0}, & v_{0}, & x_{1}, & v_{1}, & p_{0}, & p_{1}, & m, & c, & k, & \\omega_{n}, & \\omega_{d}, & z, & h, & t, & \\Delta_{p}\\end{pmatrix}$$"
       ],
       "metadata": {},
       "output_type": "display_data",
       "text": [
        "(x\u2080, v\u2080, x\u2081, v\u2081, p\u2080, p\u2081, m, c, k, \u03c9_n, \u03c9_d, z, h, t, \u0394_p)"
       ]
      }
     ],
     "prompt_number": 31
    },
    {
     "cell_type": "code",
     "collapsed": false,
     "input": [
      "x = exp(-z*wn*t) * (A*cos(wd*t)+B*sin(wd*t))\n",
      "v = x.diff(t)"
     ],
     "language": "python",
     "metadata": {},
     "outputs": [],
     "prompt_number": 32
    },
    {
     "cell_type": "code",
     "collapsed": false,
     "input": [
      "p =(p0*(h-t)+p1*t)/h\n",
      "p = p0 +dp*t/h\n",
      "x_p = C*t + D\n",
      "v_p = x_p.diff(t)\n",
      "aaa = (k*x_p+c*v_p-p).expand()\n",
      "CD = solve((aaa.coeff(t,1),aaa.coeff(t,0)), (C,D))\n",
      "x_p = x_p.subs(CD)\n",
      "v_p = v_p.subs(CD)\n",
      "display(CD)"
     ],
     "language": "python",
     "metadata": {},
     "outputs": [
      {
       "latex": [
        "$$\\begin{Bmatrix}C : \\frac{\\Delta_{p}}{h k}, & D : - \\frac{\\Delta_{p} c}{h k^{2}} + \\frac{p_{0}}{k}\\end{Bmatrix}$$"
       ],
       "metadata": {},
       "output_type": "display_data",
       "png": "[encoded data removed]",
       "text": [
        "\u23a7   \u0394_p       \u0394_p\u22c5c   p\u2080\u23ab\n",
        "\u23aaC: \u2500\u2500\u2500, D: - \u2500\u2500\u2500\u2500\u2500 + \u2500\u2500\u23aa\n",
        "\u23a8   h\u22c5k           2   k \u23ac\n",
        "\u23aa              h\u22c5k      \u23aa\n",
        "\u23a9                       \u23ad"
       ]
      }
     ],
     "prompt_number": 33
    },
    {
     "cell_type": "code",
     "collapsed": false,
     "input": [
      "eqx = x.subs(t,0)+x_p.subs(t,0)-x0\n",
      "eqv = v.subs(t,0)+v_p.subs(t,0)-v0\n",
      "AB = solve((eqx,eqv),(A,B))"
     ],
     "language": "python",
     "metadata": {},
     "outputs": [],
     "prompt_number": 37
    },
    {
     "cell_type": "code",
     "collapsed": false,
     "input": [
      "xh = x.subs(AB).subs(t,h)\n",
      "vh = v.subs(AB).subs(t,h)"
     ],
     "language": "python",
     "metadata": {},
     "outputs": [],
     "prompt_number": 38
    },
    {
     "cell_type": "code",
     "collapsed": false,
     "input": [
      "for i, r in enumerate((xh, vh)):\n",
      "    for j, s in enumerate((x0, v0, p0, dp)):\n",
      "        print_fcode(r.diff(s).simplify(), \n",
      "                    source_format='free',\n",
      "                    assign_to=\"A[%d,%d]\"%(i,j))\n",
      "    print"
     ],
     "language": "python",
     "metadata": {},
     "outputs": [
      {
       "output_type": "stream",
       "stream": "stdout",
       "text": [
        "A[0,0] = (omega_d*cos(h*omega_d) + omega_n*z*sin(h*omega_d))*exp(-h* &\n",
        "      omega_n*z)/omega_d\n",
        "A[0,1] = exp(-h*omega_n*z)*sin(h*omega_d)/omega_d\n",
        "A[0,2] = -(omega_d*cos(h*omega_d) + omega_n*z*sin(h*omega_d))*exp(-h* &\n",
        "      omega_n*z)/(k*omega_d)"
       ]
      },
      {
       "output_type": "stream",
       "stream": "stdout",
       "text": [
        "\n",
        "A[0,3] = (c*omega_d*cos(h*omega_d) + (c*omega_n*z - k)*sin(h*omega_d))* &\n",
        "      exp(-h*omega_n*z)/(h*k**2*omega_d)"
       ]
      },
      {
       "output_type": "stream",
       "stream": "stdout",
       "text": [
        "\n",
        "\n",
        "A[1,0] = -(omega_d**2 + omega_n**2*z**2)*exp(-h*omega_n*z)*sin(h*omega_d &\n",
        "      )/omega_d"
       ]
      },
      {
       "output_type": "stream",
       "stream": "stdout",
       "text": [
        "\n",
        "A[1,1] = (omega_d*cos(h*omega_d) - omega_n*z*sin(h*omega_d))*exp(-h* &\n",
        "      omega_n*z)/omega_d"
       ]
      },
      {
       "output_type": "stream",
       "stream": "stdout",
       "text": [
        "\n",
        "A[1,2] = (omega_d**2 + omega_n**2*z**2)*exp(-h*omega_n*z)*sin(h*omega_d) &\n",
        "      /(k*omega_d)"
       ]
      },
      {
       "output_type": "stream",
       "stream": "stdout",
       "text": [
        "\n",
        "A[1,3] = (-c*omega_d**2*sin(h*omega_d) - c*omega_n**2*z**2*sin(h*omega_d &\n",
        "      ) - k*omega_d*cos(h*omega_d) + k*omega_n*z*sin(h*omega_d))*exp(-h &\n",
        "      *omega_n*z)/(h*k**2*omega_d)"
       ]
      },
      {
       "output_type": "stream",
       "stream": "stdout",
       "text": [
        "\n",
        "\n"
       ]
      }
     ],
     "prompt_number": 39
    },
    {
     "cell_type": "code",
     "collapsed": false,
     "input": [
      "xh.expand().diff(dp).simplify()"
     ],
     "language": "python",
     "metadata": {},
     "outputs": [
      {
       "latex": [
        "$$\\frac{e^{- h \\omega_{n} z}}{h k^{2} \\omega_{d}} \\left(c \\omega_{d} \\cos{\\left (h \\omega_{d} \\right )} + c \\omega_{n} z \\sin{\\left (h \\omega_{d} \\right )} - k \\sin{\\left (h \\omega_{d} \\right )}\\right)$$"
       ],
       "metadata": {},
       "output_type": "pyout",
       "png": "[encoded data removed]",
       "prompt_number": 49,
       "text": [
        "                                                        -h\u22c5\u03c9_n\u22c5z\n",
        "(c\u22c5\u03c9_d\u22c5cos(h\u22c5\u03c9_d) + c\u22c5\u03c9_n\u22c5z\u22c5sin(h\u22c5\u03c9_d) - k\u22c5sin(h\u22c5\u03c9_d))\u22c5\u212f        \n",
        "\u2500\u2500\u2500\u2500\u2500\u2500\u2500\u2500\u2500\u2500\u2500\u2500\u2500\u2500\u2500\u2500\u2500\u2500\u2500\u2500\u2500\u2500\u2500\u2500\u2500\u2500\u2500\u2500\u2500\u2500\u2500\u2500\u2500\u2500\u2500\u2500\u2500\u2500\u2500\u2500\u2500\u2500\u2500\u2500\u2500\u2500\u2500\u2500\u2500\u2500\u2500\u2500\u2500\u2500\u2500\u2500\u2500\u2500\u2500\u2500\u2500\u2500\u2500\u2500\n",
        "                               2                                \n",
        "                            h\u22c5k \u22c5\u03c9_d                            "
       ]
      }
     ],
     "prompt_number": 49
    },
    {
     "cell_type": "code",
     "collapsed": false,
     "input": [
      ".sim"
     ],
     "language": "python",
     "metadata": {},
     "outputs": []
    }
   ],
   "metadata": {}
  }
 ]
}