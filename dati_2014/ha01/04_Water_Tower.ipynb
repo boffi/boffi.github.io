{
 "metadata": {
  "name": "",
  "signature": "sha256:095b4457166d4fdaf4bac4e0d414ab2baa1f63bd3d8a6d06644e76e0e27e16f2"
 },
 "nbformat": 3,
 "nbformat_minor": 0,
 "worksheets": [
  {
   "cells": [
    {
     "cell_type": "raw",
     "metadata": {},
     "source": [
      "\\iffalse"
     ]
    },
    {
     "cell_type": "code",
     "collapsed": false,
     "input": [
      "from scipy import *\n",
      "from scipy.integrate import quad\n",
      "\n",
      "from IPython.core.display import HTML\n",
      "def css_styling():\n",
      "    styles = open(\"custom.css\", \"r\").read()\n",
      "    return HTML(styles)\n",
      "css_styling()"
     ],
     "language": "python",
     "metadata": {},
     "outputs": [
      {
       "html": [
        "<style>\n",
        "    @font-face {\n",
        "        font-family: \"Computer Modern\";\n",
        "        src: url('http://mirrors.ctan.org/fonts/cm-unicode/fonts/otf/cmunss.otf');\n",
        "    }\n",
        "    div.cell{\n",
        "        width:800px;\n",
        "        margin-left:10% !important;\n",
        "        margin-right:auto;\n",
        "    }\n",
        "    h1 {\n",
        "        font-family: Candara, Cambria, serif;\n",
        "    }\n",
        "    h2 { text-align:center; }\n",
        "    h4{\n",
        "        margin-top:12px;\n",
        "        margin-bottom: 3px;\n",
        "       }\n",
        "    div.text_cell_render{\n",
        "        font-family: Candara, Calibri, Trebuchet, Geneva, sans-serif;\n",
        "        line-height: 155%;\n",
        "        font-size: 130%;\n",
        "        width:800px;\n",
        "        margin-left:auto;\n",
        "        margin-right:auto;\n",
        "    }\n",
        "    .CodeMirror{\n",
        "            background-color: #FDFCFF;\n",
        "            font-family:\"Aurulent Sans Mono\",\"Source Code Pro\", source-code-pro,Consolas, monospace;\n",
        "    }\n",
        "    .prompt{\n",
        "        display: None;\n",
        "    }\n",
        "    .text_cell_render h5 {\n",
        "        font-weight: 300;\n",
        "        font-size: 16pt;\n",
        "        color: #3035A1;\n",
        "        font-style: italic;\n",
        "        margin-bottom: .5em;\n",
        "        margin-top: 0.5em;\n",
        "        display: block;\n",
        "    }\n",
        "    \n",
        "    .warning{\n",
        "        color: rgb( 240, 20, 20 )\n",
        "        }  \n",
        "\n",
        "    BODY {background-color: rgb( 252, 255, 220 )}\n",
        "\n",
        "</style>\n",
        "<script>\n",
        "    MathJax.Hub.Config({\n",
        "                        TeX: {\n",
        "                           extensions: [\"AMSmath.js\"]\n",
        "                           },\n",
        "                tex2jax: {\n",
        "                    inlineMath: [ ['$','$'], [\"\\\\(\",\"\\\\)\"] ],\n",
        "                    displayMath: [ ['$$','$$'], [\"\\\\[\",\"\\\\]\"] ]\n",
        "                },\n",
        "                displayAlign: 'center', // Change this to 'center' to center equations.\n",
        "                \"HTML-CSS\": {\n",
        "                    styles: {'.MathJax_Display': {\"margin\": 4}}\n",
        "                }\n",
        "        });\n",
        "</script>\n"
       ],
       "metadata": {},
       "output_type": "pyout",
       "prompt_number": 2,
       "text": [
        "<IPython.core.display.HTML at 0x7faf800220d0>"
       ]
      },
      {
       "output_type": "stream",
       "stream": "stdout",
       "text": [
        "\n"
       ]
      }
     ],
     "prompt_number": 2
    },
    {
     "cell_type": "raw",
     "metadata": {},
     "source": [
      "\\fi"
     ]
    },
    {
     "cell_type": "heading",
     "level": 1,
     "metadata": {},
     "source": [
      "The water tower"
     ]
    },
    {
     "cell_type": "markdown",
     "metadata": {},
     "source": [
      "The tower is in reinforced concrete,"
     ]
    },
    {
     "cell_type": "code",
     "collapsed": false,
     "input": [
      "g  = 2500.0\n",
      "E  = 30E9\n",
      "g0 = 9.80665 # standard acceleration of gravity"
     ],
     "language": "python",
     "metadata": {},
     "outputs": [],
     "prompt_number": 3
    },
    {
     "cell_type": "markdown",
     "metadata": {},
     "source": [
      "the heigth of the tower `H` and the lumped mass `M` at its top (representing the\n",
      "mass of the tank and of its content) are respectively"
     ]
    },
    {
     "cell_type": "code",
     "collapsed": false,
     "input": [
      "H = 45.0\n",
      "M = 1.2E6"
     ],
     "language": "python",
     "metadata": {},
     "outputs": [],
     "prompt_number": 4
    },
    {
     "cell_type": "markdown",
     "metadata": {},
     "source": [
      "the cross-section is annular, the outer radius varies linearly from `R0` to `RH`\n",
      "and the thickness varies linearly from `T0` to `TH`"
     ]
    },
    {
     "cell_type": "code",
     "collapsed": false,
     "input": [
      "R0 = 3.20 ; RH = 2.40\n",
      "T0 = 0.25 ; TH = 0.20"
     ],
     "language": "python",
     "metadata": {},
     "outputs": [],
     "prompt_number": 5
    },
    {
     "cell_type": "markdown",
     "metadata": {},
     "source": [
      "We can define the radius, the thickness, the cross section area and flexural\n",
      "inertia of the section as functions of the vertical coordinate `z`,"
     ]
    },
    {
     "cell_type": "code",
     "collapsed": false,
     "input": [
      "def R(z):\n",
      "    return R0+(RH-R0)*z/H\n",
      "\n",
      "def T(z):\n",
      "    return T0+(TH-T0)*z/H\n",
      "\n",
      "def A(z):\n",
      "    t = T(z)\n",
      "    return pi*(2*t*R(z)-t*t)\n",
      "\n",
      "def J(z):\n",
      "    r_ext = R(z)\n",
      "    r_int = r_ext - T(z)\n",
      "    return pi/4*(r_ext**4-r_int**4)"
     ],
     "language": "python",
     "metadata": {},
     "outputs": [],
     "prompt_number": 6
    },
    {
     "cell_type": "heading",
     "level": 2,
     "metadata": {},
     "source": [
      "Total mass of the beam"
     ]
    },
    {
     "cell_type": "markdown",
     "metadata": {},
     "source": [
      "We are ready to compute the total mass of the beam and to print aside of the lumped mass, so that we can judge the relevance of the distributed mass on our results.\n",
      "\n",
      "To compute the beam mass, `mass`, we have to integrate $\\gamma A(z)\\,\\text{d}z$\n",
      "over the length of the beam. To this purpose we use the library function\n",
      "`quad` that has 3 mandatory arguments:\n",
      "\n",
      "  1. a function, library or user defined, to be numerically integrated,\n",
      "  2. the lower limit of the interval of integration,\n",
      "  3. the upper limit of the interval of integration.\n",
      "\n",
      "The integrand is here _defined on the spot_ using the `lambda` syntax\n",
      "(in `matlab` it is `@` syntax).\n",
      "\n",
      "Note that the function `quad` returns both the definite integral value\n",
      "and an estimate of the error, and that we discard the error estimate\n",
      "by assigning it to the dummy variable `_`."
     ]
    },
    {
     "cell_type": "code",
     "collapsed": false,
     "input": [
      "mass, _ = quad(lambda z:A(z)*g, 0, H)\n",
      "print M, mass\n",
      "print mass/M"
     ],
     "language": "python",
     "metadata": {},
     "outputs": [
      {
       "output_type": "stream",
       "stream": "stdout",
       "text": [
        "1200000.0 429710.970149\n",
        "0.358092475124\n"
       ]
      }
     ],
     "prompt_number": 7
    },
    {
     "cell_type": "markdown",
     "metadata": {},
     "source": [
      "The mass of the beam represent a significant fraction of the lumped mass,\n",
      "we can expect a small, but significant correction from the naive estimate \n",
      "$\\omega^2 \\approx EJ/3ML^3$"
     ]
    },
    {
     "cell_type": "heading",
     "level": 1,
     "metadata": {},
     "source": [
      "Choice of the shape function"
     ]
    },
    {
     "cell_type": "markdown",
     "metadata": {},
     "source": [
      "I will simply use the one-minus-quarter-cosine shape function, no discussion, sorry...\n",
      "\n",
      "\\begin{align}\n",
      "    \\psi(z)   & = 1 - \\cos\\left(\\frac\\pi2\\frac zH\\right),\\\\\n",
      "    \\psi'(z)  & = \\frac\\pi{2H} \\sin\\left(\\frac\\pi2\\frac zH\\right),\n",
      "    &\\delta(z) &= \\int_0^z \\psi'^2(s) ds = \n",
      "    \\frac18\\frac\\pi H\\left(\\frac\\pi H z- \\sin\\left(\\frac\\pi Hz\\right)\\right),\\\\\n",
      "    \\psi''(z) & = \\frac{\\pi^2}{4H^2} \\cos\\left(\\frac\\pi2\\frac zH\\right).\n",
      "\\end{align}"
     ]
    },
    {
     "cell_type": "heading",
     "level": 3,
     "metadata": {},
     "source": [
      "Definitions"
     ]
    },
    {
     "cell_type": "markdown",
     "metadata": {},
     "source": [
      "We define here the shape function and its derivatives \n",
      "in terms of `Z`, a constant proportional to the wave length.\n",
      "\n",
      "While we're at it, \n",
      "$\\int_0^z \\psi'^2(s)\\,\\text{d}s= \\frac{\\pi}{8H} \\left(\\frac\\pi{H}z \n",
      "    - \\sin\\left(\\frac\\pi{H}z\\right)\\right)$\n",
      "is the increment of vertical displacement at quote `z` for a unit $\\delta Z_0$."
     ]
    },
    {
     "cell_type": "code",
     "collapsed": false,
     "input": [
      "Z = 2*H/pi\n",
      "\n",
      "def psi0(z): return 1-cos(z/Z)\n",
      "def psi1(z): return sin(z/Z)/Z\n",
      "def psi2(z): return cos(z/Z)/Z/Z\n",
      "def de_u(z):  return pi*(-sin(pi*z/H) + pi*z/H)/(8*H)"
     ],
     "language": "python",
     "metadata": {},
     "outputs": [],
     "prompt_number": 8
    },
    {
     "cell_type": "heading",
     "level": 1,
     "metadata": {},
     "source": [
      "Generalised properties"
     ]
    },
    {
     "cell_type": "markdown",
     "metadata": {},
     "source": [
      "We compute the generalized mass and stiffness, and also the contributions to the geometric stiffness due to the lumped mass\n",
      "and the distributed mass"
     ]
    },
    {
     "cell_type": "code",
     "collapsed": false,
     "input": [
      "mstar = quad(lambda z: psi0(z)**2*A(z)*g, 0, H)[0]\n",
      "kstar = quad(lambda z: psi2(z)**2*E*J(z), 0, H)[0]\n",
      "kgeoM = quad(lambda z: psi1(z)**2,        0, H)[0]*M*g0\n",
      "kgeom = quad(lambda z: de_u(z)*A(z)*g,    0, H)[0]*g0"
     ],
     "language": "python",
     "metadata": {},
     "outputs": [],
     "prompt_number": 9
    },
    {
     "cell_type": "heading",
     "level": 1,
     "metadata": {},
     "source": [
      "Results"
     ]
    },
    {
     "cell_type": "markdown",
     "metadata": {},
     "source": [
      "Using a helper function, we display the results in terms of eigenvalues, frequencies, periods under different assumptions\n",
      "regarding the geometrical stiffness"
     ]
    },
    {
     "cell_type": "code",
     "collapsed": false,
     "input": [
      "def pr_res(s,w2):\n",
      "    wn = sqrt(w2)\n",
      "    fn = wn/2/pi\n",
      "    Tn = 1.0/fn\n",
      "    print \"%36s%12.6f%8.5f%8.5f%8.5f\" % (s, w2, wn, fn, Tn)\n",
      "    return None\n",
      "\n",
      "print\n",
      "print \"                 k*:\", kstar,\"N/m\"\n",
      "print \"                 m*:\", mstar,\"kg\"\n",
      "print \"                  M:    \", M,\"kg\"\n",
      "print \"           k_G*M*g0:\", kgeoM,\"N/m\"\n",
      "print \"    g0 \\int de_u dm: \", kgeom,\"N/m\"\n",
      "\n",
      "print\n",
      "print \" \"*39+\"      w^2 \"+\"      w \"+\"      f \"+\"      T\"\n",
      "pr_res(\"k*/M \", kstar/M)\n",
      "pr_res(\"k*/(M+m*)\", kstar/(M+mstar))\n",
      "pr_res(\"(k*-kg*M*g0)/(M+m*)\", (kstar-kgeoM)/(M+mstar))\n",
      "pr_res(\"(k*-kg M g0-\\\\int(kg dm)g0)/(M+m*)\", (kstar-kgeoM-kgeom)/(M+mstar))"
     ],
     "language": "python",
     "metadata": {},
     "outputs": [
      {
       "output_type": "stream",
       "stream": "stdout",
       "text": [
        "\n",
        "                 k*: 17347995.0148 N/m\n",
        "                 m*: 81844.8215573 kg\n",
        "                  M:     1200000.0 kg\n",
        "           k_G*M*g0: 322625.853333 N/m\n",
        "    g0 \\int de_u dm:  29517.750381 N/m\n",
        "\n",
        "                                             w^2       w       f       T \n",
        "                               k*/M    14.456663 3.80219 0.60514 1.65252\n",
        "                           k*/(M+m*)   13.533616 3.67881 0.58550 1.70794\n",
        "                 (k*-kg*M*g0)/(M+m*)   13.281927 3.64444 0.58003 1.72405\n",
        "   (k*-kg M g0-\\int(kg dm)g0)/(M+m*)   13.258899 3.64128 0.57953 1.72554\n"
       ]
      }
     ],
     "prompt_number": 15
    },
    {
     "cell_type": "heading",
     "level": 2,
     "metadata": {},
     "source": [
      "Comments"
     ]
    },
    {
     "cell_type": "markdown",
     "metadata": {},
     "source": [
      "We have a large dependency of $\\omega^2$ on the account of distributed mass, a small but not negligible dependency\n",
      "on the geometrical stiffness associated with the weight of the lumped mass and a very small dependency on the geometrical stiffness\n",
      "associated with the distributed weight of the beam"
     ]
    }
   ],
   "metadata": {}
  }
 ]
}