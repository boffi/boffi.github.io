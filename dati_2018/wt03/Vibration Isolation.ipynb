{
 "cells": [
  {
   "cell_type": "markdown",
   "metadata": {},
   "source": [
    "# Vibration Isolation\n",
    "\n",
    "## Imports"
   ]
  },
  {
   "cell_type": "code",
   "execution_count": 1,
   "metadata": {},
   "outputs": [],
   "source": [
    "from math import *\n",
    "from scipy.optimize import newton"
   ]
  },
  {
   "cell_type": "markdown",
   "metadata": {},
   "source": [
    "## Problem Data"
   ]
  },
  {
   "cell_type": "code",
   "execution_count": 2,
   "metadata": {},
   "outputs": [],
   "source": [
    "M = 1200.000\n",
    "f_max = 400\n",
    "freq = 20.0\n",
    "# max of Transmitted Force \n",
    "max_tf = 150"
   ]
  },
  {
   "cell_type": "markdown",
   "metadata": {},
   "source": [
    "### Derived data, summary"
   ]
  },
  {
   "cell_type": "code",
   "execution_count": 3,
   "metadata": {},
   "outputs": [
    {
     "name": "stdout",
     "output_type": "stream",
     "text": [
      "                  Machine Mass = 1200.000000 kg\n",
      "              Unbalanced Force = 400.000000 N\n",
      "             Force's Frequency = 20.000000 Hz\n",
      "            Circular Frequency = 125.663706 rad/s\n",
      "         Max Transmitted Force = 150.000000 N\n",
      "    Transmissibility Ratio, TR = 0.375000 \n"
     ]
    }
   ],
   "source": [
    "omega = freq*2*pi\n",
    "TR = max_tf/f_max\n",
    "fmt = '%30s = %f %s'\n",
    "print(fmt%('Machine Mass', M, 'kg'))\n",
    "print(fmt%('Unbalanced Force', f_max, 'N'))\n",
    "print(fmt%('Force\\'s Frequency', freq, 'Hz'))\n",
    "print(fmt%('Circular Frequency', omega, 'rad/s'))\n",
    "print(fmt%('Max Transmitted Force', max_tf, 'N'))\n",
    "print(fmt%('Transmissibility Ratio, TR', TR, ''))"
   ]
  },
  {
   "cell_type": "markdown",
   "metadata": {},
   "source": [
    "## Undamped Case"
   ]
  },
  {
   "cell_type": "code",
   "execution_count": 4,
   "metadata": {},
   "outputs": [
    {
     "name": "stdout",
     "output_type": "stream",
     "text": [
      "                   β² undamped = 3.666667 (rad/s)²\n",
      "          Suspension Stiffness = 5.168084 kN/mm\n",
      "            Suspension Damping = 0.000000 N/(mm/s)\n"
     ]
    }
   ],
   "source": [
    "# undamped, TR = 1/(β²-1) ⇒ β² TR = 1+TR ⇒ β² = (1+TR)/TR\n",
    "#           β² = ω²/(K/M) ⇒ K = ω²M/β² = ω²M TR/(1+TR)\n",
    "beta2_und = (1+TR)/TR\n",
    "K_und = omega*omega*M*TR/(1+TR)\n",
    "print(fmt%('β² undamped', beta2_und, '(rad/s)²'))\n",
    "print(fmt%('Suspension Stiffness', K_und/1E6, 'kN/mm'))\n",
    "print(fmt%('Suspension Damping', 0.0, 'N/(mm/s)'))"
   ]
  },
  {
   "cell_type": "markdown",
   "metadata": {},
   "source": [
    "## Damped Case"
   ]
  },
  {
   "cell_type": "code",
   "execution_count": 5,
   "metadata": {},
   "outputs": [
    {
     "name": "stdout",
     "output_type": "stream",
     "text": [
      "                     β² damped = 3.913533 (rad/s)²\n",
      "          Suspension Stiffness = 4.842080 kN/mm\n",
      "            Suspension Damping = 18.294386 N/(mm/s)\n"
     ]
    }
   ],
   "source": [
    "z = 0.12\n",
    "# damped, TR = sqrt(1+4ζ²β²)/sqrt((1-β²)²+4ζ²β²) ⇒\n",
    "#                 ⇒ (1+4ζ²β²)/((1-β²)²+4ζ²β²) - TR² = 0\n",
    "f = lambda b2: (1+4*z**2*b2)/((1-b2)**2+4*z**2*b2)-TR**2\n",
    "beta2_dam = newton(f, beta2_und)\n",
    "K_dam = M*omega**2/beta2_dam\n",
    "dam = 2*z*sqrt(M*K_dam)\n",
    "print(fmt%('β² damped', beta2_dam, '(rad/s)²'))\n",
    "print(fmt%('Suspension Stiffness', K_dam/1E6, 'kN/mm'))\n",
    "print(fmt%('Suspension Damping', dam/1E3, 'N/(mm/s)'))"
   ]
  },
  {
   "cell_type": "markdown",
   "metadata": {},
   "source": [
    "## Dissipated Energy\n",
    "\n",
    "The dissipated energy per cycle is `0` when the system is undamped, it is equal (see the margin figure) to $\\pi \\times x_\\text{max} \\times f_{D,\\,\\text{max}}$ for the damped system."
   ]
  },
  {
   "cell_type": "code",
   "execution_count": 6,
   "metadata": {},
   "outputs": [
    {
     "name": "stdout",
     "output_type": "stream",
     "text": [
      "       Max s-s displacement = 0.02798445768194215 mm\n",
      "           Max s-s velocity = 3.516630666731356 mm/s\n",
      "      Max s-s damping force = 64.33460055342259 N\n",
      "Dissipated energy per cycle = 0.0056560257309519486 J/cycle\n"
     ]
    }
   ],
   "source": [
    "b2 = beta2_dam\n",
    "K = K_dam\n",
    "\n",
    "dyn_amp_fac = 1/sqrt((1-b2)**2+4*z**2*b2)\n",
    "x_max = f_max/K_dam * dyn_amp_fac\n",
    "v_max = x_max * omega\n",
    "f_dmax = v_max * dam\n",
    "\n",
    "print('       Max s-s displacement =', x_max*1000, 'mm')\n",
    "print('           Max s-s velocity =', v_max*1000, 'mm/s')\n",
    "print('      Max s-s damping force =', f_dmax, 'N')\n",
    "print('Dissipated energy per cycle =', pi*x_max*f_dmax, 'J/cycle')"
   ]
  }
 ],
 "metadata": {
  "kernelspec": {
   "display_name": "Python 3",
   "language": "python",
   "name": "python3"
  },
  "language_info": {
   "codemirror_mode": {
    "name": "ipython",
    "version": 3
   },
   "file_extension": ".py",
   "mimetype": "text/x-python",
   "name": "python",
   "nbconvert_exporter": "python",
   "pygments_lexer": "ipython3",
   "version": "3.6.6"
  }
 },
 "nbformat": 4,
 "nbformat_minor": 2
}
