{
 "cells": [
  {
   "cell_type": "markdown",
   "metadata": {},
   "source": [
    "# 2 DoF System\n",
    "Here it is the problem statement in a single figure... beams are uniform, slender and massless, the dynamic degrees of freedom are the masses' vertical displacements but we need also the upper right rotation to take into account the external couple that excites the system.\n",
    "\n",
    "![](figures/trab01_conv.svg)\n",
    "\n",
    "Let's start with a few imports"
   ]
  },
  {
   "cell_type": "code",
   "execution_count": 4,
   "metadata": {},
   "outputs": [],
   "source": [
    "%matplotlib inline\n",
    "import matplotlib.pyplot as plt\n",
    "import numpy as np\n",
    "from scipy.linalg import eigh\n",
    "from IPython.display import Latex, HTML"
   ]
  },
  {
   "cell_type": "markdown",
   "metadata": {},
   "source": [
    "Next, we define some helper functions, `p` deals with creating polynomial objects, `i` given two polys and a length computes the definite integral of the polys' product, `pmat` formats a 2D array object for MathJax diplay and finally `dl` is an helper to actually display mathematical expressions using MJ."
   ]
  },
  {
   "cell_type": "code",
   "execution_count": 2,
   "metadata": {},
   "outputs": [],
   "source": [
    "def p(*l):\n",
    "    'wrapper around poly1d class to modify call syntax'\n",
    "    return np.poly1d(l)\n",
    "\n",
    "def i(p,q,l):\n",
    "    '''computes definite integral of p*q from 0 to l\n",
    "    p and q are instances of poly1d class'''\n",
    "    pqi = (p*q).integ()\n",
    "    return pqi(l)-pqi(0)\n",
    "\n",
    "def pmat(mat, fmt='%.3f'):\n",
    "    'returns a LaTeX string representing a 2D array'\n",
    "    inside =  r'\\\\'.join('&'.join(fmt%x for x in row) for row in mat)\n",
    "    return r'\\begin{bmatrix}'+inside+r'\\end{bmatrix}'\n",
    "\n",
    "def dl(s):\n",
    "    'rich display a LaTeX string (surrounded by \"$$\")'\n",
    "    display(Latex('$$'+s+'$$'))"
   ]
  },
  {
   "cell_type": "markdown",
   "metadata": {},
   "source": [
    "We want to compute the 3x3 flexibility, next the 3x3 stiffness and the 2x2 stiffness plus the effects of the external load on the eq.s of equilibrium related to the dynamic degrees of freedom.\n",
    "\n",
    "![](figures/bm01_conv.svg)\n",
    "\n",
    "We start collecting the polynomials describing bending moments in a 2D data structure and then computing all the relevant integrals to have the 3x3 flexibility, then it's just following the book..."
   ]
  },
  {
   "cell_type": "code",
   "execution_count": 3,
   "metadata": {},
   "outputs": [
    {
     "data": {
      "text/latex": [
       "$$\\boldsymbol F = \\frac{EJ}{12L^3}\\begin{bmatrix}8.000&4.000&4.000\\\\4.000&4.000&5.000\\\\4.000&5.000&10.000\\end{bmatrix}$$"
      ],
      "text/plain": [
       "<IPython.core.display.Latex object>"
      ]
     },
     "metadata": {},
     "output_type": "display_data"
    }
   ],
   "source": [
    "Ms = [[p(1.0, 0), p(1.0, 0), p(0.0, 0), p( 0.0, 0)],\n",
    "      [p(0.5, 0), p(0.5, 0), p(0.5, 0), p( 0.5, 0)],\n",
    "      [p(0.5, 0), p(0.5, 0), p(0.5, 0), p(-0.5, 1)],\n",
    "     ]\n",
    "Ls = [1, 1, 1, 1]\n",
    "\n",
    "F = np.array([[sum(i(*mcl) for mcl in zip(M, C, Ls))\n",
    "                   for M in Ms] for C in Ms])\n",
    "\n",
    "dl(r'\\boldsymbol F = \\frac{EJ}{12L^3}'+pmat(12*F))\n"
   ]
  },
  {
   "cell_type": "code",
   "execution_count": 17,
   "metadata": {},
   "outputs": [
    {
     "data": {
      "text/html": [
       "<h3>The 3x3 stiffness</h3>"
      ],
      "text/plain": [
       "<IPython.core.display.HTML object>"
      ]
     },
     "metadata": {},
     "output_type": "display_data"
    },
    {
     "data": {
      "text/latex": [
       "$$\\boldsymbol K_{(3,3)} = \\frac{3}{14}\\,\\frac{EJ}{L^3}\\,\\begin{bmatrix}15.000&-20.000&4.000\\\\-20.000&64.000&-24.000\\\\4.000&-24.000&16.000\\end{bmatrix}$$"
      ],
      "text/plain": [
       "<IPython.core.display.Latex object>"
      ]
     },
     "metadata": {},
     "output_type": "display_data"
    },
    {
     "data": {
      "text/html": [
       "<h3>The 2x2 structural matrices</h3>"
      ],
      "text/plain": [
       "<IPython.core.display.HTML object>"
      ]
     },
     "metadata": {},
     "output_type": "display_data"
    },
    {
     "data": {
      "text/latex": [
       "$$\\boldsymbol K = \\frac{EJ}{L^3}\\,\\begin{bmatrix}3.000&-3.000\\\\-3.000&6.000\\end{bmatrix}$$"
      ],
      "text/plain": [
       "<IPython.core.display.Latex object>"
      ]
     },
     "metadata": {},
     "output_type": "display_data"
    },
    {
     "data": {
      "text/latex": [
       "$$\\boldsymbol M = m\\,\\begin{bmatrix}2.000&0.000\\\\0.000&3.000\\end{bmatrix}$$"
      ],
      "text/plain": [
       "<IPython.core.display.Latex object>"
      ]
     },
     "metadata": {},
     "output_type": "display_data"
    },
    {
     "data": {
      "text/html": [
       "<h3>The nodal loads in terms of the external load</h3>"
      ],
      "text/plain": [
       "<IPython.core.display.HTML object>"
      ]
     },
     "metadata": {},
     "output_type": "display_data"
    },
    {
     "data": {
      "text/latex": [
       "$$\\boldsymbol p(t) =\\begin{bmatrix}-0.250\\\\1.500\\end{bmatrix}\\,W(t)/L$$"
      ],
      "text/plain": [
       "<IPython.core.display.Latex object>"
      ]
     },
     "metadata": {},
     "output_type": "display_data"
    }
   ],
   "source": [
    "K33 = np.linalg.inv(F)\n",
    "\n",
    "Kdd, Kds = K33[:2,:2], K33[:2,2:]\n",
    "Ksd, Kss = K33[2:,:2], K33[2:,2:]\n",
    "\n",
    "display(HTML('<h3>The 3x3 stiffness</h3>'))\n",
    "dl(r'\\boldsymbol K_{(3,3)} = \\frac{3}{14}\\,\\frac{EJ}{L^3}\\,'+pmat(14*K33/3))\n",
    "K = np.linalg.inv(F[:2,:2])\n",
    "display(HTML('<h3>The 2x2 structural matrices</h3>'))\n",
    "dl(r'\\boldsymbol K = \\frac{EJ}{L^3}\\,'+pmat(K))\n",
    "M = np.array(((2,0), (0,3)))\n",
    "dl(r'\\boldsymbol M = m\\,'+pmat(M))\n",
    "display(HTML('<h3>The nodal loads in terms of the external load</h3>'))\n",
    "nodal_forces = -Kds@np.linalg.inv(Kss)\n",
    "dl(r'\\boldsymbol p(t) ='+pmat(nodal_forces)+'\\,W(t)/L')"
   ]
  },
  {
   "cell_type": "markdown",
   "metadata": {},
   "source": [
    "The eigenvalues, the eigenvector matrix (normalized so that $\\boldsymbol\\Psi$ has integer coefficients and it is symmetric) and the modal mass matrix."
   ]
  },
  {
   "cell_type": "code",
   "execution_count": 8,
   "metadata": {},
   "outputs": [
    {
     "data": {
      "text/latex": [
       "$$\\omega^2 = \\omega_0^2\\,\\begin{bmatrix}0.500\\\\3.000\\end{bmatrix}$$"
      ],
      "text/plain": [
       "<IPython.core.display.Latex object>"
      ]
     },
     "metadata": {},
     "output_type": "display_data"
    },
    {
     "data": {
      "text/latex": [
       "$$\\boldsymbol\\Psi = \\begin{bmatrix}3.000&2.000\\\\2.000&-2.000\\end{bmatrix}$$"
      ],
      "text/plain": [
       "<IPython.core.display.Latex object>"
      ]
     },
     "metadata": {},
     "output_type": "display_data"
    },
    {
     "data": {
      "text/latex": [
       "$$\\boldsymbol M^\\star = m\\,\\begin{bmatrix}30.000&-0.000\\\\-0.000&20.000\\end{bmatrix}$$"
      ],
      "text/plain": [
       "<IPython.core.display.Latex object>"
      ]
     },
     "metadata": {},
     "output_type": "display_data"
    }
   ],
   "source": [
    "evals, evecs = eigh(K, M)\n",
    "dl(r'\\omega^2 = \\omega_0^2\\,'+pmat(evals[:,None]))\n",
    "evecs[:,0] /= evecs[1,0]\n",
    "evecs[:,1] /= evecs[0,1]\n",
    "evecs *= 2\n",
    "dl(r'\\boldsymbol\\Psi = '+pmat(evecs))\n",
    "\n",
    "Mstar = evecs.T@M@evecs\n",
    "dl(r'\\boldsymbol M^\\star = m\\,' +pmat(Mstar))"
   ]
  },
  {
   "cell_type": "markdown",
   "metadata": {},
   "source": [
    "Now the modal forces, note that these are _normalized_ with respect to the modal masses, so that we can simplify the appearance of the modal eq.s of equilibrium"
   ]
  },
  {
   "cell_type": "code",
   "execution_count": 22,
   "metadata": {},
   "outputs": [
    {
     "data": {
      "text/latex": [
       "$$\\boldsymbol p^\\star =\\begin{bmatrix}0.075\\\\-0.175\\end{bmatrix}\\,\\frac{W(t)}{mL} =\\begin{bmatrix}0.075\\\\-0.175\\end{bmatrix}\\Delta \\frac{EJ}{mL^3}\\sin2\\omega_0t$$"
      ],
      "text/plain": [
       "<IPython.core.display.Latex object>"
      ]
     },
     "metadata": {},
     "output_type": "display_data"
    }
   ],
   "source": [
    "modal_forces = np.linalg.inv(Mstar)@evecs.T@nodal_forces\n",
    "dl(r'\\boldsymbol p^\\star ='+pmat(modal_forces)+r'\\,\\frac{W(t)}{mL} =' +\n",
    "   pmat(modal_forces) +\n",
    "  r'\\Delta \\frac{EJ}{mL^3}\\sin2\\omega_0t =' + )"
   ]
  },
  {
   "cell_type": "markdown",
   "metadata": {},
   "source": [
    "And here the modal eq.s of equilibrium"
   ]
  },
  {
   "cell_type": "code",
   "execution_count": 23,
   "metadata": {},
   "outputs": [
    {
     "data": {
      "text/html": [
       "<h2>Modal equation of motion</h2>"
      ],
      "text/plain": [
       "<IPython.core.display.HTML object>"
      ]
     },
     "metadata": {},
     "output_type": "display_data"
    },
    {
     "data": {
      "text/latex": [
       "$$\\, \\ddot q_1 + 0.500\\, \\omega_0^2\\, q_1 = +0.075\\Delta \\omega_0^2\\sin(2\\omega_0t)$$"
      ],
      "text/plain": [
       "<IPython.core.display.Latex object>"
      ]
     },
     "metadata": {},
     "output_type": "display_data"
    },
    {
     "data": {
      "text/latex": [
       "$$\\, \\ddot q_2 + 3.000\\, \\omega_0^2\\, q_2 = -0.175\\Delta \\omega_0^2\\sin(2\\omega_0t)$$"
      ],
      "text/plain": [
       "<IPython.core.display.Latex object>"
      ]
     },
     "metadata": {},
     "output_type": "display_data"
    }
   ],
   "source": [
    "display(HTML('<h2>Modal equation of motion</h2>'))\n",
    "for j in (0, 1):\n",
    "    i = j+1\n",
    "    dl(r'\\, \\ddot q_%d + %.3f\\, \\omega_0^2\\, q_%d = %+.3f\\Delta \\omega_0^2\\sin(2\\omega_0t)'%\n",
    "      (i,evals[j],i,modal_forces[j,0]))"
   ]
  },
  {
   "cell_type": "code",
   "execution_count": 16,
   "metadata": {},
   "outputs": [
    {
     "data": {
      "text/html": [
       "<h3>Modal frequencies</h3>"
      ],
      "text/plain": [
       "<IPython.core.display.HTML object>"
      ]
     },
     "metadata": {},
     "output_type": "display_data"
    },
    {
     "data": {
      "text/latex": [
       "$$\\omega_1=0.707107\\omega_0,\\qquad\\omega_2=1.732051\\omega_0.$$"
      ],
      "text/plain": [
       "<IPython.core.display.Latex object>"
      ]
     },
     "metadata": {},
     "output_type": "display_data"
    }
   ],
   "source": [
    "freqs = np.sqrt(evals)\n",
    "display(HTML('<h3>Modal frequencies</h3>'))    \n",
    "dl(',\\\\qquad'.join(r'\\omega_%d=%.6f\\omega_0'%(i+1, freq) for i, freq in enumerate(freqs))+'.')"
   ]
  },
  {
   "cell_type": "markdown",
   "metadata": {},
   "source": [
    "The excitation is sinusoidal with frequency $\\omega=2\\omega_0$, so it is the particular integral, $\\xi_i = C_i\\sin2\\omega_0t$. Substituting in the modal equations LHS we have \n",
    "$$ \\xi_i(t) = \\frac{p^\\star_i(t)}{(\\lambda_i^2-2^2)\\,\\omega_0^2}$$"
   ]
  },
  {
   "cell_type": "code",
   "execution_count": 24,
   "metadata": {},
   "outputs": [
    {
     "data": {
      "text/html": [
       "<h2>Particular Integrals</h2>"
      ],
      "text/plain": [
       "<IPython.core.display.HTML object>"
      ]
     },
     "metadata": {},
     "output_type": "display_data"
    },
    {
     "data": {
      "text/latex": [
       "$$\\xi_1(t) = -0.021429\\,\\Delta\\,\\sin(2\\omega_0t)$$"
      ],
      "text/plain": [
       "<IPython.core.display.Latex object>"
      ]
     },
     "metadata": {},
     "output_type": "display_data"
    },
    {
     "data": {
      "text/latex": [
       "$$\\xi_2(t) = +0.175000\\,\\Delta\\,\\sin(2\\omega_0t)$$"
      ],
      "text/plain": [
       "<IPython.core.display.Latex object>"
      ]
     },
     "metadata": {},
     "output_type": "display_data"
    }
   ],
   "source": [
    "display(HTML('<h2>Particular Integrals</h2>'))\n",
    "c = modal_forces.flatten()/(evals-4)\n",
    "for j in (0, 1):\n",
    "    i = j+1\n",
    "    dl(r'\\xi_%d(t) = %+.6f\\,\\Delta\\,\\sin(2\\omega_0t)'%(i, c[j]))"
   ]
  },
  {
   "cell_type": "markdown",
   "metadata": {},
   "source": [
    "The modal responses are given by the superposition of the particular integral and the homogeneous solution, where the constants of integration are chosen to fit the initial conditions.  For a sinusoidal p.i. and rest initial conditions, it is well known that $$q_i=C_i\\big(sin\\omega t - (\\sin\\omega_it)\\omega/\\omega_i)\\big)$$"
   ]
  },
  {
   "cell_type": "code",
   "execution_count": 27,
   "metadata": {},
   "outputs": [
    {
     "data": {
      "text/html": [
       "<h2>Modal Responses</h2>"
      ],
      "text/plain": [
       "<IPython.core.display.HTML object>"
      ]
     },
     "metadata": {},
     "output_type": "display_data"
    },
    {
     "data": {
      "text/latex": [
       "$$q_1(t) = \\big(-0.021429\\sin(2\\,\\omega_0t)+0.060609\\sin(0.707107\\,\\omega_0t)\\big)\\Delta$$"
      ],
      "text/plain": [
       "<IPython.core.display.Latex object>"
      ]
     },
     "metadata": {},
     "output_type": "display_data"
    },
    {
     "data": {
      "text/latex": [
       "$$q_2(t) = \\big(+0.175000\\sin(2\\,\\omega_0t)-0.202073\\sin(1.732051\\,\\omega_0t)\\big)\\Delta$$"
      ],
      "text/plain": [
       "<IPython.core.display.Latex object>"
      ]
     },
     "metadata": {},
     "output_type": "display_data"
    }
   ],
   "source": [
    "display(HTML('<h2>Modal Responses</h2>'))\n",
    "a = -2*c/freqs\n",
    "for j in (0, 1):\n",
    "    i = j+1\n",
    "    dl(r'q_%d(t) = \\big(%+.6f\\sin(2\\,\\omega_0t)%+.6f\\sin(%.6f\\,\\omega_0t)\\big)\\Delta' %\n",
    "       (i, c[j], a[j], freqs[j]))\n",
    "    "
   ]
  },
  {
   "cell_type": "markdown",
   "metadata": {},
   "source": [
    "It is now possible to plot the stuff that we have computed, for a time interval grater than what was requested."
   ]
  },
  {
   "cell_type": "code",
   "execution_count": 28,
   "metadata": {},
   "outputs": [
    {
     "data": {
      "image/png": "[encoded data removed]",
      "text/plain": [
       "<Figure size 432x288 with 1 Axes>"
      ]
     },
     "metadata": {},
     "output_type": "display_data"
    },
    {
     "data": {
      "image/png": "[encoded data removed]",
      "text/plain": [
       "<Figure size 432x288 with 1 Axes>"
      ]
     },
     "metadata": {},
     "output_type": "display_data"
    }
   ],
   "source": [
    "# adimensional time vector\n",
    "w0t = np.linspace(0, 6.2831, 201)\n",
    "\n",
    "# Modal responses\n",
    "q1 = c[0]*np.sin(2*w0t)+a[0]*np.sin(freqs[0]*w0t)\n",
    "q2 = c[1]*np.sin(2*w0t)+a[1]*np.sin(freqs[1]*w0t)\n",
    "\n",
    "# Plot the modal responses\n",
    "plt.plot(w0t/np.pi,q1,label='$q_1$')\n",
    "plt.plot(w0t/np.pi,q2,label='$q_2$')\n",
    "plt.legend(loc='best')\n",
    "plt.xlabel(r'$\\omega_0t/\\pi$')\n",
    "plt.ylabel(r'$q_i/\\Delta$')\n",
    "plt.grid()\n",
    "plt.show()\n",
    "\n",
    "# Nodal responses\n",
    "x1 = q1*evecs[0,0]+q2*evecs[0,1]\n",
    "x2 = q1*evecs[1,0]+q2*evecs[1,1]\n",
    "\n",
    "# Plot the nodal responses\n",
    "plt.plot(w0t/np.pi,x1,label='$x_1$')\n",
    "plt.plot(w0t/np.pi,x2,label='$x_2$')\n",
    "plt.legend(loc='best')\n",
    "plt.xlabel(r'$\\omega_0t/\\pi$')\n",
    "plt.ylabel(r'$x_i/\\Delta$')\n",
    "plt.grid()\n",
    "plt.show()"
   ]
  },
  {
   "cell_type": "markdown",
   "metadata": {},
   "source": [
    "The displacement $x_2(\\pi)$ is approximately equal to $-0.2\\Delta$."
   ]
  }
 ],
 "metadata": {
  "kernelspec": {
   "display_name": "Python 3",
   "language": "python",
   "name": "python3"
  },
  "language_info": {
   "codemirror_mode": {
    "name": "ipython",
    "version": 3
   },
   "file_extension": ".py",
   "mimetype": "text/x-python",
   "name": "python",
   "nbconvert_exporter": "python",
   "pygments_lexer": "ipython3",
   "version": "3.6.6"
  }
 },
 "nbformat": 4,
 "nbformat_minor": 2
}
