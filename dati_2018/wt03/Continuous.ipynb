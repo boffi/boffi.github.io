{
 "cells": [
  {
   "cell_type": "markdown",
   "metadata": {},
   "source": [
    "# Continuous System\n",
    "\n",
    "## Imports, stuff"
   ]
  },
  {
   "cell_type": "code",
   "execution_count": 25,
   "metadata": {},
   "outputs": [],
   "source": [
    "from sympy import *\n",
    "init_printing(use_latex=True)\n",
    "from IPython.display import Latex\n",
    "%matplotlib inline"
   ]
  },
  {
   "cell_type": "markdown",
   "metadata": {},
   "source": [
    "## Symbols"
   ]
  },
  {
   "cell_type": "code",
   "execution_count": 38,
   "metadata": {},
   "outputs": [],
   "source": [
    "x, w2 = symbols('x omega^2')\n",
    "L, m, EJ = symbols('L m EJ', positive = True)\n",
    "A, B, C, D, ld, LD = symbols('A B C D lambda Lambda')\n",
    "f, φ = symbols('f phi')"
   ]
  },
  {
   "cell_type": "markdown",
   "metadata": {},
   "source": [
    "## Supported mass and stiffness of support"
   ]
  },
  {
   "cell_type": "code",
   "execution_count": 39,
   "metadata": {},
   "outputs": [],
   "source": [
    "mass_coeff = 8\n",
    "stiff_coeff = 24\n",
    "k = stiff_coeff*EJ/L**3\n",
    "M = mass_coeff*m*L"
   ]
  },
  {
   "cell_type": "markdown",
   "metadata": {},
   "source": [
    "## General solution and its derivatives"
   ]
  },
  {
   "cell_type": "code",
   "execution_count": 40,
   "metadata": {},
   "outputs": [
    {
     "data": {
      "image/png": "[encoded data removed]",
      "text/latex": [
       "$$\\phi = A \\cos{\\left (\\lambda x \\right )} + B \\sin{\\left (\\lambda x \\right )} + C \\cosh{\\left (\\lambda x \\right )} + D \\sinh{\\left (\\lambda x \\right )}$$"
      ],
      "text/plain": [
       "φ = A⋅cos(λ⋅x) + B⋅sin(λ⋅x) + C⋅cosh(λ⋅x) + D⋅sinh(λ⋅x)"
      ]
     },
     "metadata": {},
     "output_type": "display_data"
    }
   ],
   "source": [
    "f0 = A*cos(ld*x) + B*sin(ld*x) + C*cosh(ld*x) + D*sinh(ld*x)\n",
    "f1 = f0.diff(x)\n",
    "f2 = f1.diff(x)\n",
    "f3 = f2.diff(x)\n",
    "display(Eq(φ,f0))"
   ]
  },
  {
   "cell_type": "markdown",
   "metadata": {},
   "source": [
    "### Left boundary conditions\n",
    "The eigenfunction and its second derivative must be zero when `0` is substituted for `x`, we solve for `A` and `C` and put the solution in the variable `AC`.\n",
    "We substitute our solution in the eigenfunctions and all of its derivatives."
   ]
  },
  {
   "cell_type": "code",
   "execution_count": 41,
   "metadata": {},
   "outputs": [
    {
     "data": {
      "image/png": "[encoded data removed]",
      "text/latex": [
       "$$\\phi = B \\sin{\\left (\\lambda x \\right )} + D \\sinh{\\left (\\lambda x \\right )}$$"
      ],
      "text/plain": [
       "φ = B⋅sin(λ⋅x) + D⋅sinh(λ⋅x)"
      ]
     },
     "metadata": {},
     "output_type": "display_data"
    }
   ],
   "source": [
    "AC = solve((f0.subs(x,0), f2.subs(x,0)), A, C, dict=True)\n",
    "f0, f1, f2, f3 = [f.subs(AC[0]) for f in (f0, f1, f2, f3)]\n",
    "display(Eq(φ, f0))"
   ]
  },
  {
   "cell_type": "markdown",
   "metadata": {},
   "source": [
    "### First, simpler boundary condition at the right end, $x=L$.\n",
    "The second derivative must be equal to zero,  so we solve and  substitute, also substitute $\\lambda L$ with $\\Lambda$"
   ]
  },
  {
   "cell_type": "code",
   "execution_count": 42,
   "metadata": {},
   "outputs": [
    {
     "data": {
      "text/latex": [
       "With $\\Lambda = \\lambda\\,L$ it is"
      ],
      "text/plain": [
       "<IPython.core.display.Latex object>"
      ]
     },
     "metadata": {},
     "output_type": "display_data"
    },
    {
     "data": {
      "image/png": "[encoded data removed]",
      "text/latex": [
       "$$\\phi = B \\left(\\frac{\\sin{\\left (\\Lambda \\right )} \\sinh{\\left (\\lambda x \\right )}}{\\sinh{\\left (\\Lambda \\right )}} + \\sin{\\left (\\lambda x \\right )}\\right)$$"
      ],
      "text/plain": [
       "      ⎛sin(Λ)⋅sinh(λ⋅x)           ⎞\n",
       "φ = B⋅⎜──────────────── + sin(λ⋅x)⎟\n",
       "      ⎝    sinh(Λ)                ⎠"
      ]
     },
     "metadata": {},
     "output_type": "display_data"
    }
   ],
   "source": [
    "D = solve(f2.subs(x, L), D, dict=True)\n",
    "f0, f1, f2, f3 = [f.subs(D[0]).subs(L,LD/ld) for f in (f0, f1, f2, f3)]\n",
    "display(Latex('With $\\\\Lambda = \\\\lambda\\\\,L$ it is'))\n",
    "display(Eq(φ, f0.simplify()))"
   ]
  },
  {
   "cell_type": "markdown",
   "metadata": {},
   "source": [
    "### Last boundary conditions, equation of wave numbers\n",
    "The last equation is an equation of equilibrium\n",
    "$$V(t) + k\\, v(t) + M\\,\\ddot v(t) = 0$$\n",
    "(all the forces are directed upwards).\n",
    "\n",
    "With $v(t)=\\phi(x)\\,\\sin\\omega t$, the shear is $V = -EJ\\, v''' = -EJ\\, \\phi'''(x)\\sin\\omega t$ and\n",
    "the inertial force is $M\\,\\ddot v= -M\\,\\phi\\,\\omega^2\\sin\\omega t$ that can be rewritten taking into account that $\\omega^2=\\lambda^4EJ/m$: $\\text{ }M\\,\\ddot v= - M/m\\,EJ\\,\\lambda^4\\phi\\sin\\omega t$.\n",
    "\n",
    "Let's write the expanded equation, collecting all the terms that are no $\\Lambda$:"
   ]
  },
  {
   "cell_type": "code",
   "execution_count": 43,
   "metadata": {},
   "outputs": [
    {
     "data": {
      "image/png": "[encoded data removed]",
      "text/latex": [
       "$$B EJ \\lambda^{3} \\left(- 16 \\Lambda \\sin{\\left (\\Lambda \\right )} - \\frac{\\sin{\\left (\\Lambda \\right )} \\cosh{\\left (\\Lambda \\right )}}{\\sinh{\\left (\\Lambda \\right )}} + \\cos{\\left (\\Lambda \\right )} + \\frac{48 \\sin{\\left (\\Lambda \\right )}}{\\Lambda^{3}}\\right) = 0$$"
      ],
      "text/plain": [
       "      3 ⎛               sin(Λ)⋅cosh(Λ)            48⋅sin(Λ)⎞    \n",
       "B⋅EJ⋅λ ⋅⎜-16⋅Λ⋅sin(Λ) - ────────────── + cos(Λ) + ─────────⎟ = 0\n",
       "        ⎜                  sinh(Λ)                     3   ⎟    \n",
       "        ⎝                                             Λ    ⎠    "
      ]
     },
     "metadata": {},
     "output_type": "display_data"
    }
   ],
   "source": [
    "eq = (f0*k - f0*M*ld**4*EJ/m - EJ*f3).subs(x, L).subs(L, LD/ld)\n",
    "display(Eq(eq.expand().collect(B).collect(ld).collect(EJ), 0))"
   ]
  },
  {
   "cell_type": "markdown",
   "metadata": {},
   "source": [
    "We have a non trivial solution when the term in brackets is equal to zero, to have the bracketed term we must divide both members by $B\\,EJ\\, \\lambda^3$"
   ]
  },
  {
   "cell_type": "code",
   "execution_count": 44,
   "metadata": {},
   "outputs": [
    {
     "data": {
      "image/png": "[encoded data removed]",
      "text/latex": [
       "$$- 16 \\Lambda \\sin{\\left (\\Lambda \\right )} - \\frac{\\sin{\\left (\\Lambda \\right )} \\cosh{\\left (\\Lambda \\right )}}{\\sinh{\\left (\\Lambda \\right )}} + \\cos{\\left (\\Lambda \\right )} + \\frac{48 \\sin{\\left (\\Lambda \\right )}}{\\Lambda^{3}} = 0$$"
      ],
      "text/plain": [
       "               sin(Λ)⋅cosh(Λ)            48⋅sin(Λ)    \n",
       "-16⋅Λ⋅sin(Λ) - ────────────── + cos(Λ) + ───────── = 0\n",
       "                  sinh(Λ)                     3       \n",
       "                                             Λ        "
      ]
     },
     "metadata": {},
     "output_type": "display_data"
    }
   ],
   "source": [
    "eq = (eq/EJ/ld**3/B).expand()\n",
    "display(Eq(eq,0))"
   ]
  },
  {
   "cell_type": "markdown",
   "metadata": {},
   "source": [
    "The behavior near $\\Lambda=0$ is led by the last term that goes like $48/\\Lambda^2$, so to have a nice plot we multiply everything by $\\Lambda^2$"
   ]
  },
  {
   "cell_type": "code",
   "execution_count": 45,
   "metadata": {},
   "outputs": [
    {
     "data": {
      "image/png": "[encoded data removed]",
      "text/latex": [
       "$$f = - 16 \\Lambda^{3} \\sin{\\left (\\Lambda \\right )} - \\frac{\\Lambda^{2} \\sin{\\left (\\Lambda \\right )} \\cosh{\\left (\\Lambda \\right )}}{\\sinh{\\left (\\Lambda \\right )}} + \\Lambda^{2} \\cos{\\left (\\Lambda \\right )} + \\frac{48 \\sin{\\left (\\Lambda \\right )}}{\\Lambda}$$"
      ],
      "text/plain": [
       "                      2                                       \n",
       "          3          Λ ⋅sin(Λ)⋅cosh(Λ)    2          48⋅sin(Λ)\n",
       "f = - 16⋅Λ ⋅sin(Λ) - ───────────────── + Λ ⋅cos(Λ) + ─────────\n",
       "                          sinh(Λ)                        Λ    "
      ]
     },
     "metadata": {},
     "output_type": "display_data"
    },
    {
     "data": {
      "image/png": "[encoded data removed]",
      "text/plain": [
       "<Figure size 432x288 with 1 Axes>"
      ]
     },
     "metadata": {},
     "output_type": "display_data"
    }
   ],
   "source": [
    "display(Eq(symbols('f'), (eq*LD**2).expand()))\n",
    "plot(eq*LD**2, (LD, 0, 2));"
   ]
  },
  {
   "cell_type": "markdown",
   "metadata": {},
   "source": [
    "and see that there is a root between 1.25 and 1.5.  If we were interested in upper roots, we can observe that all the terms in the LHS of our determinantal equations are bounded for increasing $\\Lambda$ except for the first one, that grows linearly, so to investigate the other roots we may divide the equation by $\\Lambda$ to remove that trend..."
   ]
  },
  {
   "cell_type": "code",
   "execution_count": 46,
   "metadata": {},
   "outputs": [
    {
     "data": {
      "image/png": "[encoded data removed]",
      "text/latex": [
       "$$f = - 16 \\sin{\\left (\\Lambda \\right )} - \\frac{\\sin{\\left (\\Lambda \\right )} \\cosh{\\left (\\Lambda \\right )}}{\\Lambda \\sinh{\\left (\\Lambda \\right )}} + \\frac{\\cos{\\left (\\Lambda \\right )}}{\\Lambda} + \\frac{48 \\sin{\\left (\\Lambda \\right )}}{\\Lambda^{4}}$$"
      ],
      "text/plain": [
       "                 sin(Λ)⋅cosh(Λ)   cos(Λ)   48⋅sin(Λ)\n",
       "f = -16⋅sin(Λ) - ────────────── + ────── + ─────────\n",
       "                   Λ⋅sinh(Λ)        Λ           4   \n",
       "                                               Λ    "
      ]
     },
     "metadata": {},
     "output_type": "display_data"
    },
    {
     "data": {
      "image/png": "[encoded data removed]",
      "text/plain": [
       "<Figure size 432x288 with 1 Axes>"
      ]
     },
     "metadata": {},
     "output_type": "display_data"
    }
   ],
   "source": [
    "display(Eq(symbols('f'), (eq/LD).expand()))\n",
    "plot(eq/LD, (LD, 2, 10));"
   ]
  },
  {
   "cell_type": "markdown",
   "metadata": {},
   "source": [
    "All the RHS terms except the first have $\\Lambda$ in the denominator and are bounded, so the asymptotic behaviour is controlled by $\\Lambda_{n+1}=n\\pi$."
   ]
  },
  {
   "cell_type": "code",
   "execution_count": 19,
   "metadata": {},
   "outputs": [
    {
     "data": {
      "text/latex": [
       "$\\lambda_1=1.302466\\,\\frac{1}{L}, \\quad\\omega_1^2=2.877834\\,\\frac{EJ}{mL^4}$"
      ],
      "text/plain": [
       "<IPython.core.display.Latex object>"
      ]
     },
     "execution_count": 19,
     "metadata": {},
     "output_type": "execute_result"
    }
   ],
   "source": [
    "from scipy.optimize import bisect\n",
    "f = lambdify(LD, eq, modules='math')\n",
    "l1 = bisect(f, 0.5, 1.5)\n",
    "Latex(r'$\\lambda_1=%.6f\\,\\frac{1}{L}, \\quad\\omega_1^2=%.6f\\,\\frac{EJ}{mL^4}$'%(l1, l1**4))"
   ]
  },
  {
   "cell_type": "markdown",
   "metadata": {},
   "source": [
    "## Rayleigh Quotient\n",
    "\n",
    "Using $v=\\frac xL\\sin\\omega t$ (that is, a rigid rotation about the left hinge) we have\n",
    "$$T_\\text{max}=\\frac12\\omega^2\\Big(\\int_0^Lm\\left(\\frac xL\\right)^2dx + M\\,1^2\\Big) =\n",
    "\\frac12\\omega^2\\Big(\\frac13+8\\Big)mL\n",
    "$$\n",
    "and\n",
    "$$V_\\text{max}=\\frac12\\Big(\\int_0^L EJ\\left(\\frac xL\\right)''^2 + k\\,1^2\\Big) =\n",
    "\\frac12\\Big(0+24\\Big)\\,\\frac{EJ}{L^3}.\n",
    "$$\n",
    "\n",
    "Equating the maximum energies and solving for $\\omega^2$ gives\n",
    "$$ \\omega^2 = \\frac{24\\,EJ/L^3}{\\frac{25}3\\,mL} = 3\\,\\frac{24}{25}\\,\\frac{EJ}{mL^4}=\\ldots\n",
    "$$"
   ]
  },
  {
   "cell_type": "code",
   "execution_count": 23,
   "metadata": {},
   "outputs": [
    {
     "data": {
      "text/latex": [
       "$\\omega^2_{R00} = 2.880\\,\\frac{EJ}{mL^4}$"
      ],
      "text/plain": [
       "<IPython.core.display.Latex object>"
      ]
     },
     "metadata": {},
     "output_type": "display_data"
    }
   ],
   "source": [
    "display(Latex(r'$\\omega^2_{R00} = %.3f\\,\\frac{EJ}{mL^4}$'%(3*24/25)))"
   ]
  },
  {
   "cell_type": "markdown",
   "metadata": {},
   "source": [
    "We can say that the RQ check reinforces our previouos finding..."
   ]
  },
  {
   "cell_type": "code",
   "execution_count": null,
   "metadata": {},
   "outputs": [],
   "source": []
  }
 ],
 "metadata": {
  "kernelspec": {
   "display_name": "Python 3",
   "language": "python",
   "name": "python3"
  },
  "language_info": {
   "codemirror_mode": {
    "name": "ipython",
    "version": 3
   },
   "file_extension": ".py",
   "mimetype": "text/x-python",
   "name": "python",
   "nbconvert_exporter": "python",
   "pygments_lexer": "ipython3",
   "version": "3.6.6"
  }
 },
 "nbformat": 4,
 "nbformat_minor": 2
}
