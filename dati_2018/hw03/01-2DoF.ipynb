{
 "cells": [
  {
   "cell_type": "markdown",
   "metadata": {
    "slideshow": {
     "slide_type": "slide"
    }
   },
   "source": [
    "# Imposed Displacements\n",
    "<center>![](trab02_conv.svg)</center>\n",
    "The dynamic system in figure is composed of two uniform beams of\n",
    "negligible mass, their flexural stiffness being $EJ=\\text{const}$,\n",
    "supporting a lumped mass of negligible rotatory inertia (the\n",
    "flexibility matrix is $\\boldsymbol F=\\frac{L^3}{6EJ}\n",
    "\\begin{bmatrix}3&2\\\\2&96\\end{bmatrix}$).\n",
    "\n",
    "The left support is subjected to an imposed horizontal displacement\n",
    "that varies between $0$ and $\\Delta$\n",
    "\\begin{equation*}\n",
    "  u_\\mathcal{A} = \\Delta\n",
    "  \\begin{cases}\n",
    "    \\frac{20 \\tau^3 - 15 \\tau^4 + 3 \\tau^5}{16} & \\text{for }\n",
    "    0\\le\\tau\\le2,\\\\\n",
    "    1&\\text{for }\\tau>2,\n",
    "  \\end{cases}\n",
    "\\end{equation*}\n",
    "where $\\tau=\\omega_0t$ and $\\omega_0^2=\\frac{EJ}{mL^3}$.\n",
    "\n",
    "Plot the _total_ vertical displacement of the mass in the time interval $0\\le\\tau\\le10$."
   ]
  },
  {
   "cell_type": "markdown",
   "metadata": {
    "slideshow": {
     "slide_type": "slide"
    }
   },
   "source": [
    "## Solution\n",
    "\n",
    "We are going to\n",
    "\n",
    " - determine the structural matrices for the 2 DoF dynamic system,\n",
    " - compute its eigenvalues and its eigenvectors,\n",
    " - determine the pseudo-static mass motion when the support is displaced\n",
    " - write the EoM for the inertial forces due to the support motion,\n",
    " - determine the particular integrals and the homogeneous solution first, and next the frre vibrations,\n",
    " - present our results."
   ]
  },
  {
   "cell_type": "markdown",
   "metadata": {
    "slideshow": {
     "slide_type": "slide"
    }
   },
   "source": [
    "### Structural Matrices\n",
    "\n",
    "Because the text of the problem gives us $\\boldsymbol F$, we can easily compute $\\boldsymbol K$ by inversion of the flexibility; the mass matrix is super easy... $\\boldsymbol M = m \\boldsymbol I$"
   ]
  },
  {
   "cell_type": "code",
   "execution_count": 11,
   "metadata": {
    "slideshow": {
     "slide_type": "-"
    }
   },
   "outputs": [],
   "source": [
    "F = array(((3., 2.), (2., 96.)))/6\n",
    "K = array(((96., -2.), (-2., 3)))*6/(96*3-2*2)\n",
    "M = array(((1., 0.), (0., 1.)))"
   ]
  },
  {
   "cell_type": "markdown",
   "metadata": {},
   "source": [
    "### Eigenvalues, eigenvectors, frequencies\n",
    "\n",
    "Next we compute the eigenvalues and the eigenvectors"
   ]
  },
  {
   "cell_type": "code",
   "execution_count": 12,
   "metadata": {
    "slideshow": {
     "slide_type": "fragment"
    }
   },
   "outputs": [],
   "source": [
    "l2, Psi = eigh(K, M)\n",
    "l1 = sqrt(l2)\n",
    "L2 = diag(l2) ; L1 = sqrt(L2)"
   ]
  },
  {
   "cell_type": "markdown",
   "metadata": {},
   "source": [
    "#### The structural matrices, the eigen* and the frequencies"
   ]
  },
  {
   "cell_type": "code",
   "execution_count": 13,
   "metadata": {
    "hide_input": true,
    "slideshow": {
     "slide_type": "slide"
    },
    "tags": [
     "hide-code"
    ]
   },
   "outputs": [
    {
     "data": {
      "text/latex": [
       "\\begin{align} \\boldsymbol M &= m\\, \\begin{bmatrix}+1&+0\\\\+0&+1\\end{bmatrix} ,\\\\ \\\\ \\boldsymbol F &= \\frac{L^3}{6EJ}\\, \\begin{bmatrix}+3&+2\\\\+2&+96\\end{bmatrix} ,& \\boldsymbol K &= \\frac{3EJ}{142L^3}\\, \\begin{bmatrix}+96&-2\\\\-2&+3\\end{bmatrix} ,\\\\ \\\\ \\boldsymbol \\Lambda^2 &= \\begin{bmatrix}+0.062472&+0\\\\+0&+2.02908\\end{bmatrix} ,& \\boldsymbol \\Lambda &= \\begin{bmatrix}+0.249944&+0\\\\+0&+1.42446\\end{bmatrix} ,\\\\ \\\\ \\boldsymbol \\Psi &= \\begin{bmatrix}+0.0214905&-0.999769\\\\+0.999769&+0.0214905\\end{bmatrix} . \\end{align}"
      ],
      "text/plain": [
       "<IPython.core.display.Latex object>"
      ]
     },
     "metadata": {},
     "output_type": "display_data"
    }
   ],
   "source": [
    "Psi[:,0] *= -1 # change sign to the first column\n",
    "dL(r'\\begin{align}',\n",
    "   r'\\boldsymbol M &= m\\,', prmat(M), r',\\\\',\n",
    "   r'\\\\',\n",
    "   r'\\boldsymbol F &= \\frac{L^3}{6EJ}\\,', prmat(6*F), ',&',\n",
    "   r'\\boldsymbol K &= \\frac{3EJ}{142L^3}\\,', prmat(142*K/3), r',\\\\',\n",
    "   r'\\\\',\n",
    "   r'\\boldsymbol \\Lambda^2 &=', prmat(L2), ',&',\n",
    "   r'\\boldsymbol \\Lambda &=', prmat(L1), r',\\\\',\n",
    "   r'\\\\',\n",
    "   r'\\boldsymbol \\Psi &=', prmat(Psi), '.',\n",
    "   r'\\end{align}')"
   ]
  },
  {
   "cell_type": "markdown",
   "metadata": {
    "slideshow": {
     "slide_type": "slide"
    }
   },
   "source": [
    "### Kinematics of the Problem\n",
    "Starting from the imposed displacement of the left node we compute also its velocity and its acceleration,\n",
    "next we analyze the effects of a static displacement on the position of the supported mass.\n",
    "\n",
    "#### The node displacement and its derivatives\n",
    "We use a _polynomial class_ to represent the displacement of $\\mathcal A$ (the coefficients must be given in descending order).  The class supports evaluation and derivation (and other things that we are not going to use). "
   ]
  },
  {
   "cell_type": "code",
   "execution_count": 14,
   "metadata": {
    "hide_input": false,
    "slideshow": {
     "slide_type": ""
    }
   },
   "outputs": [],
   "source": [
    "d = p(3, -15, 20, 0, 0, 0)/16\n",
    "v = d.deriv()\n",
    "a = v.deriv()"
   ]
  },
  {
   "cell_type": "code",
   "execution_count": 15,
   "metadata": {
    "hide_input": true,
    "slideshow": {
     "slide_type": ""
    },
    "tags": [
     "hide-code"
    ]
   },
   "outputs": [
    {
     "data": {
      "text/latex": [
       "\\begin{align} x_\\mathcal{A} &=  0.1875\\,{\\tau}^{5}-0.9375\\,{\\tau}^{4}+1.25\\,{\\tau}^{3} ,\\\\ \\frac{dx_\\mathcal{A}}{d\\tau} = x'_\\mathcal{A} &=  0.9375\\,{\\tau}^{4}-3.75\\,{\\tau}^{3}+3.75\\,{\\tau}^{2} ,\\\\ \\frac{d^2x_\\mathcal{A}}{d\\tau^2} = x''_\\mathcal{A} &=  3.75\\,{\\tau}^{3}-11.25\\,{\\tau}^{2}+7.5\\,{\\tau} =\\frac{15}{4}\\,\\left( \\,{\\tau}^{3}-3\\,{\\tau}^{2}+2\\,{\\tau} \\right).\\end{align}"
      ],
      "text/plain": [
       "<IPython.core.display.Latex object>"
      ]
     },
     "metadata": {},
     "output_type": "display_data"
    }
   ],
   "source": [
    "dL('\\\\begin{align}',\n",
    "       r\"x_\\mathcal{A} &= \", ltx_p(d), r',\\\\',\n",
    "       r\"\\frac{dx_\\mathcal{A}}{d\\tau} = x'_\\mathcal{A} &= \", ltx_p(v), r',\\\\',\n",
    "       r\"\\frac{d^2x_\\mathcal{A}}{d\\tau^2} = x''_\\mathcal{A} &= \", ltx_p(a),\n",
    "       r'=\\frac{15}{4}\\,\\left(', ltx_p(p(1,-3,2,0)), r'\\right).'\n",
    "   '\\\\end{align}')"
   ]
  },
  {
   "cell_type": "markdown",
   "metadata": {
    "slideshow": {
     "slide_type": "subslide"
    }
   },
   "source": [
    "#### The influence matrix\n",
    "\n",
    "The  displacement of the supported mass is analyzed degrading the $\\mathcal{A}$ hinge to a roller: the structure is hence a rigid system with 1 DoF and the CIR of the left-top bar is on the vertical of the roller and on the line joining the two hinges.\n",
    "<center>![](trab04_conv.svg)</center>\n",
    "For $x_\\mathcal{A}=1$ we have $x_1=1/2$ and $x_2=2$, hence $E=\\begin{Bmatrix}1/2&2\\end{Bmatrix}^T$. The modal load is $\\boldsymbol{p}^\\star=-\\boldsymbol\\Psi^T\\,\\boldsymbol{M}\\,\\boldsymbol{E}\\,\\ddot{x}_\\mathcal{A}\n",
    "=-m\\boldsymbol\\Psi^T\\,\\boldsymbol{E}\\,\\ddot{x}_\\mathcal{A}\n",
    "=m\\boldsymbol\\Gamma\\,\\ddot{x}_\\mathcal{A}$\n",
    "where $\\boldsymbol\\Gamma = -\\boldsymbol\\Psi^T\\,\\boldsymbol{E}$."
   ]
  },
  {
   "cell_type": "code",
   "execution_count": 16,
   "metadata": {
    "slideshow": {
     "slide_type": "fragment"
    }
   },
   "outputs": [],
   "source": [
    "E = array((0.5, 2.0))\n",
    "G = -Psi.T@E"
   ]
  },
  {
   "cell_type": "code",
   "execution_count": 17,
   "metadata": {
    "hide_input": true,
    "slideshow": {
     "slide_type": ""
    },
    "tags": [
     "hide-code"
    ]
   },
   "outputs": [
    {
     "data": {
      "text/latex": [
       "$$\\boldsymbol E= \\begin{Bmatrix}+0.5\\\\+2\\end{Bmatrix} ,\\qquad \\boldsymbol\\Gamma= \\begin{Bmatrix}-2.01028\\\\+0.456904\\end{Bmatrix} .$$"
      ],
      "text/plain": [
       "<IPython.core.display.Latex object>"
      ]
     },
     "metadata": {},
     "output_type": "display_data"
    }
   ],
   "source": [
    "dL(r'$$\\boldsymbol E=', prmat(E[:,None], type='B'), r',\\qquad',\n",
    "   r'\\boldsymbol\\Gamma=', prmat(G[:,None], type='B'),'.$$')"
   ]
  },
  {
   "cell_type": "markdown",
   "metadata": {
    "slideshow": {
     "slide_type": "slide"
    }
   },
   "source": [
    "##### Plots of displacement, velocity and acceleration of the node\n",
    "... against a dimensionless time that runs from `0` to `2` (note the normalization factors, especially the ones for velocity and acceleration)."
   ]
  },
  {
   "cell_type": "code",
   "execution_count": 18,
   "metadata": {
    "scrolled": true,
    "slideshow": {
     "slide_type": "-"
    },
    "tags": [
     "hide-code"
    ]
   },
   "outputs": [
    {
     "data": {
      "image/png": "[encoded data removed]",
      "text/plain": [
       "<Figure size 864x172.8 with 1 Axes>"
      ]
     },
     "metadata": {},
     "output_type": "display_data"
    }
   ],
   "source": [
    "t02 = linspace(0,2,201)\n",
    "plt.plot(t02, d(t02), label=r'd${}/\\Delta$')\n",
    "plt.plot(t02, v(t02), label=r'v${}/(\\omega_0\\Delta)$')\n",
    "plt.plot(t02, a(t02), label=r'a${}/(\\omega_0^2\\Delta)$')\n",
    "plt_labels(xl='$\\\\omega_0t$', c=3,\n",
    "           t='Normalized displacement, velocity and acceleration')"
   ]
  },
  {
   "cell_type": "markdown",
   "metadata": {
    "slideshow": {
     "slide_type": "slide"
    }
   },
   "source": [
    "### Dynamic Response\n",
    "\n",
    "1. We write the EoM with reference to the dimensionless time $\\tau = \\omega_0t$,\n",
    "2. we find the particular integral that satisfies the EoM when the mass is subjected to the _static acceleration_,\n",
    "3. the forced modal responses are determined imposing the initial conditions for $\\tau=0$ and\n",
    "4. eventually we determine the free response, this time imposing that the displacement and the velocity of the forced and the free responses are equal for $\\tau=2$ .\n",
    "\n",
    "#### The modal EoM with respect to dimensionless time\n",
    "The equation of motion is $\\boldsymbol M \\ddot{\\boldsymbol x} + \\boldsymbol K \\boldsymbol x = - \\boldsymbol M \\boldsymbol E \\ddot x_\\mathcal{A}$.\n",
    "\n",
    "If we denote with primes the derivative with respect to $\\tau=\\omega_0t$, it is $\\dot f = \\omega_0 f'$ and the equation of motion is\n",
    "$$\n",
    "  \\omega_0^2\\boldsymbol M \\boldsymbol x'' + \\boldsymbol K \\boldsymbol x =\n",
    "- \\omega_0^2\\boldsymbol M \\boldsymbol E x''_\\mathcal{A}.\n",
    "$$\n",
    "\n",
    "Applying the modal transformation, with $\\boldsymbol M^\\star=\\boldsymbol M=m\\boldsymbol I$ (that implies that \n",
    "$\\boldsymbol M\\boldsymbol E = m\\boldsymbol E$)\n",
    "$$\n",
    "    m\\omega_0^2\\boldsymbol q'' + m\\omega_0^2\\boldsymbol \\Lambda^2 \\boldsymbol q =\n",
    "  - m\\omega_0^2\\boldsymbol\\Psi^T \\boldsymbol E x''_\\mathcal{A}\n",
    "$$\n",
    "and, simplifying $m\\omega_0^2$ and developing the right member\n",
    "$$\n",
    "  \\boldsymbol q'' + \\boldsymbol \\Lambda^2 \\boldsymbol q =\n",
    "- \\boldsymbol\\Psi^T \\boldsymbol E x''_\\mathcal{A} = \n",
    "  \\frac{15}{4}\\boldsymbol\\Gamma(\\tau^3-3\\tau^2+2\\tau),\n",
    "  \\qquad\\text{where } \\boldsymbol\\Gamma = -\\boldsymbol\\Psi^T\\boldsymbol{E}.\n",
    "$$"
   ]
  },
  {
   "cell_type": "markdown",
   "metadata": {
    "slideshow": {
     "slide_type": "slide"
    }
   },
   "source": [
    "#### Particular Integral\n",
    "A particular integral (omitting the indices) is $\\xi(\\tau) = P\\tau^3 + Q\\tau^2+R\\tau+S$. With the provision that we have to multiply our results by $15\\boldsymbol\\Gamma/4$ we can write\n",
    "$$\n",
    "  6P\\tau + 2Q + \\lambda^2\\left(P\\tau^3 + Q\\tau^2+R\\tau+S\\right) = \\tau^3 -3\\tau^2+2\\tau.\n",
    "$$\n",
    "Equating for each power of $\\tau$ the coefficients on both sides, we have\n",
    "$$\n",
    "  \\lambda^2P=1,\\qquad \\lambda^2Q=-3,\\qquad 6P+\\lambda^2R=2,\\qquad 2Q+\\lambda^2S=0\n",
    "$$\n",
    "a set of equations that can be readily translated to code (taking also into account the multiplication by $15\\gamma_i/4$)."
   ]
  },
  {
   "cell_type": "code",
   "execution_count": 19,
   "metadata": {
    "slideshow": {
     "slide_type": "-"
    }
   },
   "outputs": [],
   "source": [
    "P = 1/l2 ; Q = -3/l2 ; R = (2-6*P)/l2 ; S = (0-2*Q)/l2\n",
    "P, Q, R, S = map(lambda coeff: 3.75*coeff*G, (P, Q, R, S))\n",
    "xi = [p(P[i], Q[i], R[i], S[i]) for i in (0, 1)]"
   ]
  },
  {
   "cell_type": "code",
   "execution_count": 20,
   "metadata": {
    "hide_input": true,
    "slideshow": {
     "slide_type": "fragment"
    },
    "tags": [
     "hide-code"
    ]
   },
   "outputs": [
    {
     "data": {
      "text/latex": [
       "\\begin{align} \\xi_{1} &= -120.671\\,{\\tau}^{3}+362.013\\,{\\tau}^{2}+11348.3\\,{\\tau}-11589.6\\\\\\xi_{2} &= 0.844418\\,{\\tau}^{3}-2.53325\\,{\\tau}^{2}-0.808115\\,{\\tau}+2.49695 \\end{align}"
      ],
      "text/plain": [
       "<IPython.core.display.Latex object>"
      ]
     },
     "metadata": {},
     "output_type": "display_data"
    }
   ],
   "source": [
    "dL(r'\\begin{align}',\n",
    "   r'\\\\'.join(r'\\xi_{%d} &= %s'%(i,ltx_p(xi_i)) for i, xi_i in enumerate(xi, 1)),\n",
    "   r'\\end{align}')"
   ]
  },
  {
   "cell_type": "markdown",
   "metadata": {
    "slideshow": {
     "slide_type": "slide"
    }
   },
   "source": [
    "#### Modal Responses, Forced Phase\n",
    "It is $q_i(\\tau)=A_i\\cos\\lambda_i\\tau + B_i\\sin\\lambda_i\\tau + \\xi_i(0)$; the $\\xi$ have been determined, we have to determine the constants of integration $A$ and $B$ imposing that $\\boldsymbol q(0) = \\boldsymbol 0$ and $\\boldsymbol q'(0) = \\boldsymbol 0$: it is $A_i=-\\xi_i(0)$ and $\\lambda_iB_i=-\\xi_i'(0)$."
   ]
  },
  {
   "cell_type": "code",
   "execution_count": 21,
   "metadata": {
    "slideshow": {
     "slide_type": "-"
    }
   },
   "outputs": [],
   "source": [
    "xi0 = array([Xi(0) for Xi in xi])          ; A = -xi0\n",
    "dxi0 = array([Xi.deriv()(0) for Xi in xi]) ; B = -dxi0/l1"
   ]
  },
  {
   "cell_type": "markdown",
   "metadata": {
    "slideshow": {
     "slide_type": "fragment"
    }
   },
   "source": [
    "##### Plot of the forced modal responses\n",
    "We compute first the 2D array `l1t1`, that has $\\lambda_i\\omega_0t$ in its two columns, next the modal response `q02` because it's the first phase of the response for $0\\le\\tau\\le2$..."
   ]
  },
  {
   "cell_type": "code",
   "execution_count": 31,
   "metadata": {
    "slideshow": {
     "slide_type": "-"
    }
   },
   "outputs": [],
   "source": [
    "l1t02 = outer(t02, l1)\n",
    "q02 = A*cos(l1t02) + B*sin(l1t02) + array([Xi(t02) for Xi in xi]).T\n",
    "dq02 = -A*l1*sin(l1t02) + B*l1*cos(l1t02) + array([Xi.deriv()(t02) for Xi in xi]).T"
   ]
  },
  {
   "cell_type": "code",
   "execution_count": 32,
   "metadata": {
    "slideshow": {
     "slide_type": "slide"
    },
    "tags": [
     "hide-code"
    ]
   },
   "outputs": [
    {
     "data": {
      "image/png": "[encoded data removed]",
      "text/plain": [
       "<Figure size 864x172.8 with 1 Axes>"
      ]
     },
     "metadata": {},
     "output_type": "display_data"
    }
   ],
   "source": [
    "plt.legend(plt.plot(t02, q02), (r'$q_1/\\Delta$','$q_2/\\Delta$'))\n",
    "plt_labels(xl='$\\\\omega_0t$', l=0, t='Normalized modal responses, forced phase')"
   ]
  },
  {
   "cell_type": "markdown",
   "metadata": {
    "slideshow": {
     "slide_type": "slide"
    }
   },
   "source": [
    "#### Modal Responses, free phase\n",
    "The free response starts at `t22=2`, we can impose that the modal displacements and derivatives of the free response, computed at `t22`, are equal to the modal displacements and derivatives for the forced phase. Indicating with a ${}^1$ the quantities relative to the forced phase and with ${}^2$ the ones relative to free response,\n",
    "$$\\begin{bmatrix}\\cos\\lambda_i\\tau_{22} &\\sin\\lambda_i\\tau_{22}\\\\\n",
    "-\\sin\\lambda_i\\tau_{22} &\\cos\\lambda_i\\tau_{22}\\end{bmatrix}\n",
    "\\begin{Bmatrix}{}^2A_i\\\\{}^2B_i\\end{Bmatrix} = \\begin{Bmatrix}\n",
    "{}^1q_i(\\tau_{22})\\\\\\frac{\\displaystyle{{}^1\\dot q_i(\\tau_{22})}}{\\lambda_i}\\end{Bmatrix}.\n",
    "$$\n",
    "The coefficient matrix is an orthogonal matrix (i.e., $\\boldsymbol A^{-1}\\equiv\\boldsymbol A^T$), so we can write our solution as follows"
   ]
  },
  {
   "cell_type": "code",
   "execution_count": 33,
   "metadata": {
    "slideshow": {
     "slide_type": "-"
    }
   },
   "outputs": [],
   "source": [
    "t22 = 2\n",
    "C22 = cos(l1*t22)\n",
    "S22 = sin(l1*t22)\n",
    "q22 = q1[-1]\n",
    "dq22_over_l1 = dq1[-1]/l1\n",
    "Afree = C22*q22-S22*dq22_over_l1\n",
    "Bfree = S22*q22+C22*dq22_over_l1"
   ]
  },
  {
   "cell_type": "markdown",
   "metadata": {},
   "source": [
    "It is now possible to compute the modal response in $2\\le\\tau\\le10$, so that we can compute the total displacements of the mass in said interval, as requested by the problem."
   ]
  },
  {
   "cell_type": "code",
   "execution_count": 34,
   "metadata": {
    "slideshow": {
     "slide_type": "slide"
    }
   },
   "outputs": [],
   "source": [
    "t210 = linspace(2.01, 10, 800)\n",
    "l1t210 = outer(t210, l1)\n",
    "q210 = Afree*cos(l1t210) + Bfree*sin(l1t210)\n",
    "dq210 = -l1*Afree*sin(l1t210) + l1*Bfree*cos(l1t210)"
   ]
  },
  {
   "cell_type": "markdown",
   "metadata": {
    "slideshow": {
     "slide_type": "fragment"
    }
   },
   "source": [
    "### Summing Up and Showing  the Results\n",
    "\n",
    "Finally we stick together the forced and the free responses, and compute the nodal deformations by post-multiplying the modal responses by the transpose of `Psi` and the static displacement by evaluating the polynomial `d` and taking the outer product with the influence matrix, finally we compute the total displacement of the mass"
   ]
  },
  {
   "cell_type": "code",
   "execution_count": 35,
   "metadata": {
    "slideshow": {
     "slide_type": "-"
    }
   },
   "outputs": [],
   "source": [
    "t = hstack((t02, t210))\n",
    "q = vstack((q02, q210))\n",
    "dq = vstack((dq02, dq210))\n",
    "x = q@Psi.T\n",
    "xst = outer(where(t<t22,d(t), 1), E)\n",
    "xtot = xst + x"
   ]
  },
  {
   "cell_type": "markdown",
   "metadata": {
    "slideshow": {
     "slide_type": "slide"
    }
   },
   "source": [
    "#### The Plot of the Total Displacements\n",
    "\n",
    "... normalized with respect to the final support of the displacement."
   ]
  },
  {
   "cell_type": "code",
   "execution_count": 36,
   "metadata": {
    "slideshow": {
     "slide_type": "-"
    },
    "tags": [
     "hide-code"
    ]
   },
   "outputs": [
    {
     "data": {
      "image/png": "[encoded data removed]",
      "text/plain": [
       "<Figure size 864x172.8 with 1 Axes>"
      ]
     },
     "metadata": {},
     "output_type": "display_data"
    }
   ],
   "source": [
    "plt.legend(plt.plot(t, xtot), [r'$x_{%d,\\mathrm{tot,}}/\\Delta$'%i for i in (1,2) ]) \n",
    "plt_labels(xl='$\\\\omega_0t$', t='Normalized total displacements', l=0)"
   ]
  },
  {
   "cell_type": "markdown",
   "metadata": {
    "slideshow": {
     "slide_type": "slide"
    }
   },
   "source": [
    "#### The Total Displacements over a Longer Time Span\n",
    "\n",
    "The requirements of the problem are satisfied, but I'm left with the curiosity of what happens to the vertical displacements in the following... let's plot the total displacements for $0\\le\\tau\\le30$."
   ]
  },
  {
   "cell_type": "code",
   "execution_count": 37,
   "metadata": {
    "slideshow": {
     "slide_type": "slide"
    }
   },
   "outputs": [],
   "source": [
    "t230 = linspace(2.01, 30, 2800)\n",
    "l1t230 = outer(t230, l1)\n",
    "q230 = Afree*cos(l1t230) + Bfree*sin(l1t230)\n",
    "dq230 = -l1*Afree*sin(l1t230) + l1*Bfree*cos(l1t230)\n",
    "\n",
    "t = hstack((t02, t230))\n",
    "q = vstack((q02, q230))\n",
    "dq = vstack((dq02, dq230))\n",
    "x = q@Psi.T\n",
    "xst = outer(where(t<t22,d(t), 1), E)\n",
    "xtot = xst + x"
   ]
  },
  {
   "cell_type": "code",
   "execution_count": 38,
   "metadata": {
    "slideshow": {
     "slide_type": "-"
    },
    "tags": [
     "hide-code"
    ]
   },
   "outputs": [
    {
     "data": {
      "image/png": "[encoded data removed]",
      "text/plain": [
       "<Figure size 864x172.8 with 1 Axes>"
      ]
     },
     "metadata": {},
     "output_type": "display_data"
    }
   ],
   "source": [
    "plt.legend(plt.plot(t, xtot), \n",
    "           [r'$x_{%d,\\mathrm{tot,}}/\\Delta$'%i for i in (1,2)])\n",
    "plt.xlim((-0.5, 30.5))\n",
    "plt_labels(xl=r'$\\omega_0t$', yl=r'$x_i^\\mathrm{total}/\\Delta$',\n",
    "           t='Normalized total displacements', xt=range(0, 31,2), l=0)"
   ]
  },
  {
   "cell_type": "markdown",
   "metadata": {
    "slideshow": {
     "slide_type": "fragment"
    }
   },
   "source": [
    "Quite a sling effect..."
   ]
  },
  {
   "cell_type": "markdown",
   "metadata": {
    "slideshow": {
     "slide_type": "slide"
    }
   },
   "source": [
    "## Post Scriptum\n",
    " \n",
    "That's all, except that here I show you the code that is executed at the beginning of the notebook.\n",
    "\n",
    "There is the initialization of the plotting machinery and the imports, a further initialization of the plotting _style_ and eventually the definition of a number of utility functions.\n",
    "\n",
    "If you were interested (who knows...) in the gory details of the production of the mathematical displays and the plots,\n",
    "you can examine [the notebook (code+text) that is the source of this paper](http://nbviewer.jupyter.org/url/boffi.github.io/dati_2018/hw03/2dof.ipynb)."
   ]
  },
  {
   "cell_type": "markdown",
   "metadata": {
    "slideshow": {
     "slide_type": "subslide"
    }
   },
   "source": [
    "### Initialization, Imports"
   ]
  },
  {
   "cell_type": "code",
   "execution_count": 6,
   "metadata": {
    "init_cell": true,
    "slideshow": {
     "slide_type": "-"
    }
   },
   "outputs": [],
   "source": [
    "%matplotlib inline\n",
    "\n",
    "import numpy as np\n",
    "from numpy import array, cos, diag, hstack, linspace\n",
    "from numpy import outer, sin, sqrt, vstack, where\n",
    "import matplotlib.pyplot as plt\n",
    "from scipy.linalg import eigh"
   ]
  },
  {
   "cell_type": "code",
   "execution_count": 7,
   "metadata": {
    "init_cell": true,
    "slideshow": {
     "slide_type": "skip"
    }
   },
   "outputs": [],
   "source": [
    "from jupyterthemes import jtplot\n",
    "jtplot.style(context='paper', fscale=1.5, figsize=(15, 3))"
   ]
  },
  {
   "cell_type": "markdown",
   "metadata": {
    "slideshow": {
     "slide_type": "subslide"
    }
   },
   "source": [
    "### Function Definitions\n",
    "\n",
    "#### An helper funtion for the decoration of plots\n",
    "The Matplotlib API is a little verbose, this is an attempt to squeeze the typical decoration that is applied to a plot in a single statement"
   ]
  },
  {
   "cell_type": "code",
   "execution_count": 8,
   "metadata": {
    "init_cell": true,
    "slideshow": {
     "slide_type": "-"
    }
   },
   "outputs": [],
   "source": [
    "def plt_labels(xl='', yl='', xt='', yt='', t='', l=1, c=1):\n",
    "    if xl: plt.xlabel(xl)\n",
    "    if yl: plt.ylabel(yl)\n",
    "    if xt: plt.xticks(xt)\n",
    "    if yt: plt.yticks(yt)\n",
    "    if t:  plt.title(t)\n",
    "    if l:  plt.legend(ncol=c)"
   ]
  },
  {
   "cell_type": "markdown",
   "metadata": {
    "init_cell": true,
    "slideshow": {
     "slide_type": "subslide"
    }
   },
   "source": [
    "#### Polynomials' stuff\n",
    "\n",
    "A function to instantiate a library provided polynomial class and a formatter function to prepare the mathematical display of a polynomial."
   ]
  },
  {
   "cell_type": "code",
   "execution_count": 9,
   "metadata": {
    "init_cell": true,
    "slideshow": {
     "slide_type": "-"
    }
   },
   "outputs": [],
   "source": [
    "def p(*coefs):\n",
    "    from numpy import poly1d\n",
    "    return poly1d(coefs)\n",
    "\n",
    "def ltx_p(p, leading_sign=False):\n",
    "    order = p.order\n",
    "    coeffs = p.coefficients\n",
    "    def _fmt(i, c):\n",
    "        coef = ('%+g' if (i or leading_sign) else '%g') % c\n",
    "        if c == 1 : coef = '+' if (i or leading_sign) else ''\n",
    "        if c == -1: coef = '-'\n",
    "        var  = '{\\\\tau}' if i < order else ''\n",
    "        expn = '^{%d}'%(order-i) if i < order-1 else ''\n",
    "        return coef + ('\\\\,' if var else '') + var + expn\n",
    "    return ''.join(_fmt(i, c) for i, c in enumerate(coeffs) if c)"
   ]
  },
  {
   "cell_type": "markdown",
   "metadata": {
    "init_cell": true,
    "slideshow": {
     "slide_type": "subslide"
    }
   },
   "source": [
    "#### Other math stuff\n",
    "\n",
    "A formatter to prepare the math display of a matrix and the function that is actually used to render the math displays."
   ]
  },
  {
   "cell_type": "code",
   "execution_count": 10,
   "metadata": {
    "init_cell": true,
    "slideshow": {
     "slide_type": "-"
    }
   },
   "outputs": [],
   "source": [
    "def prmat(mat, fmt='%+.6g', type='b'):    \n",
    "    return (r'\\begin{%smatrix}' +\n",
    "            r'\\\\'.join('&'.join(fmt%num for num in row) for row in mat) +\n",
    "            r'\\end{%smatrix}')%(type, type)\n",
    "\n",
    "def dL(*pieces):\n",
    "    from IPython.display import Latex\n",
    "    display(Latex(' '.join(pieces)))"
   ]
  }
 ],
 "metadata": {
  "kernelspec": {
   "display_name": "Python 3",
   "language": "python",
   "name": "python3"
  },
  "language_info": {
   "codemirror_mode": {
    "name": "ipython",
    "version": 3
   },
   "file_extension": ".py",
   "mimetype": "text/x-python",
   "name": "python",
   "nbconvert_exporter": "python",
   "pygments_lexer": "ipython3",
   "version": "3.6.5"
  }
 },
 "nbformat": 4,
 "nbformat_minor": 2
}
