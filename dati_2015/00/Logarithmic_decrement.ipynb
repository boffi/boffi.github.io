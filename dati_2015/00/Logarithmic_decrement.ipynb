{
 "metadata": {
  "name": "",
  "signature": "sha256:27fe72e074fde699570676503dcb4dfc2ea7d09f18c090e51b82d24cc40c86a6"
 },
 "nbformat": 3,
 "nbformat_minor": 0,
 "worksheets": [
  {
   "cells": [
    {
     "cell_type": "markdown",
     "metadata": {
      "slideshow": {
       "slide_type": "slide"
      }
     },
     "source": [
      "This is an IPyton notebook and it is coded in the Python\n",
      "programming language.\n",
      "\n",
      "Python has the idea of `modules`, separate units of code that\n",
      "provide the programmer with _ready to use_, tested code.\n",
      "You can write yourself your modules,  or rather use library\n",
      "modules, in any case you access _functions_ or _data_ defined in\n",
      "modules `import`-ing them.\n",
      "\n",
      "For example, in the next _code cell_ we import three functions\n",
      "from the `math` module (and a constant too) and then we do some\n",
      "other stuff...\n",
      "\n",
      " 1. `import` functions and data from `math`,\n",
      " 2. `import` all the stuff from `sympy` (symbolic algebra) under\n",
      " the prefix `sy`, and use this convention to initialize the `sympy`\n",
      " printing system,\n",
      " 3. `import` from the submodule `IPython.display` two utility\n",
      " functions,\n",
      " 4. eventually `import` the module `style` and execute its\n",
      " function `clean` that changes the default appearance of a notebook\n",
      " using some `css` styling and a small sprinkle of `javascript`."
     ]
    },
    {
     "cell_type": "code",
     "collapsed": false,
     "input": [
      "%pylab --no-import-all inline\n",
      "\n",
      "from math import exp, log, pi, sqrt\n",
      "\n",
      "import sympy as sy ; sy.init_printing(use_latex=True)\n",
      "from IPython.display import display, Latex\n",
      "\n",
      "import style ; style.clean()"
     ],
     "language": "python",
     "metadata": {
      "slideshow": {
       "slide_type": "slide"
      }
     },
     "outputs": [
      {
       "output_type": "stream",
       "stream": "stdout",
       "text": [
        "Populating the interactive namespace from numpy and matplotlib\n"
       ]
      },
      {
       "html": [
        "\n",
        "    <script>MathJax.Hub.Config({displayAlign: 'center'});</script>\n",
        "    <style type=\"text/css\">\n",
        "    .container { width:100% !important; }\n",
        "    div#notebook { /* centers the page content */\n",
        "    padding-left:  2%;\n",
        "    padding-right:2%;\n",
        "    }\n",
        "    div.input {\n",
        "    width: 83ex; /* about 80 chars + buffer */\n",
        "    }\n",
        "    \n",
        "    div.text_cell {\n",
        "    width: 83ex /* instead of 100%, */\n",
        "    }\n",
        "\n",
        "    div.text_cell_render {\n",
        "    font-family:  Candara,Cambria, serif;\n",
        "    font-size: 1.5em\n",
        "    line-height: 145%; /* added for some line spacing of text. */\n",
        "    width: 83ex; /* instead of 'inherit' for shorter lines */\n",
        "    }\n",
        "    \n",
        "    /* Set the size of the headers */\n",
        "    div.text_cell_render h1 {\n",
        "    font-size: 24pt;\n",
        "    }\n",
        "    \n",
        "    div.text_cell_render h2 {\n",
        "    font-size: 20pt;\n",
        "    }\n",
        "    \n",
        "    .CodeMirror {\n",
        "    font-family: Consolas, monospace;\n",
        "    width: 83ex;\n",
        "    }\n",
        "    \n",
        "    .rendered_html ol {list-style:decimal; margin: 1em 2em;}\n",
        "    \n",
        "    </style>"
       ],
       "metadata": {},
       "output_type": "pyout",
       "prompt_number": 1,
       "text": [
        "<IPython.core.display.HTML at 0x7f9543ca9090>"
       ]
      }
     ],
     "prompt_number": 1
    },
    {
     "cell_type": "heading",
     "level": 1,
     "metadata": {
      "slideshow": {
       "slide_type": "slide"
      }
     },
     "source": [
      "Damped response for a given $x_0$"
     ]
    },
    {
     "cell_type": "markdown",
     "metadata": {},
     "source": [
      "What is the analytical expression of the response of a damped system\n",
      "subject to the (quite common) initial conditions $x(0)=x_0$ and $\\dot x(0)=0$?\n",
      "\n",
      "We start by creating a set of `symbols` and giving them good names..."
     ]
    },
    {
     "cell_type": "code",
     "collapsed": false,
     "input": [
      "A, B, t, z, wn, wd, x0 = sy.symbols(\n",
      "    'A, B, t, zeta, omega_n, omega_d, x_0')\n",
      "display((A, B, t, z, wn, wd, x0))"
     ],
     "language": "python",
     "metadata": {},
     "outputs": [
      {
       "latex": [
        "$$\\begin{pmatrix}A, & B, & t, & \\zeta, & \\omega_{n}, & \\omega_{d}, & x_{0}\\end{pmatrix}$$"
       ],
       "metadata": {},
       "output_type": "display_data",
       "png": "[encoded data removed]",
       "text": [
        "(A, B, t, \u03b6, \u03c9_n, \u03c9_d, x\u2080)"
       ]
      }
     ],
     "prompt_number": 2
    },
    {
     "cell_type": "markdown",
     "metadata": {
      "slideshow": {
       "slide_type": "slide"
      }
     },
     "source": [
      "Then we give the name `u` to the symbolic representation of the displacement,\n",
      "and the name `v` to the first time derivative of `u`."
     ]
    },
    {
     "cell_type": "code",
     "collapsed": false,
     "input": [
      "u = sy.exp(-z*wn*t)*(A*sy.cos(wd*t)+B*sy.sin(wd*t))\n",
      "v = u.diff(t).expand().collect(sy.exp(-z*wn*t))\n",
      "v = v.collect(sy.cos(wd*t)).collect(sy.sin(wd*t))\n",
      "display(Latex(r'\\begin{align*}x(t)&='+sy.latex(u)+r'''\\\\\n",
      "\\\\dot{x}(t) &= '''+sy.latex(v)+r'\\end{align*}'))"
     ],
     "language": "python",
     "metadata": {},
     "outputs": [
      {
       "latex": [
        "\\begin{align*}x(t)&=\\left(A \\cos{\\left (\\omega_{d} t \\right )} + B \\sin{\\left (\\omega_{d} t \\right )}\\right) e^{- \\omega_{n} t \\zeta}\\\\\\dot{x}(t) &= \\left(\\left(- A \\omega_{d} - B \\omega_{n} \\zeta\\right) \\sin{\\left (\\omega_{d} t \\right )} + \\left(- A \\omega_{n} \\zeta + B \\omega_{d}\\right) \\cos{\\left (\\omega_{d} t \\right )}\\right) e^{- \\omega_{n} t \\zeta}\\end{align*}"
       ],
       "metadata": {},
       "output_type": "display_data",
       "text": [
        "<IPython.core.display.Latex at 0x7f9543c0a6d0>"
       ]
      }
     ],
     "prompt_number": 3
    },
    {
     "cell_type": "markdown",
     "metadata": {
      "slideshow": {
       "slide_type": "slide"
      }
     },
     "source": [
      "Now, \n",
      "\n",
      " - we form an equation substituting $t=0$ in `u` and `v` and subtracting $x_0$\n",
      "   from the first equation \n",
      " - we ask our `sympy` aka `sy` library to solve the system of equations"
     ]
    },
    {
     "cell_type": "code",
     "collapsed": false,
     "input": [
      "eq = (u.subs(t,0)-x0, v.subs(t,0))\n",
      "coeff = sy.solve(eq, A,B)\n",
      "display(coeff)\n",
      "display(u.subs(coeff).collect(x0))\n",
      "display(u.subs(coeff).collect(x0).subs(wn,wd/sy.sqrt(1-z*z)))"
     ],
     "language": "python",
     "metadata": {
      "slideshow": {
       "slide_type": "-"
      }
     },
     "outputs": [
      {
       "latex": [
        "$$\\begin{Bmatrix}A : x_{0}, & B : \\frac{\\omega_{n} x_{0}}{\\omega_{d}} \\zeta\\end{Bmatrix}$$"
       ],
       "metadata": {},
       "output_type": "display_data",
       "png": "[encoded data removed]",
       "text": [
        "\u23a7          \u03c9_n\u22c5x\u2080\u22c5\u03b6\u23ab\n",
        "\u23a8A: x\u2080, B: \u2500\u2500\u2500\u2500\u2500\u2500\u2500\u2500\u23ac\n",
        "\u23a9            \u03c9_d   \u23ad"
       ]
      },
      {
       "latex": [
        "$$x_{0} \\left(\\cos{\\left (\\omega_{d} t \\right )} + \\frac{\\omega_{n} \\zeta}{\\omega_{d}} \\sin{\\left (\\omega_{d} t \\right )}\\right) e^{- \\omega_{n} t \\zeta}$$"
       ],
       "metadata": {},
       "output_type": "display_data",
       "png": "[encoded data removed]",
       "text": [
        "   \u239b             \u03c9_n\u22c5\u03b6\u22c5sin(\u03c9_d\u22c5t)\u239e  -\u03c9_n\u22c5t\u22c5\u03b6\n",
        "x\u2080\u22c5\u239ccos(\u03c9_d\u22c5t) + \u2500\u2500\u2500\u2500\u2500\u2500\u2500\u2500\u2500\u2500\u2500\u2500\u2500\u2500\u2500\u2500\u239f\u22c5\u212f        \n",
        "   \u239d                   \u03c9_d       \u23a0          "
       ]
      },
      {
       "latex": [
        "$$x_{0} \\left(\\frac{\\zeta \\sin{\\left (\\omega_{d} t \\right )}}{\\sqrt{- \\zeta^{2} + 1}} + \\cos{\\left (\\omega_{d} t \\right )}\\right) e^{- \\frac{\\omega_{d} t \\zeta}{\\sqrt{- \\zeta^{2} + 1}}}$$"
       ],
       "metadata": {},
       "output_type": "display_data",
       "png": "[encoded data removed]",
       "text": [
        "                                   -\u03c9_d\u22c5t\u22c5\u03b6   \n",
        "                                 \u2500\u2500\u2500\u2500\u2500\u2500\u2500\u2500\u2500\u2500\u2500\u2500\u2500\n",
        "                                    __________\n",
        "                                   \u2571    2     \n",
        "   \u239b \u03b6\u22c5sin(\u03c9_d\u22c5t)             \u239e  \u2572\u2571  - \u03b6  + 1 \n",
        "x\u2080\u22c5\u239c\u2500\u2500\u2500\u2500\u2500\u2500\u2500\u2500\u2500\u2500\u2500\u2500\u2500 + cos(\u03c9_d\u22c5t)\u239f\u22c5\u212f             \n",
        "   \u239c   __________             \u239f               \n",
        "   \u239c  \u2571    2                  \u239f               \n",
        "   \u239d\u2572\u2571  - \u03b6  + 1              \u23a0               "
       ]
      }
     ],
     "prompt_number": 4
    },
    {
     "cell_type": "markdown",
     "metadata": {
      "slideshow": {
       "slide_type": "slide"
      }
     },
     "source": [
      "To plot the response we need to get rid of all the symbols in our expression,\n",
      "except for $t$, so we choose an arbitrary set of values for the free variables..."
     ]
    },
    {
     "cell_type": "code",
     "collapsed": false,
     "input": [
      "values = {x0:1.0, z:0.05, wd:2*sy.pi, wn:2*sy.pi/sy.sqrt(1-z*z)}\n",
      "values[sy.pi] = sy.pi.evalf()\n",
      "display(values)"
     ],
     "language": "python",
     "metadata": {
      "slideshow": {
       "slide_type": "subslide"
      }
     },
     "outputs": [
      {
       "latex": [
        "$$\\begin{Bmatrix}\\pi : 3.14159265358979, & \\omega_{d} : 2 \\pi, & \\omega_{n} : \\frac{2 \\pi}{\\sqrt{- \\zeta^{2} + 1}}, & x_{0} : 1.0, & \\zeta : 0.05\\end{Bmatrix}$$"
       ],
       "metadata": {},
       "output_type": "display_data",
       "png": "[encoded data removed]",
       "text": [
        "\u23a7                                         2\u22c5\u03c0                       \u23ab\n",
        "\u23aa\u03c0: 3.14159265358979, \u03c9_d: 2\u22c5\u03c0, \u03c9_n: \u2500\u2500\u2500\u2500\u2500\u2500\u2500\u2500\u2500\u2500\u2500\u2500\u2500, x\u2080: 1.0, \u03b6: 0.05\u23aa\n",
        "\u23a8                                       __________                  \u23ac\n",
        "\u23aa                                      \u2571    2                       \u23aa\n",
        "\u23a9                                    \u2572\u2571  - \u03b6  + 1                   \u23ad"
       ]
      }
     ],
     "prompt_number": 5
    },
    {
     "cell_type": "markdown",
     "metadata": {
      "slideshow": {
       "slide_type": "subslide"
      }
     },
     "source": [
      "At the end, we display the analytical expression of $x(t)$ and plot\n",
      "\n",
      " 1. $x(t)$,\n",
      " \n",
      " 2. $\\dot x(t)$."
     ]
    },
    {
     "cell_type": "code",
     "collapsed": false,
     "input": [
      "display(u.subs(coeff).subs(values))\n",
      "sy.plot(u.subs(coeff).subs(values), (t,0,5.99));\n",
      "sy.plot(v.subs(coeff).subs(values), (t,0,5.99)  );"
     ],
     "language": "python",
     "metadata": {
      "slideshow": {
       "slide_type": "slide"
      }
     },
     "outputs": [
      {
       "latex": [
        "$$\\left(0.0500626174321759 \\sin{\\left (2 \\pi t \\right )} + 1.0 \\cos{\\left (2 \\pi t \\right )}\\right) e^{- 0.100125234864352 \\pi t}$$"
       ],
       "metadata": {},
       "output_type": "display_data",
       "png": "[encoded data removed]",
       "text": [
        "                                                  -0.100125234864352\u22c5\u03c0\u22c5t\n",
        "(0.0500626174321759\u22c5sin(2\u22c5\u03c0\u22c5t) + 1.0\u22c5cos(2\u22c5\u03c0\u22c5t))\u22c5\u212f                      "
       ]
      },
      {
       "metadata": {},
       "output_type": "display_data",
       "png": "[encoded data removed]",
       "text": [
        "<matplotlib.figure.Figure at 0x7f9543c73890>"
       ]
      },
      {
       "metadata": {},
       "output_type": "display_data",
       "png": "[encoded data removed]",
       "text": [
        "<matplotlib.figure.Figure at 0x7f9542012d90>"
       ]
      }
     ],
     "prompt_number": 6
    },
    {
     "cell_type": "heading",
     "level": 1,
     "metadata": {
      "slideshow": {
       "slide_type": "slide"
      }
     },
     "source": [
      "Logarithmic decrement"
     ]
    },
    {
     "cell_type": "markdown",
     "metadata": {
      "slideshow": {
       "slide_type": "fragment"
      }
     },
     "source": [
      "We assume that our system has been deformed by the application of some static load,\n",
      "so that at time $t=0$ the initial conditions are $x(0)=x_0$ and $\\dot x(0)=0$.\n",
      "\n",
      "At $t=0$ the static force is suddenly released, we observe an oscillatory behaviour\n",
      "as we have detailed in the preceding section.\n",
      "\n",
      "and we are able to measure the peak displacement after $n$ cycles, $x_n$.\n"
     ]
    },
    {
     "cell_type": "heading",
     "level": 2,
     "metadata": {
      "slideshow": {
       "slide_type": "slide"
      }
     },
     "source": [
      "Specify data"
     ]
    },
    {
     "cell_type": "markdown",
     "metadata": {},
     "source": [
      "The following code gives appropriate names to values measured or computed from\n",
      "expressions, the value of the logarithmic decrement is eventually printed."
     ]
    },
    {
     "cell_type": "code",
     "collapsed": false,
     "input": [
      "n = 3\n",
      "x0 = 8.00\n",
      "xn = 3.11\n",
      "dn = log(x0/xn)\n",
      "print \"delta_n =\",dn"
     ],
     "language": "python",
     "metadata": {
      "slideshow": {
       "slide_type": "fragment"
      }
     },
     "outputs": [
      {
       "output_type": "stream",
       "stream": "stdout",
       "text": [
        "delta_n = 0.944818815489\n"
       ]
      }
     ],
     "prompt_number": 7
    },
    {
     "cell_type": "markdown",
     "metadata": {
      "slideshow": {
       "slide_type": "fragment"
      }
     },
     "source": [
      "The exact expression for $\\zeta$ is\n",
      "\n",
      "$$  \\zeta = \\sqrt{\\frac{\\delta_n^2}{(2 n \\pi)^2 + \\delta_n^2}}\n",
      "  \\text{ with }  \\delta_n = \\log\\frac{x_0}{x_n}.$$\n",
      "\n",
      "We've already computed $\\delta_n$ in the previous code cell \n",
      "so we can write the numerator and the denominator of the radicand\n",
      "and eventually compute the _\"exact\"_ value of $\\zeta$."
     ]
    },
    {
     "cell_type": "code",
     "collapsed": false,
     "input": [
      "num = dn*dn\n",
      "den = 4 * n*n * pi*pi + dn*dn\n",
      "z = sqrt(num/den)\n",
      "print \"zeta = %f\"%(z*100,)"
     ],
     "language": "python",
     "metadata": {
      "slideshow": {
       "slide_type": "fragment"
      }
     },
     "outputs": [
      {
       "output_type": "stream",
       "stream": "stdout",
       "text": [
        "zeta = 5.006135\n"
       ]
      }
     ],
     "prompt_number": 8
    },
    {
     "cell_type": "heading",
     "level": 2,
     "metadata": {
      "slideshow": {
       "slide_type": "slide"
      }
     },
     "source": [
      "Approximate expression"
     ]
    },
    {
     "cell_type": "markdown",
     "metadata": {},
     "source": [
      "The linearized expression for $\\zeta$, that we have found using the first\n",
      "and second terms of the McLaurin series expressing $\\exp(a\\zeta)=1+a\\zeta$, is \n",
      "\n",
      "$$\\zeta \\approx \\frac{1}{2 n \\pi}\\,\\frac{x_0-x_n}{x_n}.$$\n",
      "\n",
      "We know that this approximation is good for low damping and few cycles..."
     ]
    },
    {
     "cell_type": "code",
     "collapsed": false,
     "input": [
      "print \"Estimate\", 100 * (x0-xn) / xn / ( 2*n* pi )\n",
      "print \"error (z/est.)\",z /((x0-xn) / xn / ( 2*n* pi ))"
     ],
     "language": "python",
     "metadata": {
      "slideshow": {
       "slide_type": "fragment"
      }
     },
     "outputs": [
      {
       "output_type": "stream",
       "stream": "stdout",
       "text": [
        "Estimate 8.34156132604\n",
        "error (z/est.) 0.600143600147\n"
       ]
      }
     ],
     "prompt_number": 9
    },
    {
     "cell_type": "heading",
     "level": 2,
     "metadata": {
      "slideshow": {
       "slide_type": "slide"
      }
     },
     "source": [
      "Iterative solution"
     ]
    },
    {
     "cell_type": "markdown",
     "metadata": {},
     "source": [
      "We write, formally,\n",
      "\n",
      "$$\\zeta = \\xi\\sqrt{1-\\zeta^2}, \\qquad\\text{with }\\xi = \\frac{1}{2 n \\pi} \\log\\frac{x_0}{x_n}$$\n",
      "\n",
      "and derive an iterative formulation\n",
      "\n",
      "$$\\zeta_{i+1} = \\xi\\sqrt{1-\\zeta_i^2}, \\qquad\\text{with } i = 0, 1, 2, \\ldots$$\n",
      "\n",
      "Note that, for $\\zeta_0 = 0$, it is $\\zeta_1 = \\xi$.\n",
      "\n",
      "In theory, we have to check the convergence of the sequence and stop when the \n",
      "convergence is reached, but in our cases the convergence is soo fast that we\n",
      "are safe implementing the solution in a `for` loop\n"
     ]
    },
    {
     "cell_type": "code",
     "collapsed": false,
     "input": [
      "csi= dn/2/n/pi\n",
      "z_i = csi\n",
      "\n",
      "print \"      zeta_0 = 0.00000000000000%\"\n",
      "print \"csi = zeta_1 = %16.14f%%\" % (csi*100,)\n",
      "for i in range(2, 6):\n",
      "    z_i = csi*sqrt(1-z_i*z_i)\n",
      "    print '      zeta_%d = %16.14f%%'%(i,100*z_i)"
     ],
     "language": "python",
     "metadata": {
      "slideshow": {
       "slide_type": "subslide"
      }
     },
     "outputs": [
      {
       "output_type": "stream",
       "stream": "stdout",
       "text": [
        "      zeta_0 = 0.00000000000000%\n",
        "csi = zeta_1 = 5.01241949370850%\n",
        "      zeta_2 = 5.00611884484703%\n",
        "      zeta_3 = 5.00613468475389%\n",
        "      zeta_4 = 5.00613464495722%\n",
        "      zeta_5 = 5.00613464505721%\n"
       ]
      }
     ],
     "prompt_number": 10
    }
   ],
   "metadata": {}
  }
 ]
}