{
 "metadata": {
  "name": "",
  "signature": "sha256:f9f1154d7009d1308dad26248b6ea0022790e92c78d209d8e5b426a6578c5ea4"
 },
 "nbformat": 3,
 "nbformat_minor": 0,
 "worksheets": [
  {
   "cells": [
    {
     "cell_type": "code",
     "collapsed": false,
     "input": [
      "from sympy import *\n",
      "init_printing(use_latex=True)\n",
      "from IPython.display import display\n",
      "from numpy import array\n",
      "from scipy.linalg import eigh\n",
      "from IPython.display import HTML\n",
      "HTML(open(\"00_custom.css\", \"r\").read())"
     ],
     "language": "python",
     "metadata": {},
     "outputs": [
      {
       "html": [
        "<style>\n",
        "@font-face {\n",
        "    font-family: 'Charis SIL';\n",
        "    src: url('fonts/CharisSILEur-R.woff') format('woff');\n",
        "}\n",
        "@font-face {\n",
        "    font-family: 'Architects Daughter';\n",
        "    font-style: normal;\n",
        "    src: url(https://fonts.gstatic.com/s/architectsdaughter/v6/RXTgOOQ9AAtaVOHxx0IUBM3t7GjCYufj5TXV5VnA2p8.woff2) format('woff2');\n",
        "    unicode-range: U+0000-00FF, U+0131, U+0152-0153, U+02C6, U+02DA, U+02DC, U+2000-206F, U+2074, U+20AC, U+2212, U+2215, U+E0FF, U+EFFD, U+F000;\n",
        "}\n",
        ".prompt{display: None;}\n",
        "div.cell{margin: auto;width:900px;}\n",
        "\n",
        "div #notebook { /* centre the content */\n",
        "    background: #fff9f0;\n",
        "    margin: auto;\n",
        "    padding: 0em;\n",
        "    padding-top: 1em;\n",
        "}\n",
        "div #notebook_container {width: 960px!important;}\n",
        "#notebook li { /* More space between bullet points */\n",
        "    margin-top:0.2em;\n",
        "}\n",
        "\n",
        "div.text_cell_render{\n",
        "    font-family: \"Charis SIL\", Cambria,  serif;\n",
        "    line-height: 155%;\n",
        "    font-size: 130%;\n",
        "}\n",
        ".CodeMirror{\n",
        "    font-family: Consolas, monospace;\n",
        "    font-size: 140%;\n",
        "    background-color:#fffcf6!important;\n",
        "}\n",
        "\n",
        ".output_area {\n",
        "    font-family: Consolas,monospace;font-size: 120%;\n",
        "    background-color:#fffcf6!important;\n",
        "    margin-top:0.8em;\n",
        "}\n",
        "\n",
        "div.output_latex{overflow:hidden}\n",
        "\n",
        "h1 {\n",
        "    font-family: 'Architects Daughter', serif;\n",
        "    font-size:   48pt!important;\n",
        "    text-align:  center;\n",
        "    text-shadow: 4px 4px 4px #aaa;\n",
        "    padding-bottom: 48pt;\n",
        "}\n",
        "\n",
        ".warning{color: rgb( 240, 20, 20 )}\n",
        "</style>\n",
        "<script>\n",
        "MathJax.Hub.Config({\n",
        "    TeX: {extensions: [\"AMSmath.js\", \"begingroup.js\"]},\n",
        "    tex2jax: {\n",
        "        inlineMath: [ ['$','$'], [\"\\\\(\",\"\\\\)\"] ],\n",
        "        displayMath: [ ['$$','$$'], [\"\\\\[\",\"\\\\]\"] ]\n",
        "                },\n",
        "    displayAlign: 'center', // Change this to 'center' to center equations.\n",
        "    \"HTML-CSS\": {styles: {'.MathJax_Display': {\"margin\": 4}}}\n",
        "        });\n",
        "</script>\n"
       ],
       "metadata": {},
       "output_type": "pyout",
       "prompt_number": 1,
       "text": [
        "<IPython.core.display.HTML at 0x7fcb8d805790>"
       ]
      }
     ],
     "prompt_number": 1
    },
    {
     "cell_type": "heading",
     "level": 1,
     "metadata": {},
     "source": [
      "Rayleigh Quotient"
     ]
    },
    {
     "cell_type": "markdown",
     "metadata": {},
     "source": [
      "We are going to use a little symbolic algebra, hence we'll need the following base symbols:"
     ]
    },
    {
     "cell_type": "code",
     "collapsed": false,
     "input": [
      "x1, x2, x3, k, L, m = symbols('x1, x2, x3, k, L, m')"
     ],
     "language": "python",
     "metadata": {},
     "outputs": [],
     "prompt_number": 2
    },
    {
     "cell_type": "markdown",
     "metadata": {},
     "source": [
      "The single degrees of freedom have to be collected in a vector,"
     ]
    },
    {
     "cell_type": "code",
     "collapsed": false,
     "input": [
      "x = Matrix((x1,x2,x3))\n",
      "x"
     ],
     "language": "python",
     "metadata": {},
     "outputs": [
      {
       "latex": [
        "$$\\left[\\begin{matrix}x_{1}\\\\x_{2}\\\\x_{3}\\end{matrix}\\right]$$"
       ],
       "metadata": {},
       "output_type": "pyout",
       "png": "[encoded data removed]",
       "prompt_number": 3,
       "text": [
        "\u23a1x\u2081\u23a4\n",
        "\u23a2  \u23a5\n",
        "\u23a2x\u2082\u23a5\n",
        "\u23a2  \u23a5\n",
        "\u23a3x\u2083\u23a6"
       ]
      }
     ],
     "prompt_number": 3
    },
    {
     "cell_type": "markdown",
     "metadata": {},
     "source": [
      "We want to compute the (double of the) strain energy, to do so we need  the relative rotations, that we can compute if we know in advance the rotations of each individual bar... "
     ]
    },
    {
     "cell_type": "code",
     "collapsed": false,
     "input": [
      "phi1, phi2, phi3 = x1/L, (x2-x1)/L, (x3-x2)/L\n",
      "phi21, phi32 = phi2-phi1, phi3-phi2\n",
      "W2 = x2**2*k + phi21**2*k*L*L + phi32**2*k*L*L\n",
      "print latex((W2/k).expand())\n",
      "W2.expand()"
     ],
     "language": "python",
     "metadata": {},
     "outputs": [
      {
       "output_type": "stream",
       "stream": "stdout",
       "text": [
        "5 x_{1}^{2} - 8 x_{1} x_{2} + 2 x_{1} x_{3} + 6 x_{2}^{2} - 4 x_{2} x_{3} + x_{3}^{2}\n"
       ]
      },
      {
       "latex": [
        "$$5 k x_{1}^{2} - 8 k x_{1} x_{2} + 2 k x_{1} x_{3} + 6 k x_{2}^{2} - 4 k x_{2} x_{3} + k x_{3}^{2}$$"
       ],
       "metadata": {},
       "output_type": "pyout",
       "png": "[encoded data removed]",
       "prompt_number": 9,
       "text": [
        "      2                                 2                   2\n",
        "5\u22c5k\u22c5x\u2081  - 8\u22c5k\u22c5x\u2081\u22c5x\u2082 + 2\u22c5k\u22c5x\u2081\u22c5x\u2083 + 6\u22c5k\u22c5x\u2082  - 4\u22c5k\u22c5x\u2082\u22c5x\u2083 + k\u22c5x\u2083 "
       ]
      }
     ],
     "prompt_number": 9
    },
    {
     "cell_type": "markdown",
     "metadata": {},
     "source": [
      "By comparison with the previuous expression, we have the stiffness matrix"
     ]
    },
    {
     "cell_type": "code",
     "collapsed": false,
     "input": [
      "K = k*Matrix(((5,-4,1),(-4,6,-2),(1,-2,1)))\n",
      "K"
     ],
     "language": "python",
     "metadata": {},
     "outputs": [
      {
       "latex": [
        "$$\\left[\\begin{matrix}5 k & - 4 k & k\\\\- 4 k & 6 k & - 2 k\\\\k & - 2 k & k\\end{matrix}\\right]$$"
       ],
       "metadata": {},
       "output_type": "pyout",
       "png": "[encoded data removed]",
       "prompt_number": 6,
       "text": [
        "\u23a15\u22c5k   -4\u22c5k   k  \u23a4\n",
        "\u23a2                \u23a5\n",
        "\u23a2-4\u22c5k  6\u22c5k   -2\u22c5k\u23a5\n",
        "\u23a2                \u23a5\n",
        "\u23a3 k    -2\u22c5k   k  \u23a6"
       ]
      }
     ],
     "prompt_number": 6
    },
    {
     "cell_type": "markdown",
     "metadata": {},
     "source": [
      "To compute the (double of the) kinetic energy, we have to compute the rotatory inertia and the displacements of the centers of the bars, as we have already computed the bars' rotations,"
     ]
    },
    {
     "cell_type": "code",
     "collapsed": false,
     "input": [
      "J = m*L*L/12\n",
      "xg1, xg2, xg3 = x1/2, (x1+x2)/2, (x2+x3)/2\n",
      "T2 = m*(xg1**2+xg2**2+xg3**2) + J*(phi1**2+phi2**2+phi3**2) \n",
      "print latex((T2/m).expand())\n",
      "T2.expand()"
     ],
     "language": "python",
     "metadata": {},
     "outputs": [
      {
       "output_type": "stream",
       "stream": "stdout",
       "text": [
        "\\frac{2 x_{1}^{2}}{3} + \\frac{x_{1} x_{2}}{3} + \\frac{2 x_{2}^{2}}{3} + \\frac{x_{2} x_{3}}{3} + \\frac{x_{3}^{2}}{3}\n"
       ]
      },
      {
       "latex": [
        "$$\\frac{2 m}{3} x_{1}^{2} + \\frac{m x_{1}}{3} x_{2} + \\frac{2 m}{3} x_{2}^{2} + \\frac{m x_{2}}{3} x_{3} + \\frac{m x_{3}^{2}}{3}$$"
       ],
       "metadata": {},
       "output_type": "pyout",
       "png": "[encoded data removed]",
       "prompt_number": 8,
       "text": [
        "      2                   2                 2\n",
        "2\u22c5m\u22c5x\u2081    m\u22c5x\u2081\u22c5x\u2082   2\u22c5m\u22c5x\u2082    m\u22c5x\u2082\u22c5x\u2083   m\u22c5x\u2083 \n",
        "\u2500\u2500\u2500\u2500\u2500\u2500\u2500 + \u2500\u2500\u2500\u2500\u2500\u2500\u2500 + \u2500\u2500\u2500\u2500\u2500\u2500\u2500 + \u2500\u2500\u2500\u2500\u2500\u2500\u2500 + \u2500\u2500\u2500\u2500\u2500\n",
        "   3         3         3         3        3  "
       ]
      }
     ],
     "prompt_number": 8
    },
    {
     "cell_type": "markdown",
     "metadata": {},
     "source": [
      "Again, by comparison with the kinetic energy we can derive the mass matrix,"
     ]
    },
    {
     "cell_type": "code",
     "collapsed": false,
     "input": [
      "M = m*Matrix(((4,1,0),(1,4,1),(0,1,2)))/6\n",
      "M"
     ],
     "language": "python",
     "metadata": {},
     "outputs": [
      {
       "latex": [
        "$$\\left[\\begin{matrix}\\frac{2 m}{3} & \\frac{m}{6} & 0\\\\\\frac{m}{6} & \\frac{2 m}{3} & \\frac{m}{6}\\\\0 & \\frac{m}{6} & \\frac{m}{3}\\end{matrix}\\right]$$"
       ],
       "metadata": {},
       "output_type": "pyout",
       "png": "[encoded data removed]",
       "prompt_number": 11,
       "text": [
        "\u23a12\u22c5m   m    \u23a4\n",
        "\u23a2\u2500\u2500\u2500   \u2500   0\u23a5\n",
        "\u23a2 3    6    \u23a5\n",
        "\u23a2           \u23a5\n",
        "\u23a2 m   2\u22c5m  m\u23a5\n",
        "\u23a2 \u2500   \u2500\u2500\u2500  \u2500\u23a5\n",
        "\u23a2 6    3   6\u23a5\n",
        "\u23a2           \u23a5\n",
        "\u23a2      m   m\u23a5\n",
        "\u23a2 0    \u2500   \u2500\u23a5\n",
        "\u23a3      6   3\u23a6"
       ]
      }
     ],
     "prompt_number": 11
    },
    {
     "cell_type": "markdown",
     "metadata": {},
     "source": [
      "Having computed, as requested, the structural matrices we are ready for the Rayleigh estimates, but first we define a trial vector and an auxiliary matrix, that we'll use in the following to simplify our lengthy expressions"
     ]
    },
    {
     "cell_type": "code",
     "collapsed": false,
     "input": [
      "x0 = Matrix((1,2,4))\n",
      "D = K.inv()*M"
     ],
     "language": "python",
     "metadata": {},
     "outputs": [],
     "prompt_number": 12
    },
    {
     "cell_type": "markdown",
     "metadata": {},
     "source": [
      "Here are the expression for the energies, normalized with respect to $Z_0^2/2$"
     ]
    },
    {
     "cell_type": "code",
     "collapsed": false,
     "input": [
      "w2 = 1\n",
      "V0 = (x0.T*K*x0)[0] *     w2**0\n",
      "T0 = (x0.T*M*x0)[0] *     w2**1\n",
      "V1 = (x0.T*M*D*x0)[0] *   w2**2\n",
      "T1 = (x0.T*M*D*D*x0)[0] * w2**3\n",
      "V0, T0, V1, T1"
     ],
     "language": "python",
     "metadata": {},
     "outputs": [
      {
       "latex": [
        "$$\\left ( 5 k, \\quad 12 m, \\quad \\frac{355 m^{2}}{12 k}, \\quad \\frac{31523 m^{3}}{432 k^{2}}\\right )$$"
       ],
       "metadata": {},
       "output_type": "pyout",
       "png": "[encoded data removed]",
       "prompt_number": 13,
       "text": [
        "\u239b                2         3\u239e\n",
        "\u239c           355\u22c5m   31523\u22c5m \u239f\n",
        "\u239c5\u22c5k, 12\u22c5m, \u2500\u2500\u2500\u2500\u2500\u2500, \u2500\u2500\u2500\u2500\u2500\u2500\u2500\u2500\u239f\n",
        "\u239c            12\u22c5k         2 \u239f\n",
        "\u239d                    432\u22c5k  \u23a0"
       ]
      }
     ],
     "prompt_number": 13
    },
    {
     "cell_type": "markdown",
     "metadata": {},
     "source": [
      "The Rayleigh estimates are as follows, fractions first and then floating point numbers"
     ]
    },
    {
     "cell_type": "code",
     "collapsed": false,
     "input": [
      "display(V0/T0, T0/V1, V1/T1)\n",
      "map(N,(V0/T0, T0/V1, V1/T1))"
     ],
     "language": "python",
     "metadata": {},
     "outputs": [
      {
       "latex": [
        "$$\\frac{5 k}{12 m}$$"
       ],
       "metadata": {},
       "output_type": "display_data",
       "png": "[encoded data removed]",
       "text": [
        "5\u22c5k \n",
        "\u2500\u2500\u2500\u2500\n",
        "12\u22c5m"
       ]
      },
      {
       "latex": [
        "$$\\frac{144 k}{355 m}$$"
       ],
       "metadata": {},
       "output_type": "display_data",
       "png": "[encoded data removed]",
       "text": [
        "144\u22c5k\n",
        "\u2500\u2500\u2500\u2500\u2500\n",
        "355\u22c5m"
       ]
      },
      {
       "latex": [
        "$$\\frac{12780 k}{31523 m}$$"
       ],
       "metadata": {},
       "output_type": "display_data",
       "png": "[encoded data removed]",
       "text": [
        "12780\u22c5k\n",
        "\u2500\u2500\u2500\u2500\u2500\u2500\u2500\n",
        "31523\u22c5m"
       ]
      },
      {
       "latex": [
        "$$\\left [ \\frac{0.416666666666667 k}{m}, \\quad \\frac{0.405633802816901 k}{m}, \\quad \\frac{0.40541826602798 k}{m}\\right ]$$"
       ],
       "metadata": {},
       "output_type": "pyout",
       "png": "[encoded data removed]",
       "prompt_number": 10,
       "text": [
        "\u23a10.416666666666667\u22c5k  0.405633802816901\u22c5k  0.40541826602798\u22c5k\u23a4\n",
        "\u23a2\u2500\u2500\u2500\u2500\u2500\u2500\u2500\u2500\u2500\u2500\u2500\u2500\u2500\u2500\u2500\u2500\u2500\u2500\u2500, \u2500\u2500\u2500\u2500\u2500\u2500\u2500\u2500\u2500\u2500\u2500\u2500\u2500\u2500\u2500\u2500\u2500\u2500\u2500, \u2500\u2500\u2500\u2500\u2500\u2500\u2500\u2500\u2500\u2500\u2500\u2500\u2500\u2500\u2500\u2500\u2500\u2500\u23a5\n",
        "\u23a3         m                    m                   m         \u23a6"
       ]
      }
     ],
     "prompt_number": 10
    },
    {
     "cell_type": "markdown",
     "metadata": {},
     "source": [
      "Just to be sure, a check with the results of a library function..."
     ]
    },
    {
     "cell_type": "code",
     "collapsed": false,
     "input": [
      "for x in eigh(\n",
      "    array(((5,-4,1),(-4,6,-2),(1,-2,1)))/1.,\n",
      "    array(((4,1,0),(1,4,1),(0,1,2)))/6., eigvals=(0,0)): print x"
     ],
     "language": "python",
     "metadata": {},
     "outputs": [
      {
       "output_type": "stream",
       "stream": "stdout",
       "text": [
        "[ 0.40540716]\n",
        "[[ 0.2843138 ]\n",
        " [ 0.60585859]\n",
        " [ 1.11964382]]\n"
       ]
      }
     ],
     "prompt_number": 11
    }
   ],
   "metadata": {}
  }
 ]
}