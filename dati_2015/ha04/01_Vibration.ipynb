{
 "metadata": {
  "name": "",
  "signature": "sha256:b809291ab089bcb0cd4f48b575054d81a79b37ad8322b71787356ee95c4c6e18"
 },
 "nbformat": 3,
 "nbformat_minor": 0,
 "worksheets": [
  {
   "cells": [
    {
     "cell_type": "code",
     "collapsed": false,
     "input": [
      "from IPython.display import HTML\n",
      "HTML(open(\"00_custom.css\", \"r\").read())"
     ],
     "language": "python",
     "metadata": {},
     "outputs": [
      {
       "html": [
        "<style>\n",
        "@font-face {\n",
        "    font-family: 'Charis SIL';\n",
        "    src: url('fonts/CharisSILEur-R.woff') format('woff');\n",
        "}\n",
        "@font-face {\n",
        "    font-family: 'Architects Daughter';\n",
        "    font-style: normal;\n",
        "    src: url(https://fonts.gstatic.com/s/architectsdaughter/v6/RXTgOOQ9AAtaVOHxx0IUBM3t7GjCYufj5TXV5VnA2p8.woff2) format('woff2');\n",
        "    unicode-range: U+0000-00FF, U+0131, U+0152-0153, U+02C6, U+02DA, U+02DC, U+2000-206F, U+2074, U+20AC, U+2212, U+2215, U+E0FF, U+EFFD, U+F000;\n",
        "}\n",
        ".prompt{display: None;}\n",
        "div.cell{margin: auto;width:900px;}\n",
        "\n",
        "div #notebook { /* centre the content */\n",
        "    background: #fff9f0;\n",
        "    margin: auto;\n",
        "    padding: 0em;\n",
        "    padding-top: 1em;\n",
        "}\n",
        "div #notebook_container {width: 960px!important;}\n",
        "#notebook li { /* More space between bullet points */\n",
        "    margin-top:0.2em;\n",
        "}\n",
        "\n",
        "div.text_cell_render{\n",
        "    font-family: \"Charis SIL\", Cambria,  serif;\n",
        "    line-height: 155%;\n",
        "    font-size: 130%;\n",
        "}\n",
        ".CodeMirror{\n",
        "    font-family: Consolas, monospace;\n",
        "    font-size: 140%;\n",
        "    background-color:#fffcf6!important;\n",
        "}\n",
        "\n",
        ".output_area {\n",
        "    font-family: Consolas,monospace;font-size: 120%;\n",
        "    background-color:#fffcf6!important;\n",
        "    margin-top:0.8em;\n",
        "}\n",
        "\n",
        "div.output_latex{overflow:hidden}\n",
        "\n",
        "h1 {\n",
        "    font-family: 'Architects Daughter', serif;\n",
        "    font-size:   48pt!important;\n",
        "    text-align:  center;\n",
        "    text-shadow: 4px 4px 4px #aaa;\n",
        "    padding-bottom: 48pt;\n",
        "}\n",
        "\n",
        ".warning{color: rgb( 240, 20, 20 )}\n",
        "</style>\n",
        "<script>\n",
        "MathJax.Hub.Config({\n",
        "    TeX: {extensions: [\"AMSmath.js\", \"begingroup.js\"]},\n",
        "    tex2jax: {\n",
        "        inlineMath: [ ['$','$'], [\"\\\\(\",\"\\\\)\"] ],\n",
        "        displayMath: [ ['$$','$$'], [\"\\\\[\",\"\\\\]\"] ]\n",
        "                },\n",
        "    displayAlign: 'center', // Change this to 'center' to center equations.\n",
        "    \"HTML-CSS\": {styles: {'.MathJax_Display': {\"margin\": 4}}}\n",
        "        });\n",
        "</script>\n"
       ],
       "metadata": {},
       "output_type": "pyout",
       "prompt_number": 1,
       "text": [
        "<IPython.core.display.HTML at 0x7f6be591e850>"
       ]
      }
     ],
     "prompt_number": 1
    },
    {
     "cell_type": "heading",
     "level": 1,
     "metadata": {},
     "source": [
      "01 Vibration Isolation"
     ]
    },
    {
     "cell_type": "markdown",
     "metadata": {},
     "source": [
      "A rotating machine is characterized by\n",
      "\n",
      "\n",
      " - its mass, $m=108000\\,{}$kg;\n",
      " - its working frequency, $f_\\text{w}=30\\,{}$Hz,\n",
      " - the value of the unbalanced load it exerts on its supports,     $f_\\text{w}={4200}\\,{}$N."
     ]
    },
    {
     "cell_type": "code",
     "collapsed": false,
     "input": [
      "m = 108000.0\n",
      "fw = 30.0\n",
      "pw = 4200.0"
     ],
     "language": "python",
     "metadata": {},
     "outputs": [],
     "prompt_number": 2
    },
    {
     "cell_type": "markdown",
     "metadata": {},
     "source": [
      "Design a suspension system for the machine knowing that it is\n",
      "necessary to reduce the transmitted force to ${1000}\\,{}$N and\n",
      "that, to reduce the vibration amplitude during transients, the\n",
      "suspension must have a viscous damping ratio of $7\\%$."
     ]
    },
    {
     "cell_type": "code",
     "collapsed": false,
     "input": [
      "p = 1000.0\n",
      "TR = p/pw\n",
      "print \"The required transmissibility ratio is TR = %5.2f%%.\"%(100*TR)\n",
      "z = 0.07"
     ],
     "language": "python",
     "metadata": {},
     "outputs": [
      {
       "output_type": "stream",
       "stream": "stdout",
       "text": [
        "The required transmissibility ratio is TR = 23.81%.\n"
       ]
      }
     ],
     "prompt_number": 3
    },
    {
     "cell_type": "heading",
     "level": 2,
     "metadata": {},
     "source": [
      "Solution"
     ]
    },
    {
     "cell_type": "markdown",
     "metadata": {},
     "source": [
      "We import a few things we need, we define a function to compute the transmissibility ratio as a function of $\\beta$ and $\\zeta$."
     ]
    },
    {
     "cell_type": "code",
     "collapsed": false,
     "input": [
      "from math import pi, sqrt\n",
      "from scipy.optimize import bisect\n",
      "def tr(b, z):\n",
      "    return sqrt((1+(2*z*b)**2)/((1-b*b)**2+(2*z*b)**2))"
     ],
     "language": "python",
     "metadata": {},
     "outputs": [],
     "prompt_number": 4
    },
    {
     "cell_type": "markdown",
     "metadata": {},
     "source": [
      "To solve our problem, we need to pass to bisect a function that\n",
      "\n",
      "- is equal to zero when `tr(b,z)` equals `TR`,\n",
      "- is a function of `b` only.\n",
      "\n",
      "We fulfill our requirements using the `lambda` syntax to define on the fly an appropriate anonymous function:"
     ]
    },
    {
     "cell_type": "code",
     "collapsed": false,
     "input": [
      "b = bisect(lambda b: tr(b,z)-TR, 1.4, 10.0)\n",
      "print \"The frequency ratio fw/fn is %6.4f\"%b"
     ],
     "language": "python",
     "metadata": {},
     "outputs": [
      {
       "output_type": "stream",
       "stream": "stdout",
       "text": [
        "The frequency ratio fw/fn is 2.3248\n"
       ]
      }
     ],
     "prompt_number": 5
    },
    {
     "cell_type": "markdown",
     "metadata": {},
     "source": [
      "We need $\\omega_n$ (and we compute also $\\omega_D$ while we are at it) so we preliminarily need the circular frequency of the machine, $\\omega_w=2\\pi f_w$."
     ]
    },
    {
     "cell_type": "code",
     "collapsed": false,
     "input": [
      "ww = 2*pi*fw\n",
      "wn = ww/b\n",
      "wd = wn*sqrt(1.0-z**2)\n",
      "print \"\"\"\\\n",
      "The circular frequency of the machine            %7.3f rad/s,\n",
      "The natural frequency of the suspension system   %7.3f rad/s,\n",
      "The damped frequency of the suspension system    %7.3f rad/s.\"\"\"%(\n",
      "ww, wn, wd)"
     ],
     "language": "python",
     "metadata": {},
     "outputs": [
      {
       "output_type": "stream",
       "stream": "stdout",
       "text": [
        "The circular frequency of the machine            188.496 rad/s,\n",
        "The natural frequency of the suspension system    81.079 rad/s,\n",
        "The damped frequency of the suspension system     80.880 rad/s.\n"
       ]
      }
     ],
     "prompt_number": 6
    },
    {
     "cell_type": "markdown",
     "metadata": {},
     "source": [
      "To complete our solution, we have that\n",
      "$$k = \\omega_n^2m$$\n",
      "and\n",
      "$$c = 2\\zeta\\omega_nm$$"
     ]
    },
    {
     "cell_type": "code",
     "collapsed": false,
     "input": [
      "k  = wn**2*m\n",
      "c  = 2*z*wn*m\n",
      "print \"\"\"\\\n",
      "The stiffness of the suspension system is        %7.3f kN / mm,\n",
      "The damping of the suspension system is          %7.3f kN s/mm.\"\"\"%(\n",
      "k/1E6, c/1E6)"
     ],
     "language": "python",
     "metadata": {},
     "outputs": [
      {
       "output_type": "stream",
       "stream": "stdout",
       "text": [
        "The stiffness of the suspension system is        709.973 kN / mm,\n",
        "The damping of the suspension system is            1.226 kN s/mm.\n"
       ]
      }
     ],
     "prompt_number": 7
    }
   ],
   "metadata": {}
  }
 ]
}