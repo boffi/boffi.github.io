{
 "metadata": {
  "name": "",
  "signature": "sha256:93cb9a79f5d201058b531b08cb78e63dd9a0dad739c2db62f334ebbb73bde31b"
 },
 "nbformat": 3,
 "nbformat_minor": 0,
 "worksheets": [
  {
   "cells": [
    {
     "cell_type": "code",
     "collapsed": false,
     "input": [
      "import numpy as np\n",
      "import matplotlib.pyplot as plt\n",
      "plt.style.use(['fivethirtyeight', './00_mplrc'])\n",
      "%matplotlib inline\n",
      "from IPython.display import HTML\n",
      "HTML(open(\"00_custom.css\", \"r\").read())"
     ],
     "language": "python",
     "metadata": {},
     "outputs": [
      {
       "html": [
        "<style>\n",
        "@font-face {\n",
        "    font-family: 'Charis SIL';\n",
        "    src: url('fonts/CharisSILEur-R.woff') format('woff');\n",
        "}\n",
        "@font-face {\n",
        "    font-family: 'Architects Daughter';\n",
        "    font-style: normal;\n",
        "    src: url(https://fonts.gstatic.com/s/architectsdaughter/v6/RXTgOOQ9AAtaVOHxx0IUBM3t7GjCYufj5TXV5VnA2p8.woff2) format('woff2');\n",
        "    unicode-range: U+0000-00FF, U+0131, U+0152-0153, U+02C6, U+02DA, U+02DC, U+2000-206F, U+2074, U+20AC, U+2212, U+2215, U+E0FF, U+EFFD, U+F000;\n",
        "}\n",
        ".prompt{display: None;}\n",
        "div.cell{margin: auto;width:900px;}\n",
        "\n",
        "div #notebook { /* centre the content */\n",
        "    background: #fff9f0;\n",
        "    margin: auto;\n",
        "    padding: 0em;\n",
        "    padding-top: 1em;\n",
        "}\n",
        "div #notebook_container {width: 960px!important;}\n",
        "#notebook li { /* More space between bullet points */\n",
        "    margin-top:0.2em;\n",
        "}\n",
        "\n",
        "div.text_cell_render{\n",
        "    font-family: \"Charis SIL\", Cambria,  serif;\n",
        "    line-height: 155%;\n",
        "    font-size: 130%;\n",
        "}\n",
        ".CodeMirror{\n",
        "    font-family: Consolas, monospace;\n",
        "    font-size: 140%;\n",
        "    background-color:#fffcf6!important;\n",
        "}\n",
        "\n",
        ".output_area {\n",
        "    font-family: Consolas,monospace;font-size: 120%;\n",
        "    background-color:#fffcf6!important;\n",
        "    margin-top:0.8em;\n",
        "}\n",
        "\n",
        "div.output_latex{overflow:hidden}\n",
        "\n",
        "h1 {\n",
        "    font-family: 'Architects Daughter', serif;\n",
        "    font-size:   48pt!important;\n",
        "    text-align:  center;\n",
        "    text-shadow: 4px 4px 4px #aaa;\n",
        "    padding-bottom: 48pt;\n",
        "}\n",
        "\n",
        ".warning{color: rgb( 240, 20, 20 )}\n",
        "</style>\n",
        "<script>\n",
        "MathJax.Hub.Config({\n",
        "    TeX: {extensions: [\"AMSmath.js\", \"begingroup.js\"]},\n",
        "    tex2jax: {\n",
        "        inlineMath: [ ['$','$'], [\"\\\\(\",\"\\\\)\"] ],\n",
        "        displayMath: [ ['$$','$$'], [\"\\\\[\",\"\\\\]\"] ]\n",
        "                },\n",
        "    displayAlign: 'center', // Change this to 'center' to center equations.\n",
        "    \"HTML-CSS\": {styles: {'.MathJax_Display': {\"margin\": 4}}}\n",
        "        });\n",
        "</script>\n"
       ],
       "metadata": {},
       "output_type": "pyout",
       "prompt_number": 1,
       "text": [
        "<IPython.core.display.HTML at 0x7fc1f5f84710>"
       ]
      }
     ],
     "prompt_number": 1
    },
    {
     "cell_type": "heading",
     "level": 1,
     "metadata": {},
     "source": [
      "Numerical Integration"
     ]
    },
    {
     "cell_type": "markdown",
     "metadata": {},
     "source": [
      "![](../figures/01.svg)\n",
      "\n",
      "Our data is as follows"
     ]
    },
    {
     "cell_type": "code",
     "collapsed": false,
     "input": [
      "E = 30E9\n",
      "R = 1.20\n",
      "r = 0.90\n",
      "m = 300E3\n",
      "m1 = m\n",
      "m2 = m+m\n",
      "L = 45.0"
     ],
     "language": "python",
     "metadata": {},
     "outputs": [],
     "prompt_number": 2
    },
    {
     "cell_type": "markdown",
     "metadata": {},
     "source": [
      "We have to compute the moment of inertia of the annular beam and the flexibility coefficents ($x_1$ is at $L/2$, $x_2$ at $L$)."
     ]
    },
    {
     "cell_type": "code",
     "collapsed": false,
     "input": [
      "J = np.pi*(R**4-r**4)/4\n",
      "EJ = E*J\n",
      "f11 = (L/2)**3/(3*EJ)\n",
      "f22 = (L/1)**3/(3*EJ)"
     ],
     "language": "python",
     "metadata": {},
     "outputs": [],
     "prompt_number": 3
    },
    {
     "cell_type": "markdown",
     "metadata": {},
     "source": [
      "\\begin{align}\n",
      "f_{12}=f_{21} &= \\frac1{EJ}\\int_0^{L/2} x \\times (x+L/2) dx\\\\\n",
      "&= \\frac1{EJ}\\int_0^{L/2} (x^2 + \\frac{xL}2) dx\\\\\n",
      "&= \\frac1{EJ}\\left[\\frac{x^3}3 + \\frac{x^2L}4\\right]_0^{L/2}=\n",
      "   \\frac{L^3}{24EJ}+\\frac{L^3}{16EJ}=\\frac{5}{48}\\frac{L^3}{EJ}.\\end{align}"
     ]
    },
    {
     "cell_type": "code",
     "collapsed": false,
     "input": [
      "f12 = (5*L**3) / (48*EJ)"
     ],
     "language": "python",
     "metadata": {},
     "outputs": [],
     "prompt_number": 4
    },
    {
     "cell_type": "markdown",
     "metadata": {},
     "source": [
      "We can construct the flexibility matrix and, by inversion, the stiffness matrix of our system, and eventually the mass matrix too."
     ]
    },
    {
     "cell_type": "code",
     "collapsed": false,
     "input": [
      "F = np.array(((f11,f12),(f12,f22)))\n",
      "F"
     ],
     "language": "python",
     "metadata": {},
     "outputs": [
      {
       "metadata": {},
       "output_type": "pyout",
       "prompt_number": 5,
       "text": [
        "array([[  1.13682102e-07,   2.84205256e-07],\n",
        "       [  2.84205256e-07,   9.09456818e-07]])"
       ]
      }
     ],
     "prompt_number": 5
    },
    {
     "cell_type": "code",
     "collapsed": false,
     "input": [
      "K = np.linalg.inv(F)\n",
      "K"
     ],
     "language": "python",
     "metadata": {},
     "outputs": [
      {
       "metadata": {},
       "output_type": "pyout",
       "prompt_number": 6,
       "text": [
        "array([[ 40212385.96594934, -12566370.61435917],\n",
        "       [-12566370.61435917,   5026548.24574367]])"
       ]
      }
     ],
     "prompt_number": 6
    },
    {
     "cell_type": "code",
     "collapsed": false,
     "input": [
      "M = np.array(((m1,0),(0,m2)))\n",
      "M"
     ],
     "language": "python",
     "metadata": {},
     "outputs": [
      {
       "metadata": {},
       "output_type": "pyout",
       "prompt_number": 7,
       "text": [
        "array([[ 300000.,       0.],\n",
        "       [      0.,  600000.]])"
       ]
      }
     ],
     "prompt_number": 7
    },
    {
     "cell_type": "markdown",
     "metadata": {},
     "source": [
      "Next, we have to compute the eigenvalues, our system has 2 DOF so we can write explicitely the canonical equation,\n",
      "\n",
      "    (k11 - w m1) (k22 - w m2) - k12^2 = 0\n",
      "\n",
      "    w^2 m1 m2 - (k11 m2 + m1 k22) w + (k11 k22 - k12 k21) = 0\n",
      "    \n",
      "We write the coefficients of the algebraic equation and the corresponding solution."
     ]
    },
    {
     "cell_type": "code",
     "collapsed": false,
     "input": [
      "k11, k12, k21, k22 = K.flatten()\n",
      "a = m1*m2 ; b = - k11*m2 - k22*m1 ; c = k11*k22-k12**2\n",
      "print a, b, c\n",
      "print 1.0, b/a, c/a\n",
      "d = np.sqrt(b*b-4*a*c)\n",
      "L1, L2 = (-b-d)/2/a, (-b+d)/2/a\n",
      "print L1, L2\n",
      "print 2*np.pi/np.sqrt(L1), 2*np.pi/np.sqrt(L2)"
     ],
     "language": "python",
     "metadata": {},
     "outputs": [
      {
       "output_type": "stream",
       "stream": "stdout",
       "text": [
        "1.8e+11 -2.56353960533e+13 4.42158277169e+13\n",
        "1.0 -142.418866963 245.643487316\n",
        "1.74620630741 140.672660655\n",
        "4.75479822671 0.529754942785\n"
       ]
      }
     ],
     "prompt_number": 8
    },
    {
     "cell_type": "markdown",
     "metadata": {},
     "source": [
      "Having the eigenvalues, we can compute the eigenvectors... first we compute the second component from the first equation, then we normalize with respect to the mass matrix."
     ]
    },
    {
     "cell_type": "code",
     "collapsed": false,
     "input": [
      "evc = np.zeros((2,2))\n",
      "evl = np.array((L1,L2))\n",
      "period = 2*np.pi/np.sqrt(evl)\n",
      "for i, Lambda in enumerate(evl):\n",
      "    #A = K - Lambda*M\n",
      "    #print np.linalg.det(A)\n",
      "    psi1 = (-1)**i\n",
      "    psi2 = -psi1*(k11-Lambda*m1)/k12\n",
      "    print psi1, psi2\n",
      "    f = np.sqrt(psi1**2*m1+psi2**2*m2)\n",
      "    evc[:,i] = psi1/f, psi2/f\n",
      "\n",
      "print evl\n",
      "print period\n",
      "print evc"
     ],
     "language": "python",
     "metadata": {},
     "outputs": [
      {
       "output_type": "stream",
       "stream": "stdout",
       "text": [
        "1 3.15831239518\n",
        "-1 0.158312395178\n",
        "[   1.74620631  140.67266066]\n",
        "[ 4.75479823  0.52975494]\n",
        "[[ 0.00039889 -0.00178164]\n",
        " [ 0.00125981  0.00028205]]\n"
       ]
      }
     ],
     "prompt_number": 9
    },
    {
     "cell_type": "markdown",
     "metadata": {},
     "source": [
      "We define the force modulus, the time step according to the text of the exercise and the varios constants used by the linear acceleration algorithm"
     ]
    },
    {
     "cell_type": "code",
     "collapsed": false,
     "input": [
      "def force(t):\n",
      "    return 80000.0*np.sin(t) if t <= 2*np.pi else 0.0\n",
      "load = np.array((1.,0.))\n",
      "h = period[1]/6.0\n",
      "ks = K + 6*M/h/h\n",
      "fs = np.linalg.inv(ks)\n",
      "ma = 3*M\n",
      "mv = 6*M/h\n",
      "mi = np.linalg.inv(M)\n",
      "T, X, V, A = [], [], [], []"
     ],
     "language": "python",
     "metadata": {},
     "outputs": [],
     "prompt_number": 10
    },
    {
     "cell_type": "markdown",
     "metadata": {},
     "source": [
      "The initial values of our system"
     ]
    },
    {
     "cell_type": "code",
     "collapsed": false,
     "input": [
      "t0 = 0.0\n",
      "x0 = np.zeros((2,))\n",
      "v0 = np.zeros((2,))\n",
      "p0 = load*force(0)"
     ],
     "language": "python",
     "metadata": {},
     "outputs": [],
     "prompt_number": 11
    },
    {
     "cell_type": "markdown",
     "metadata": {},
     "source": [
      "The numerical integration, sensu stricto,"
     ]
    },
    {
     "cell_type": "code",
     "collapsed": false,
     "input": [
      "while t0 < 4*np.pi:\n",
      "    a0 = np.dot(mi, p0 - np.dot(K,x0))\n",
      "    for l, i in ((T, t0), (X, x0), (V, v0), (A, a0)): l.append(i)\n",
      "    t1 = t0 + h\n",
      "    p1 = load*force(t1)\n",
      "    dp = p1 - p0 + np.dot(ma, a0) + np.dot(mv, v0)\n",
      "    dx = np.dot(fs, dp)\n",
      "    dv = dx*3/h - 3*v0 - a0*h/2\n",
      "    x1 = x0 + dx\n",
      "    v1 = v0 + dv\n",
      "    t0, x0, v0, p0 = t1, x1, v1, p1\n",
      "T, X, V, A = map(np.array, (T, X, V, A))"
     ],
     "language": "python",
     "metadata": {},
     "outputs": [],
     "prompt_number": 12
    },
    {
     "cell_type": "code",
     "collapsed": false,
     "input": [
      "%matplotlib inline\n",
      "plt.figure(figsize=(10,4))\n",
      "plt.plot(T/np.pi,X[:,1])\n",
      "plt.xlabel('$t/\\\\pi s$')\n",
      "plt.ylabel('$x_2/m$')\n",
      "plt.title('System response, larger mass deflections')\n",
      "plt.grid(1)\n",
      "plt.savefig('numerical.pdf')"
     ],
     "language": "python",
     "metadata": {},
     "outputs": [
      {
       "metadata": {},
       "output_type": "display_data",
       "png": "[encoded data removed]",
       "text": [
        "<matplotlib.figure.Figure at 0x7fc1f5f2cad0>"
       ]
      }
     ],
     "prompt_number": 13
    },
    {
     "cell_type": "heading",
     "level": 3,
     "metadata": {},
     "source": [
      "A little check"
     ]
    },
    {
     "cell_type": "markdown",
     "metadata": {},
     "source": [
      "To check our results, we use the analytical solution for the forced response phase, the expressions should be obvious except maybe for the slicing tricks used to build the modal response array..."
     ]
    },
    {
     "cell_type": "code",
     "collapsed": false,
     "input": [
      "pstar = evc.T.dot(load)*80000.0\n",
      "C = pstar/(evl-1.0)\n",
      "A = -C/np.sqrt(evl)\n",
      "t = np.linspace(0, np.pi*2, 101)\n",
      "q = A[:,None]*np.sin(np.sqrt(evl)[:,None]*t) + C[:,None]*np.sin(t)\n",
      "x = evc.dot(q)\n",
      "plt.plot(t/np.pi,x[1]);"
     ],
     "language": "python",
     "metadata": {},
     "outputs": [
      {
       "metadata": {},
       "output_type": "display_data",
       "png": "[encoded data removed]",
       "text": [
        "<matplotlib.figure.Figure at 0x7fc1f2ce5fd0>"
       ]
      }
     ],
     "prompt_number": 14
    }
   ],
   "metadata": {}
  }
 ]
}