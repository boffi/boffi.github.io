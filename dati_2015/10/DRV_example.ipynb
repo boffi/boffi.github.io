{
 "metadata": {
  "name": "",
  "signature": "sha256:4e78565015f5552b29629d6c507b870a77cd81aeb0e53a55811e6fa5c8dcdad9"
 },
 "nbformat": 3,
 "nbformat_minor": 0,
 "worksheets": [
  {
   "cells": [
    {
     "cell_type": "markdown",
     "metadata": {},
     "source": [
      "Some imports"
     ]
    },
    {
     "cell_type": "code",
     "collapsed": true,
     "input": [
      "from scipy import * ; from scipy.linalg import eigh"
     ],
     "language": "python",
     "metadata": {},
     "outputs": [],
     "prompt_number": 1
    },
    {
     "cell_type": "markdown",
     "metadata": {},
     "source": [
      "One utility function, to print a matrix in a format recognized by typesetting program"
     ]
    },
    {
     "cell_type": "code",
     "collapsed": true,
     "input": [
      "def lp(data,name,fmt=\"%+10.4f\",title=\"\"):\n",
      "    delim={\"mat\":\"b\", \"vet\":\"B\", \"det\":\"V\", \"norm\":\"v\"}\n",
      "    if title: print \"% ----- \"+title+\" -----\"\n",
      "    print \"\\\\begin{\"+delim[name]+\"matrix}\"\n",
      "    print \"\\\\\\\\\\n\".join([\"&\".join(map(lambda x: fmt%(x,),line))\n",
      "                         for line in asarray(data)])\n",
      "    print \"\\\\end{\"+delim[name]+\"matrix}\""
     ],
     "language": "python",
     "metadata": {},
     "outputs": [],
     "prompt_number": 2
    },
    {
     "cell_type": "markdown",
     "metadata": {},
     "source": [
      "Here a simple function to compute the DRV's as a function of the NDOFs \"n\"\n",
      "and of the load vector \"r\""
     ]
    },
    {
     "cell_type": "code",
     "collapsed": true,
     "input": [
      "def derritz(n,r):\n",
      "    #global T, phi\n",
      "\n",
      "    phi = mat(zeros((n,n)))\n",
      "    # y are the initial displacements\n",
      "    y = F*r\n",
      "    # normalization factor, note that M = I\n",
      "    b = sqrt((y.T*y)[0,0])\n",
      "    # normalize\n",
      "    y = y/b\n",
      "    # save the first DRV\n",
      "    phi[:,0] = y[:,0]\n",
      "\n",
      "    for i in range(1,n):\n",
      "        # remember that M = I\n",
      "        y = F*phi[:,i-1]\n",
      "        alpha = y.T*phi\n",
      "        for k in range(i):\n",
      "            y=y-alpha[0,k]*phi[:,k]\n",
      "        b=sqrt((y.T*y)[0,0])\n",
      "        phi[:,i]=y[:,0]/b\n",
      "    # remember that M = I    \n",
      "    T=phi.T*F*phi\n",
      "    # there are very small terms outside the tridiagonal part\n",
      "    # this reduces T to a true tridiagonal matrix...\n",
      "    T=(diagflat(diag(T))+\n",
      "       diagflat(diag(T,1),1)+\n",
      "       diagflat(diag(T,-1),-1))\n",
      "    return phi, T"
     ],
     "language": "python",
     "metadata": {},
     "outputs": [],
     "prompt_number": 3
    },
    {
     "cell_type": "markdown",
     "metadata": {},
     "source": [
      "The problem data:"
     ]
    },
    {
     "cell_type": "code",
     "collapsed": false,
     "input": [
      "n=5\n",
      "\n",
      "M=mat(eye(n))\n",
      "K=mat(eye(n))*2\n",
      "K[n-1,n-1]=1.\n",
      "for i in range(n-1):\n",
      "    K[i+1,i]=-1.\n",
      "    K[i,i+1]=-1.\n",
      "F=K.I\n",
      "\n",
      "lp(M,'mat',title=\"Mass matrix   (=I) M\")\n",
      "lp(K,'mat',title=\"Stiffness matrix   K\")\n",
      "lp(F,'mat',title=\"Flexibility matrix F\")\n",
      "\n",
      "# evecs are normalized with respect to M\n",
      "evals, evecs = eigh(K,M)\n",
      "L=mat(diagflat(evals))\n",
      "lp(L,'mat',title=\"Eigenvalues Matrix L\")\n",
      "lp(evecs,'mat',title=\"Eigenvectors matrix, \\Psi\")"
     ],
     "language": "python",
     "metadata": {},
     "outputs": [
      {
       "output_type": "stream",
       "stream": "stdout",
       "text": [
        "% ----- Mass matrix   (=I) M -----\n",
        "\\begin{bmatrix}\n",
        "   +1.0000&   +0.0000&   +0.0000&   +0.0000&   +0.0000\\\\\n",
        "   +0.0000&   +1.0000&   +0.0000&   +0.0000&   +0.0000\\\\\n",
        "   +0.0000&   +0.0000&   +1.0000&   +0.0000&   +0.0000\\\\\n",
        "   +0.0000&   +0.0000&   +0.0000&   +1.0000&   +0.0000\\\\\n",
        "   +0.0000&   +0.0000&   +0.0000&   +0.0000&   +1.0000\n",
        "\\end{bmatrix}\n",
        "% ----- Stiffness matrix   K -----\n",
        "\\begin{bmatrix}\n",
        "   +2.0000&   -1.0000&   +0.0000&   +0.0000&   +0.0000\\\\\n",
        "   -1.0000&   +2.0000&   -1.0000&   +0.0000&   +0.0000\\\\\n",
        "   +0.0000&   -1.0000&   +2.0000&   -1.0000&   +0.0000\\\\\n",
        "   +0.0000&   +0.0000&   -1.0000&   +2.0000&   -1.0000\\\\\n",
        "   +0.0000&   +0.0000&   +0.0000&   -1.0000&   +1.0000\n",
        "\\end{bmatrix}\n",
        "% ----- Flexibility matrix F -----\n",
        "\\begin{bmatrix}\n",
        "   +1.0000&   +1.0000&   +1.0000&   +1.0000&   +1.0000\\\\\n",
        "   +1.0000&   +2.0000&   +2.0000&   +2.0000&   +2.0000\\\\\n",
        "   +1.0000&   +2.0000&   +3.0000&   +3.0000&   +3.0000\\\\\n",
        "   +1.0000&   +2.0000&   +3.0000&   +4.0000&   +4.0000\\\\\n",
        "   +1.0000&   +2.0000&   +3.0000&   +4.0000&   +5.0000\n",
        "\\end{bmatrix}\n",
        "% ----- Eigenvalues Matrix L -----\n",
        "\\begin{bmatrix}\n",
        "   +0.0810&   +0.0000&   +0.0000&   +0.0000&   +0.0000\\\\\n",
        "   +0.0000&   +0.6903&   +0.0000&   +0.0000&   +0.0000\\\\\n",
        "   +0.0000&   +0.0000&   +1.7154&   +0.0000&   +0.0000\\\\\n",
        "   +0.0000&   +0.0000&   +0.0000&   +2.8308&   +0.0000\\\\\n",
        "   +0.0000&   +0.0000&   +0.0000&   +0.0000&   +3.6825\n",
        "\\end{bmatrix}\n",
        "% ----- Eigenvectors matrix, \\Psi -----\n",
        "\\begin{bmatrix}\n",
        "   +0.1699&   -0.4557&   +0.5969&   +0.5485&   -0.3260\\\\\n",
        "   +0.3260&   -0.5969&   +0.1699&   -0.4557&   +0.5485\\\\\n",
        "   +0.4557&   -0.3260&   -0.5485&   -0.1699&   -0.5969\\\\\n",
        "   +0.5485&   +0.1699&   -0.3260&   +0.5969&   +0.4557\\\\\n",
        "   +0.5969&   +0.5485&   +0.4557&   -0.3260&   -0.1699\n",
        "\\end{bmatrix}\n"
       ]
      }
     ],
     "prompt_number": 4
    },
    {
     "cell_type": "markdown",
     "metadata": {},
     "source": [
      "Let's set a particular load vector, compute the DRVs and show the results"
     ]
    },
    {
     "cell_type": "code",
     "collapsed": false,
     "input": [
      "r = mat((0,0,0,-2.,1.)).T\n",
      "lp(r.T,'vet',title=\"Load vector transposed r^T\")\n",
      "phi, T = derritz(n,r)\n",
      "lp(phi,'mat',title=\"Derived Ritz Vectors matrix \\Phi\")\n",
      "lp(T,'mat',title=\"Tridiagonal DRV matrix, T\")"
     ],
     "language": "python",
     "metadata": {},
     "outputs": [
      {
       "output_type": "stream",
       "stream": "stdout",
       "text": [
        "% ----- Load vector transposed r^T -----\n",
        "\\begin{Bmatrix}\n",
        "   +0.0000&   +0.0000&   +0.0000&   -2.0000&   +1.0000\n",
        "\\end{Bmatrix}\n",
        "% ----- Derived Ritz Vectors matrix \\Phi -----\n",
        "\\begin{bmatrix}\n",
        "   -0.1601&   -0.0843&   +0.2442&   +0.6442&   +0.7019\\\\\n",
        "   -0.3203&   -0.0773&   +0.5199&   +0.4317&   -0.6594\\\\\n",
        "   -0.4804&   +0.1125&   +0.5627&   -0.6077&   +0.2659\\\\\n",
        "   -0.6405&   +0.5764&   -0.4841&   +0.1461&   -0.0425\\\\\n",
        "   -0.4804&   -0.8013&   -0.3451&   -0.0897&   -0.0035\n",
        "\\end{bmatrix}\n",
        "% ----- Tridiagonal DRV matrix, T -----\n",
        "\\begin{bmatrix}\n",
        "  +12.0769&   +1.7524&   +0.0000&   +0.0000&   +0.0000\\\\\n",
        "   +1.7524&   +0.8165&   +0.3086&   +0.0000&   +0.0000\\\\\n",
        "   +0.0000&   +0.3086&   +1.1895&   +0.3618&   +0.0000\\\\\n",
        "   +0.0000&   +0.0000&   +0.3618&   +0.6046&   +0.0667\\\\\n",
        "   +0.0000&   +0.0000&   +0.0000&   +0.0667&   +0.3125\n",
        "\\end{bmatrix}\n"
       ]
      }
     ],
     "prompt_number": 5
    },
    {
     "cell_type": "markdown",
     "metadata": {},
     "source": [
      "Compute the modal partecipation factors, for the eigenvectors\n",
      "and for the DRVs, and the decomposition in modal forces and DRV forces"
     ]
    },
    {
     "cell_type": "code",
     "collapsed": false,
     "input": [
      "Gamma=evecs.T*r ; Gammh=phi.T*r\n",
      "f_m=M*evecs*diagflat(Gamma)\n",
      "f_r=M*phi*diagflat(Gammh)\n",
      "\n",
      "lp(Gamma.T,'vet',title=\"Modal partecipation factors\")\n",
      "lp(Gammh.T,'vet',title=\"DRV's partecipation factors\")\n",
      "lp(f_m,'mat',title=\"Modal forces matrix\")\n",
      "lp(f_r,'mat',title=\"DRV's forces matrix\")"
     ],
     "language": "python",
     "metadata": {},
     "outputs": [
      {
       "output_type": "stream",
       "stream": "stdout",
       "text": [
        "% ----- Modal partecipation factors -----\n",
        "\\begin{Bmatrix}\n",
        "   -0.5002&   +0.2087&   +1.1078&   -1.5198&   -1.0814\n",
        "\\end{Bmatrix}\n",
        "% ----- DRV's partecipation factors -----\n",
        "\\begin{Bmatrix}\n",
        "   +0.8006&   -1.9540&   +0.6231&   -0.3819&   +0.0815\n",
        "\\end{Bmatrix}\n",
        "% ----- Modal forces matrix -----\n",
        "\\begin{bmatrix}\n",
        "   -0.0850&   -0.0951&   +0.6612&   -0.8336&   +0.3525\\\\\n",
        "   -0.1631&   -0.1246&   +0.1882&   +0.6926&   -0.5932\\\\\n",
        "   -0.2279&   -0.0681&   -0.6076&   +0.2582&   +0.6454\\\\\n",
        "   -0.2744&   +0.0355&   -0.3612&   -0.9071&   -0.4928\\\\\n",
        "   -0.2985&   +0.1145&   +0.5048&   +0.4955&   +0.1837\n",
        "\\end{bmatrix}\n",
        "% ----- DRV's forces matrix -----\n",
        "\\begin{bmatrix}\n",
        "   -0.1282&   +0.1648&   +0.1521&   -0.2460&   +0.0572\\\\\n",
        "   -0.2564&   +0.1511&   +0.3240&   -0.1649&   -0.0538\\\\\n",
        "   -0.3846&   -0.2198&   +0.3506&   +0.2321&   +0.0217\\\\\n",
        "   -0.5128&   -1.1262&   -0.3017&   -0.0558&   -0.0035\\\\\n",
        "   -0.3846&   +1.5657&   -0.2151&   +0.0342&   -0.0003\n",
        "\\end{bmatrix}\n"
       ]
      }
     ],
     "prompt_number": 6
    },
    {
     "cell_type": "code",
     "collapsed": false,
     "input": [
      "den=dot(r.T,r)[0,0] ; e_m = r ; e_r = r\n",
      "for i in range(n):\n",
      "    e_m = e_m-f_m[:,i]\n",
      "    e_r = e_r-f_r[:,i]\n",
      "    print \"%3d   %10.7f   %10.7f\" % (\n",
      "              i+1, \n",
      "              dot(r.T,e_m)[0,0]/den,\n",
      "              dot(r.T,e_r)[0,0]/den )"
     ],
     "language": "python",
     "metadata": {},
     "outputs": [
      {
       "output_type": "stream",
       "stream": "stdout",
       "text": [
        "  1    0.9499655    0.8717949\n",
        "  2    0.9412504    0.1081567\n",
        "  3    0.6958189    0.0304958\n",
        "  4    0.2338676    0.0013296\n",
        "  5   -0.0000000    0.0000000\n"
       ]
      }
     ],
     "prompt_number": 7
    },
    {
     "cell_type": "code",
     "collapsed": true,
     "input": [],
     "language": "python",
     "metadata": {},
     "outputs": [],
     "prompt_number": 7
    }
   ],
   "metadata": {}
  }
 ]
}