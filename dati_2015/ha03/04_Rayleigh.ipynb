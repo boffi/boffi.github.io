{
 "cells": [
  {
   "cell_type": "code",
   "execution_count": 1,
   "metadata": {
    "collapsed": false
   },
   "outputs": [
    {
     "data": {
      "text/html": [
       "<style>\n",
       "@font-face {\n",
       "    font-family: 'Charis SIL';\n",
       "    src: url('fonts/CharisSILEur-R.woff') format('woff');\n",
       "}\n",
       "@font-face {\n",
       "    font-family: 'Architects Daughter';\n",
       "    font-style: normal;\n",
       "    src: url(https://fonts.gstatic.com/s/architectsdaughter/v6/RXTgOOQ9AAtaVOHxx0IUBM3t7GjCYufj5TXV5VnA2p8.woff2) format('woff2');\n",
       "    unicode-range: U+0000-00FF, U+0131, U+0152-0153, U+02C6, U+02DA, U+02DC, U+2000-206F, U+2074, U+20AC, U+2212, U+2215, U+E0FF, U+EFFD, U+F000;\n",
       "}\n",
       ".prompt{display: None;}\n",
       "div.cell{margin: auto;width:900px;}\n",
       "\n",
       "div #notebook { /* centre the content */\n",
       "    background: #fffaf0;\n",
       "    margin: auto;\n",
       "    padding: 0em;\n",
       "    padding-top: 1em;\n",
       "}\n",
       "div #notebook_container {width: 960px!important;}\n",
       "#notebook li { /* More space between bullet points */\n",
       "    margin-top:0.2em;\n",
       "}\n",
       "\n",
       "div.text_cell_render{\n",
       "    font-family: \"Charis SIL\", Cambria,  serif;\n",
       "    line-height: 155%;\n",
       "    font-size: 130%;\n",
       "}\n",
       ".CodeMirror{\n",
       "    font-family: Consolas, monospace;\n",
       "    font-size: 140%;\n",
       "    background-color:#fcffff!important;\n",
       "}\n",
       "\n",
       ".output_area {\n",
       "    font-family: Consolas,monospace;font-size: 120%;\n",
       "    background-color:#fcffff!important;\n",
       "    margin-top:0.8em;\n",
       "}\n",
       "\n",
       "div.output_latex{overflow:hidden}\n",
       "\n",
       "h1 {\n",
       "    font-family: 'Architects Daughter', serif;\n",
       "    font-size:   48pt!important;\n",
       "    text-align:  center;\n",
       "    text-shadow: 4px 4px 4px #aaa;\n",
       "    padding-bottom: 48pt;\n",
       "}\n",
       "\n",
       ".warning{color: rgb( 240, 20, 20 )}\n",
       "</style>\n",
       "<script>\n",
       "MathJax.Hub.Config({\n",
       "    TeX: {extensions: [\"AMSmath.js\", \"begingroup.js\"]},\n",
       "    tex2jax: {\n",
       "        inlineMath: [ ['$','$'], [\"\\\\(\",\"\\\\)\"] ],\n",
       "        displayMath: [ ['$$','$$'], [\"\\\\[\",\"\\\\]\"] ]\n",
       "                },\n",
       "    displayAlign: 'center', // Change this to 'center' to center equations.\n",
       "    \"HTML-CSS\": {styles: {'.MathJax_Display': {\"margin\": 4}}}\n",
       "        });\n",
       "</script>\n"
      ],
      "text/plain": [
       "<IPython.core.display.HTML object>"
      ]
     },
     "execution_count": 1,
     "metadata": {},
     "output_type": "execute_result"
    }
   ],
   "source": [
    "from IPython.display import HTML\n",
    "from math import pi, cos, sqrt\n",
    "HTML(open(\"00_custom.css\", \"r\").read())"
   ]
  },
  {
   "cell_type": "markdown",
   "metadata": {},
   "source": [
    "#Rayleigh Quotient Method "
   ]
  },
  {
   "cell_type": "markdown",
   "metadata": {},
   "source": [
    "The data of our problem, first the numerical constants and later the definitions of the properties depending on the position."
   ]
  },
  {
   "cell_type": "code",
   "execution_count": 2,
   "metadata": {
    "collapsed": true
   },
   "outputs": [],
   "source": [
    "rho = 2500.0\n",
    "e = 30E9\n",
    "h = 32.0\n",
    "m = 80E3\n",
    "thick = 0.25\n",
    "Re0 = 1.8\n",
    "DeltaR  = 0.600\n",
    "\n",
    "def Re(z): return Re0 - DeltaR*z/h\n",
    "def Ri(z): return Re(z) - thick\n",
    "def A(z): return pi*(Re(z)**2-Ri(z)**2)\n",
    "def J(z): return pi*(Re(z)**4-Ri(z)**4)/4"
   ]
  },
  {
   "cell_type": "markdown",
   "metadata": {},
   "source": [
    "## Trapezoidal integration"
   ]
  },
  {
   "cell_type": "markdown",
   "metadata": {},
   "source": [
    "We need to integrate a function, using the trapezoidal approximation "
   ]
  },
  {
   "cell_type": "code",
   "execution_count": 3,
   "metadata": {
    "collapsed": true
   },
   "outputs": [],
   "source": [
    "def trap(f,z0,z1,n):\n",
    "    \"Approximate the integral of f on interval z0, z1 using trapezoidal rule with n intervals.\"\n",
    "    dz = (z1-z0)/n\n",
    "    result = (f(z0)+f(z1))/2\n",
    "    for i in range(1,n):\n",
    "        z=z0+i*dz\n",
    "        result = result+f(z)\n",
    "    return result*dz"
   ]
  },
  {
   "cell_type": "markdown",
   "metadata": {},
   "source": [
    "Let's test the trapezoidal rule function... The volume of the tower is\n",
    "$$V = \\int_0^h A(z) \\,\\text{d}z $$\n",
    "We have $A(z) = \\pi R_e^2 - \\pi(R_e^2 -2R_et+t^2)=2\\pi R_et-\\pi t^2$, substituting $V/\\pi=2t\\int_0^hR_e\\,\\text{d}z-ht^2$, but $R_e$ is a linear function of $z$ so we have\n",
    "$$V=2\\pi(2R_e(h/2)-t/2) t h$$"
   ]
  },
  {
   "cell_type": "code",
   "execution_count": 4,
   "metadata": {
    "collapsed": false
   },
   "outputs": [
    {
     "name": "stdout",
     "output_type": "stream",
     "text": [
      "The volume using trapezes 69.11503837897546 m^3\n",
      "The vouume, exact formula 69.11503837897544 m^3\n",
      "While we are at it, the total concrete mass 172787.59594743865 kg\n"
     ]
    }
   ],
   "source": [
    "vol1 = trap(A,0,h,8)\n",
    "vol2 = pi*h*thick*(2*Re(h/2)-thick)\n",
    "print(\"The volume using trapezes\", vol1, \"m^3\")\n",
    "print(\"The vouume, exact formula\", vol2, \"m^3\")\n",
    "print(\"While we are at it, the total concrete mass\", vol1*rho, \"kg\")"
   ]
  },
  {
   "cell_type": "markdown",
   "metadata": {},
   "source": [
    "## Don't repeat yourself\n",
    "\n",
    "Just to avoid repeating the same code, again and again, with the concrete\n",
    "possibility of introducing errors when trying to change the same behaviour in\n",
    "different places, we introduce a function that computes  the generalized properties and prints the results."
   ]
  },
  {
   "cell_type": "code",
   "execution_count": 5,
   "metadata": {
    "collapsed": false
   },
   "outputs": [],
   "source": [
    "def compute_gp(psi0, psi2):\n",
    "    mass  = trap(lambda z:A(z)*rho*psi0(z)**2, 0, h, 8)\n",
    "    stif  = trap(lambda z:J(z)*e*psi2(z)**2, 0, h, 8)\n",
    "    tot_m = m + mass\n",
    "    w2 = stif/tot_m ; w = sqrt(w2)\n",
    "    print(\"The modal mass, lumped mass excluded, is\", mass, \"kg\")\n",
    "    print(\"The modal mass of the complete system is\", tot_m, \"kg\")\n",
    "    print(\"The modal stiffness is                  \", stif, \"N/m\")\n",
    "    print(\"The first eigenvalue is                 \", w2, \"(rad/s)^2\")\n",
    "    print(\"The first circular frequency is         \", w, \"rad/s\")\n",
    "    print(\"The natural frequency of vibration is   \", w/2/pi, \"Hz\")\n",
    "    print(\"The natural period of vibration is      \", 2*pi/w, \"s\")"
   ]
  },
  {
   "cell_type": "markdown",
   "metadata": {},
   "source": [
    "## First shape function"
   ]
  },
  {
   "cell_type": "markdown",
   "metadata": {},
   "source": [
    "Let's start with the familiar\n",
    "\n",
    "\\begin{align*}\n",
    "  \\psi(z) &= 1 - \\cos\\frac{\\pi z}{2h}\\\\\n",
    "  \\psi' &= \\frac\\pi{2h}\\sin\\frac{\\pi z}{2h},\\\\\n",
    "  \\psi'' &= \\frac{\\pi^2}{4h^2}\\cos\\frac{\\pi z}{2h}.\n",
    "\\end{align*}\n",
    "\n",
    "That respects, as requested, the geometrical boundary conditions at $z=0$."
   ]
  },
  {
   "cell_type": "code",
   "execution_count": 6,
   "metadata": {
    "collapsed": false
   },
   "outputs": [
    {
     "name": "stdout",
     "output_type": "stream",
     "text": [
      "******** psi = 1 - cos(pi*z/2h) ********\n",
      "The modal mass, lumped mass excluded, is 34160.491279746915 kg\n",
      "The modal mass of the complete system is 114160.49127974692 kg\n",
      "The modal stiffness is                   7564193.860386115 N/m\n",
      "The first eigenvalue is                  66.25929667603025 (rad/s)^2\n",
      "The first circular frequency is          8.139981368285204 rad/s\n",
      "The natural frequency of vibration is    1.29551827143852 Hz\n",
      "The natural period of vibration is       0.7718918536668866 s\n"
     ]
    }
   ],
   "source": [
    "def psi0(z): return 1-cos(pi*z/2/h)\n",
    "def psi2(z): return pi**2/4/h**2*cos(pi*z/2/h)\n",
    "print(\"******** psi = 1 - cos(pi*z/2h) ********\")\n",
    "compute_gp(psi0, psi2)"
   ]
  },
  {
   "cell_type": "markdown",
   "metadata": {},
   "source": [
    "## Second shape function\n",
    "\n",
    "For the second shape function we use the elastic line due to a force applied to the tip, normalized so that the tip displacement is unitary."
   ]
  },
  {
   "cell_type": "code",
   "execution_count": 7,
   "metadata": {
    "collapsed": false
   },
   "outputs": [
    {
     "name": "stdout",
     "output_type": "stream",
     "text": [
      "******** psi = (z^3 - 3 z^2 h) / (2 h^3)\n",
      "The modal mass, lumped mass excluded, is 35571.1014891675 kg\n",
      "The modal mass of the complete system is 115571.1014891675 kg\n",
      "The modal stiffness is                   7954442.120271263 N/m\n",
      "The first eigenvalue is                  68.82725887160325 (rad/s)^2\n",
      "The first circular frequency is          8.29621955300143 rad/s\n",
      "The natural frequency of vibration is    1.320384350835812 Hz\n",
      "The natural period of vibration is       0.75735523475948 s\n"
     ]
    }
   ],
   "source": [
    "def psi0(z): return z*z*(z-3*h)/2/h**3\n",
    "def psi2(z): return 3*(z-h)/h**3\n",
    "print(\"******** psi = (z^3 - 3 z^2 h) / (2 h^3)\")\n",
    "compute_gp(psi0, psi2)"
   ]
  },
  {
   "cell_type": "markdown",
   "metadata": {
    "collapsed": true
   },
   "source": [
    "## A third function\n",
    "\n",
    "We use a shape derived from the elastic line due to a uniform transversal load,\n",
    "normalized so that the tip displacement is unitary."
   ]
  },
  {
   "cell_type": "code",
   "execution_count": 8,
   "metadata": {
    "collapsed": false
   },
   "outputs": [
    {
     "name": "stdout",
     "output_type": "stream",
     "text": [
      "******** psi = (z^4 + 6 h^2 z^2 -4 h z^3) / (3 h^4) ********\n",
      "The modal mass, lumped mass excluded, is 38890.31723987987 kg\n",
      "The modal mass of the complete system is 118890.31723987986 kg\n",
      "The modal stiffness is                   9480128.345512217 N/m\n",
      "The first eigenvalue is                  79.73843930775767 (rad/s)^2\n",
      "The first circular frequency is          8.929638251785885 rad/s\n",
      "The natural frequency of vibration is    1.4211960677941944 Hz\n",
      "The natural period of vibration is       0.7036326814160674 s\n"
     ]
    }
   ],
   "source": [
    "def psi0(z): return (z**4 + 6*(h**2*z**2) - 4*(h*z**3)) / (3*h**4)\n",
    "def psi2(z): return (4*z**2 + 4*h**2 - 8*(h*z)) / h**4\n",
    "print(\"******** psi = (z^4 + 6 h^2 z^2 -4 h z^3) / (3 h^4) ********\")\n",
    "compute_gp(psi0, psi2)"
   ]
  },
  {
   "cell_type": "markdown",
   "metadata": {
    "collapsed": true
   },
   "source": [
    "## Conclusions\n",
    "\n",
    "Good old $1-\\cos$ is good enough..."
   ]
  }
 ],
 "metadata": {
  "kernelspec": {
   "display_name": "Python 3",
   "language": "python",
   "name": "python3"
  },
  "language_info": {
   "codemirror_mode": {
    "name": "ipython",
    "version": 3
   },
   "file_extension": ".py",
   "mimetype": "text/x-python",
   "name": "python",
   "nbconvert_exporter": "python",
   "pygments_lexer": "ipython3",
   "version": "3.4.3"
  }
 },
 "nbformat": 4,
 "nbformat_minor": 0
}
