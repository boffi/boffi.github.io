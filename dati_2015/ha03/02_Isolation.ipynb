{
 "cells": [
  {
   "cell_type": "markdown",
   "metadata": {},
   "source": [
    "# Vibration Isolation\n",
    "\n",
    "#### Preliminaries\n",
    "\n",
    "We have to import the mathematical functions that will be used in the following. Also, we want to define a helper function to properly format our results."
   ]
  },
  {
   "cell_type": "code",
   "execution_count": 5,
   "metadata": {
    "collapsed": false
   },
   "outputs": [],
   "source": [
    "from math import atan2, cos, exp, pi, sin, sqrt, tan\n",
    "def plvu(label,  value, units=\"\"):\n",
    "    print(\"%40s: %10g %s\"%(label, value, units))"
   ]
  },
  {
   "cell_type": "markdown",
   "metadata": {},
   "source": [
    "#### Problem's data \n",
    "\n",
    "The data of our problem is as follows $\\def\\T{\\text{TR}}$"
   ]
  },
  {
   "cell_type": "code",
   "execution_count": 6,
   "metadata": {
    "collapsed": false,
    "scrolled": false
   },
   "outputs": [
    {
     "name": "stdout",
     "output_type": "stream",
     "text": [
      "                     Mass of the machine:       7100 kg\n",
      "                        Unbalanced force:       2400 N\n",
      "           Frequency of unbalanced force:         20 Hz\n",
      "      Max value of transmitted s-s force:        300 N\n",
      " Damping ratio in second part of problem:          8 %\n"
     ]
    }
   ],
   "source": [
    "m0 = 7100.0 # kg\n",
    "p0 = 2400.0 # N\n",
    "f0 =   20.0 # Hz\n",
    "pr =  300.0 # N\n",
    "z  = 8./100 # Damping ratio\n",
    "plvu(\"Mass of the machine\", m0, \"kg\")\n",
    "plvu(\"Unbalanced force\", p0, \"N\")\n",
    "plvu(\"Frequency of unbalanced force\", f0, \"Hz\")\n",
    "plvu(\"Max value of transmitted s-s force\", pr, \"N\")\n",
    "plvu(\"Damping ratio in second part of problem\", z*100, \"%\")"
   ]
  },
  {
   "cell_type": "markdown",
   "metadata": {},
   "source": [
    "## Undamped system\n",
    "\n",
    "The requested transmissibility ratio is $\\T=p_{ss}/p_0$, while the transmissibility ratio of an undamped system is $1/(\\beta^2-1)$, where $\\beta$ is the frequency ratio, $\\beta=\\omega_0/\\omega_n$, with $\\omega_0$ and $\\omega_n$ being respectively the excitation frequency and the natural frequency of the system.\n",
    "\n",
    "At first we compute the requested transmissibility ratio and the circular frequency of the excitation, as the problem gave it in terms of Hertz."
   ]
  },
  {
   "cell_type": "code",
   "execution_count": 7,
   "metadata": {
    "collapsed": false
   },
   "outputs": [
    {
     "name": "stdout",
     "output_type": "stream",
     "text": [
      "     The required transmissibility ratio:      0.125 \n",
      "  Excitation circular frequency, squared:    15791.4 (rad/s)^2.\n"
     ]
    }
   ],
   "source": [
    "TR = pr/p0\n",
    "plvu(\"The required transmissibility ratio\", TR)\n",
    "w0 = 2*pi*f0\n",
    "W0 = w0**2\n",
    "plvu(\"Excitation circular frequency, squared\", W0,\"(rad/s)^2.\")"
   ]
  },
  {
   "cell_type": "markdown",
   "metadata": {},
   "source": [
    "Because the system transmissibility must be no greater than the requested one we have:\n",
    "\n",
    "\\begin{align*}\n",
    "  \\T &\\ge \\frac{1}{\\beta^2-1} = \\frac{\\omega_n^2}{\\omega_0^2-\\omega_n^2} \\Rightarrow\\\\\n",
    "  \\omega_n^2 &\\le (\\omega_0^2-\\omega_n^2)\\,\\T\\Rightarrow\\\\\n",
    "  \\omega_n^2 &\\le \\frac{\\T}{1+\\T}\\,\\omega_0^2.\n",
    "\\end{align*}"
   ]
  },
  {
   "cell_type": "code",
   "execution_count": 8,
   "metadata": {
    "collapsed": false
   },
   "outputs": [
    {
     "name": "stdout",
     "output_type": "stream",
     "text": [
      "      System circular frequency, squared:     1754.6 (rad/s)^2\n"
     ]
    }
   ],
   "source": [
    "Wn = W0*TR/(1+TR)\n",
    "plvu(\"System circular frequency, squared\", Wn, \"(rad/s)^2\")"
   ]
  },
  {
   "cell_type": "markdown",
   "metadata": {},
   "source": [
    "The natural frequency is related to the mass: $\\omega_n^2=k/m$. Substituting \n",
    "in the previous disequation and solving for $k$ \n",
    "\n",
    "$$k \\le  \\frac{\\T}{1+\\T}\\,m\\,\\omega_0^2=k_\\text{max}$$\n",
    "\n",
    "we obtain $k_\\text{max}$, the maximum stiffness for which the transmisibility ratio is not greater than the requested one."
   ]
  },
  {
   "cell_type": "code",
   "execution_count": 9,
   "metadata": {
    "collapsed": false
   },
   "outputs": [
    {
     "name": "stdout",
     "output_type": "stream",
     "text": [
      "            Maximum stiffness of support:    12.4576 kN/mm\n"
     ]
    }
   ],
   "source": [
    "k0 = m0*Wn\n",
    "plvu(\"Maximum stiffness of support\", k0/1E6, \"kN/mm\")"
   ]
  },
  {
   "cell_type": "markdown",
   "metadata": {},
   "source": [
    "While we are at it, we compute also the minimum static displacement of the system,\n",
    "\n",
    "$$ \\Delta_\\text{st} \\ge \\frac{m\\,g}{k_\\text{max}}.$$"
   ]
  },
  {
   "cell_type": "code",
   "execution_count": 10,
   "metadata": {
    "collapsed": false,
    "scrolled": true
   },
   "outputs": [
    {
     "name": "stdout",
     "output_type": "stream",
     "text": [
      "             Minimum static displacement:    5.59103 mm\n"
     ]
    }
   ],
   "source": [
    "plvu(\"Minimum static displacement\", m0*9.81/k0*1000, \"mm\")"
   ]
  },
  {
   "cell_type": "markdown",
   "metadata": {},
   "source": [
    "## Damped system\n",
    "\n",
    "The transmissibility ratio is\n",
    "\n",
    "$$\\T=\\sqrt\\frac{1+(2\\zeta\\beta)^2}{(1-\\beta^2)^2+(2\\zeta\\beta)^2}.$$\n",
    "\n",
    "In the second part of our problem, $\\zeta=0.08$ is assigned and $\\T$ is known, so the above expression is a function of $\\beta$, the frequency ratio. We need to know for which value of $\\beta$ the above equation holds.\n",
    "\n",
    "Squaring both members, taking all factors on the same side of the equal sign, expanding, collecting $\\beta^2$ and eventually dividing by $\\T^2$ we have\n",
    "\n",
    "$${\\beta^2}^2 + 2\\left(\n",
    "2\\zeta^2\\frac{\\T^2-1}{\\T^2}-1\n",
    "\\right)\\beta^2 + \\frac{\\T^2-1}{\\T^2} = 0,$$\n",
    "\n",
    "an algebraic equation of second order in $\\beta^2$.\n",
    "\n",
    "With $a=2\\zeta^2\\frac{\\T^2-1}{\\T^2}-1$ and $b=\\frac{\\T^2-1}{\\T^2}$"
   ]
  },
  {
   "cell_type": "code",
   "execution_count": 11,
   "metadata": {
    "collapsed": false
   },
   "outputs": [
    {
     "name": "stdout",
     "output_type": "stream",
     "text": [
      "              Coefficient of linear term:    -1.8064 \n",
      "                    Constant coefficient:        -63 \n"
     ]
    }
   ],
   "source": [
    "b = (TR**2-1)/TR**2\n",
    "a = 2*z*z*b-1\n",
    "plvu(\"Coefficient of linear term\", a)\n",
    "plvu(\"Constant coefficient\", b)"
   ]
  },
  {
   "cell_type": "markdown",
   "metadata": {},
   "source": [
    "the positive root is given by\n",
    "\n",
    "$$\\beta^2 = \\sqrt{a^2-b}-a.$$"
   ]
  },
  {
   "cell_type": "code",
   "execution_count": 12,
   "metadata": {
    "collapsed": false
   },
   "outputs": [
    {
     "name": "stdout",
     "output_type": "stream",
     "text": [
      "Minimum value of squared freq.ratio, damped system:    9.94661 \n"
     ]
    }
   ],
   "source": [
    "b2 = sqrt(a*a-b)-a\n",
    "plvu(\"Minimum value of squared freq.ratio, damped system\", b2)"
   ]
  },
  {
   "cell_type": "markdown",
   "metadata": {},
   "source": [
    "We have already installed the elastic support, as specified from the undamped design, we add a damper and the requested minimum frequency ratio increases... How we can increase the frequency ratio?\n",
    "\n",
    "Decreasing the natural frequency of the system, but the springs are already in place and the only thing that we can do is to change the mass of the system, in particular we decrease the frequency by increasing the mass and this is OK, because we can always add ballast to our system while, on the other hand, it would be, in general, impossible to reduce the system mass...\n",
    "\n",
    "The  max value of the natural frequency is given by \n",
    "\n",
    "$$\\beta^2=\\omega^2_0/\\omega^2_n\\Rightarrow \\omega_n^2=\\omega^2_0/\\beta^2$$"
   ]
  },
  {
   "cell_type": "code",
   "execution_count": 13,
   "metadata": {
    "collapsed": false
   },
   "outputs": [
    {
     "name": "stdout",
     "output_type": "stream",
     "text": [
      "Max admissible value of squared natural frequency:    1587.61 (rad/s)^2\n"
     ]
    }
   ],
   "source": [
    "Wnmx = W0/b2\n",
    "plvu(\"Max admissible value of squared natural frequency\", Wnmx, \"(rad/s)^2\")"
   ]
  },
  {
   "cell_type": "markdown",
   "metadata": {},
   "source": [
    " Eventually, the minimum mass of the damped system is\n",
    " \n",
    " $$m=k/\\omega_n^2.$$\n",
    " \n",
    "We compute also the minimum mass of the ballast, the percent mass increment and the new static displacement."
   ]
  },
  {
   "cell_type": "code",
   "execution_count": 14,
   "metadata": {
    "collapsed": false
   },
   "outputs": [
    {
     "name": "stdout",
     "output_type": "stream",
     "text": [
      "       Minimum mass of the damped system:    7846.77 kg\n",
      "                 Minimum mass of ballast:    746.773 kg\n",
      "                          Mass increment:    10.5179 %\n",
      "       Minimum static displacement, d.s.:    6.17909 mm\n"
     ]
    }
   ],
   "source": [
    "mmn = k0/Wnmx\n",
    "plvu(\"Minimum mass of the damped system\", mmn, \"kg\")\n",
    "plvu(\"Minimum mass of ballast\", mmn-m0, \"kg\")\n",
    "plvu(\"Mass increment\", (mmn-m0)*100/m0, \"%\")\n",
    "plvu(\"Minimum static displacement, d.s.\", 9.81*mmn/k0*1000, \"mm\")"
   ]
  },
  {
   "cell_type": "code",
   "execution_count": 15,
   "metadata": {
    "collapsed": false
   },
   "outputs": [
    {
     "data": {
      "text/html": [
       "<style>\n",
       "@font-face {\n",
       "    font-family: 'Charis SIL';\n",
       "    src: url('fonts/CharisSILEur-R.woff') format('woff');\n",
       "}\n",
       "@font-face {\n",
       "    font-family: 'Architects Daughter';\n",
       "    font-style: normal;\n",
       "    src: url(https://fonts.gstatic.com/s/architectsdaughter/v6/RXTgOOQ9AAtaVOHxx0IUBM3t7GjCYufj5TXV5VnA2p8.woff2) format('woff2');\n",
       "    unicode-range: U+0000-00FF, U+0131, U+0152-0153, U+02C6, U+02DA, U+02DC, U+2000-206F, U+2074, U+20AC, U+2212, U+2215, U+E0FF, U+EFFD, U+F000;\n",
       "}\n",
       ".prompt{display: None;}\n",
       "div.cell{margin: auto;width:900px;}\n",
       "\n",
       "div #notebook { /* centre the content */\n",
       "    background: #fffaf0;\n",
       "    margin: auto;\n",
       "    padding: 0em;\n",
       "    padding-top: 1em;\n",
       "}\n",
       "div #notebook_container {width: 960px!important;}\n",
       "#notebook li { /* More space between bullet points */\n",
       "    margin-top:0.2em;\n",
       "}\n",
       "\n",
       "div.text_cell_render{\n",
       "    font-family: \"Charis SIL\", Cambria,  serif;\n",
       "    line-height: 155%;\n",
       "    font-size: 130%;\n",
       "}\n",
       ".CodeMirror{\n",
       "    font-family: Consolas, monospace;\n",
       "    font-size: 140%;\n",
       "    background-color:#fcffff!important;\n",
       "}\n",
       "\n",
       ".output_area {\n",
       "    font-family: Consolas,monospace;font-size: 120%;\n",
       "    background-color:#fcffff!important;\n",
       "    margin-top:0.8em;\n",
       "}\n",
       "\n",
       "div.output_latex{overflow:hidden}\n",
       "\n",
       "h1 {\n",
       "    font-family: 'Architects Daughter', serif;\n",
       "    font-size:   48pt!important;\n",
       "    text-align:  center;\n",
       "    text-shadow: 4px 4px 4px #aaa;\n",
       "    padding-bottom: 48pt;\n",
       "}\n",
       "\n",
       ".warning{color: rgb( 240, 20, 20 )}\n",
       "</style>\n",
       "<script>\n",
       "MathJax.Hub.Config({\n",
       "    TeX: {extensions: [\"AMSmath.js\", \"begingroup.js\"]},\n",
       "    tex2jax: {\n",
       "        inlineMath: [ ['$','$'], [\"\\\\(\",\"\\\\)\"] ],\n",
       "        displayMath: [ ['$$','$$'], [\"\\\\[\",\"\\\\]\"] ]\n",
       "                },\n",
       "    displayAlign: 'center', // Change this to 'center' to center equations.\n",
       "    \"HTML-CSS\": {styles: {'.MathJax_Display': {\"margin\": 4}}}\n",
       "        });\n",
       "</script>\n"
      ],
      "text/plain": [
       "<IPython.core.display.HTML object>"
      ]
     },
     "execution_count": 15,
     "metadata": {},
     "output_type": "execute_result"
    }
   ],
   "source": [
    "# The following incantation gives a proper style to this notebook\n",
    "from IPython.display import display, Latex, HTML\n",
    "HTML(open(\"00_custom.css\", \"r\").read())"
   ]
  }
 ],
 "metadata": {
  "kernelspec": {
   "display_name": "Python 3",
   "language": "python",
   "name": "python3"
  },
  "language_info": {
   "codemirror_mode": {
    "name": "ipython",
    "version": 3
   },
   "file_extension": ".py",
   "mimetype": "text/x-python",
   "name": "python",
   "nbconvert_exporter": "python",
   "pygments_lexer": "ipython3",
   "version": "3.4.3"
  }
 },
 "nbformat": 4,
 "nbformat_minor": 0
}
