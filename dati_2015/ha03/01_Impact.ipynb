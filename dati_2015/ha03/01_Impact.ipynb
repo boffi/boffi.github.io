{
 "cells": [
  {
   "cell_type": "markdown",
   "metadata": {},
   "source": [
    "#Impact"
   ]
  },
  {
   "cell_type": "markdown",
   "metadata": {},
   "source": [
    "####Preliminaries\n",
    "\n",
    "We have to import the mathematical functions used in the following. Also, we want to define a function to help with the formatting of our results."
   ]
  },
  {
   "cell_type": "code",
   "execution_count": 1,
   "metadata": {
    "collapsed": true
   },
   "outputs": [],
   "source": [
    "from math import atan2, cos, pi, sin, sqrt\n",
    "def format(desc, val, units):\n",
    "    print(\"%-35s %9g %s\"%(desc+\":\", val, units))"
   ]
  },
  {
   "cell_type": "markdown",
   "metadata": {},
   "source": [
    "## Data of the problem\n",
    "\n",
    "The data of our problem is as follows"
   ]
  },
  {
   "cell_type": "code",
   "execution_count": 2,
   "metadata": {
    "collapsed": false,
    "scrolled": true
   },
   "outputs": [
    {
     "name": "stdout",
     "output_type": "stream",
     "text": [
      "Acceleration of gravity:                   10 m/s^2\n",
      "Stiffness of suspension system:        400000 N/m\n",
      "Mass of suspended body:                    75 kg\n",
      "Mass of falling body:                      25 kg\n",
      "Height of fall:                           1.4 m\n"
     ]
    }
   ],
   "source": [
    "g  = 10.00\n",
    "m1 = 75.00\n",
    "k  = 0.400E6\n",
    "m2 = m1/3.0\n",
    "h  = 1.400\n",
    "format(\"Acceleration of gravity\", g, \"m/s^2\")\n",
    "format(\"Stiffness of suspension system\", k, \"N/m\")\n",
    "format(\"Mass of suspended body\", m1, \"kg\")\n",
    "format(\"Mass of falling body\", m2, \"kg\")\n",
    "format(\"Height of fall\", h, \"m\")"
   ]
  },
  {
   "cell_type": "markdown",
   "metadata": {},
   "source": [
    "## Solution\n",
    "\n",
    "### The initial velocity\n",
    "\n",
    "The potential energy of the falling body is converted to kinetic energy at the moment of impact,\n",
    "$$m_2gh = \\frac12 m_2v_2^2 \\Rightarrow v_2 = \\sqrt{2gh}$$ "
   ]
  },
  {
   "cell_type": "code",
   "execution_count": 3,
   "metadata": {
    "collapsed": false
   },
   "outputs": [
    {
     "name": "stdout",
     "output_type": "stream",
     "text": [
      "Impact velocity of fallen body:        5.2915 m/s.\n"
     ]
    }
   ],
   "source": [
    "v2 = sqrt(2*g*h)\n",
    "format(\"Impact velocity of fallen body\", v2, \"m/s.\")"
   ]
  },
  {
   "cell_type": "markdown",
   "metadata": {},
   "source": [
    "The initial velocity of the system of mass $m=m_1+m_2$ is given by conservation of momentum,\n",
    "$$m_2v_2 = mv \\Rightarrow v=v_2\\frac{m_2}{m}$$"
   ]
  },
  {
   "cell_type": "code",
   "execution_count": 4,
   "metadata": {
    "collapsed": false
   },
   "outputs": [
    {
     "name": "stdout",
     "output_type": "stream",
     "text": [
      "Mass of compound system:                  100 kg\n",
      "Initial velocity, compound system:    1.32288 m/s\n"
     ]
    }
   ],
   "source": [
    "m = m1+m2\n",
    "v = v2*m2/m\n",
    "format(\"Mass of compound system\", m, \"kg\")\n",
    "format(\"Initial velocity, compound system\", v, \"m/s\")"
   ]
  },
  {
   "cell_type": "markdown",
   "metadata": {},
   "source": [
    "###Equation of motion\n",
    "\n",
    "The equation of motion to be solved is not homegeneous, because we have a static force due to the presence of the fallen body...\n",
    "$$m\\ddot{x}+kx=gm_2$$\n",
    "and the general integral is hence\n",
    "$$x(t) = A \\cos(\\omega t) + B \\sin(\\omega t) +\\frac{gm_2}{k}.$$"
   ]
  },
  {
   "cell_type": "code",
   "execution_count": 5,
   "metadata": {
    "collapsed": false
   },
   "outputs": [
    {
     "name": "stdout",
     "output_type": "stream",
     "text": [
      "Natural frequency:                    63.2456 rad/s\n"
     ]
    }
   ],
   "source": [
    "w2 = k/m\n",
    "w  = sqrt(w2)\n",
    "format(\"Natural frequency\", w, \"rad/s\")"
   ]
  },
  {
   "cell_type": "markdown",
   "metadata": {},
   "source": [
    "#### Initial conditions\n",
    "The initial conditions are\n",
    "$$x_0 = 0,\\qquad \\dot{x}_0 = v_2\\frac{m_2}{m},$$\n",
    "so that we have\n",
    "$$A\\cdot1+B\\cdot0+\\Delta_{st}=0, \\qquad \n",
    "  -\\omega A\\cdot0 + \\omega B\\cdot1=v,$$ \n",
    "that gives\n",
    "$$A = -\\Delta_{st}, \\qquad B = \\frac{v}{\\omega}$$\n",
    "and eventually\n",
    "$$x(t) = \\Delta_{st}\\left(1-\\cos(\\omega t)\\right) + \n",
    "\\frac{v}{\\omega} \\sin(\\omega t).$$"
   ]
  },
  {
   "cell_type": "code",
   "execution_count": 6,
   "metadata": {
    "collapsed": false
   },
   "outputs": [
    {
     "name": "stdout",
     "output_type": "stream",
     "text": [
      "Static displacement:                    0.625 mm\n",
      "Cosine coefficient:                    -0.625 mm\n",
      "Sine coefficient:                     20.9165 mm\n"
     ]
    }
   ],
   "source": [
    "dst = g*m2/k\n",
    "A   = -dst\n",
    "B   = v/w\n",
    "format(\"Static displacement\", dst*1000, \"mm\")\n",
    "format(\"Cosine coefficient\", A*1000, \"mm\")\n",
    "format(\"Sine coefficient\", B*1000, \"mm\")"
   ]
  },
  {
   "cell_type": "markdown",
   "metadata": {},
   "source": [
    "###Maximum displacement\n",
    "The maximum displacement is found considering the response as\n",
    "\n",
    "\\begin{align*}\n",
    "  x(t) &= \\Delta_{st} + C\\cos(\\omega t-\\phi),\\quad\\text{with } C=\\sqrt{A^2+B^2},\\\\\n",
    "x_\\text{max} &= \\Delta_{st}+C\\cdot1.\\end{align*}"
   ]
  },
  {
   "cell_type": "code",
   "execution_count": 7,
   "metadata": {
    "collapsed": false
   },
   "outputs": [
    {
     "name": "stdout",
     "output_type": "stream",
     "text": [
      "Maximum displacement:                 21.5508 mm\n"
     ]
    }
   ],
   "source": [
    "xmx = dst+sqrt(A*A+B*B)\n",
    "format(\"Maximum displacement\", xmx*1000, \"mm\")"
   ]
  },
  {
   "cell_type": "markdown",
   "metadata": {},
   "source": [
    "### Time of maximum displacement\n",
    "\n",
    "The phase difference is given by the expression\n",
    "$$\\phi=\\arctan\\frac{B}{A}$$ and we have the maximum displacement when $$\\cos(\\omega t^* - \\phi) = 1,$$ i.e.,\n",
    "$$\\omega t^* - \\phi = 2n\\pi\n",
    "\\Rightarrow t^* = \\frac{\\phi+2n\\pi}{\\omega}=\n",
    "\\frac{\\phi}{\\omega}+nT_N$$ with $n=-\\infty,\\ldots,\\infty$ and $T_N$ the natural period of vibration of the compound system.\n",
    "\n",
    "We have to find the smallest positive value of $t^*$ to answer the question of the exercise..."
   ]
  },
  {
   "cell_type": "code",
   "execution_count": 8,
   "metadata": {
    "collapsed": false
   },
   "outputs": [
    {
     "name": "stdout",
     "output_type": "stream",
     "text": [
      "Phase difference:                     91.7115 deg\n"
     ]
    }
   ],
   "source": [
    "phi = atan2(B, A)\n",
    "format(\"Phase difference\", phi*180/pi,\"deg\")"
   ]
  },
  {
   "cell_type": "markdown",
   "metadata": {},
   "source": [
    "The phase difference being positive, the smallest positive $t^*$ is simply $$t^*=\\frac{\\phi}{\\omega}.$$"
   ]
  },
  {
   "cell_type": "code",
   "execution_count": 9,
   "metadata": {
    "collapsed": false
   },
   "outputs": [
    {
     "name": "stdout",
     "output_type": "stream",
     "text": [
      "Time of first maximum, t*:          0.0253088 s\n"
     ]
    }
   ],
   "source": [
    "tmx = phi/w\n",
    "format(\"Time of first maximum, t*\", tmx,\"s\")"
   ]
  },
  {
   "cell_type": "markdown",
   "metadata": {},
   "source": [
    "Let's verify that the displacement computed at $t^*$ effectively is $x_\\text{max}$..."
   ]
  },
  {
   "cell_type": "code",
   "execution_count": 10,
   "metadata": {
    "collapsed": false,
    "scrolled": true
   },
   "outputs": [
    {
     "name": "stdout",
     "output_type": "stream",
     "text": [
      "*** Verification                          ***\n",
      "Maximum displacement:                 21.5508 mm\n",
      "Displacement @ t*:                    21.5508 mm\n"
     ]
    }
   ],
   "source": [
    "print(\"*** Verification\",\" \"*24,\"***\")\n",
    "format(\"Maximum displacement\", xmx*1000, \"mm\")\n",
    "xtmx = dst*(1-cos(tmx*w)) + B*sin(tmx*w) \n",
    "format(\"Displacement @ t*\", xtmx*1000, \"mm\")"
   ]
  },
  {
   "cell_type": "markdown",
   "metadata": {},
   "source": [
    "### Plotting our results\n",
    "\n",
    "First of all, the period of vibration, we plot one period, then we compute a sequence of\n",
    "points on the time axis and a sequence of samples of the displacements and one of samples\n",
    "of the velocities (divided by $\\omega$ to have dimensionally and numerically  homogeneous results)"
   ]
  },
  {
   "cell_type": "code",
   "execution_count": 11,
   "metadata": {
    "collapsed": true
   },
   "outputs": [],
   "source": [
    "T = 2*pi/w\n",
    "ts = [i*T/50 for i in range(51)]\n",
    "x = [dst*(1-cos(w*t))+B*sin(w*t) for t in ts]\n",
    "v = [dst*sin(w*t)+B*cos(w*t) for t in ts]\n",
    "t = ts"
   ]
  },
  {
   "cell_type": "markdown",
   "metadata": {},
   "source": [
    "#### The actual plots\n",
    "\n",
    "Preparing the required libraries and a few lines of code, using the sequences of data we've just\n",
    "computed."
   ]
  },
  {
   "cell_type": "code",
   "execution_count": 12,
   "metadata": {
    "collapsed": false
   },
   "outputs": [
    {
     "data": {
      "image/png": "[encoded data removed]",
      "text/plain": [
       "<matplotlib.figure.Figure at 0x4f00278>"
      ]
     },
     "metadata": {},
     "output_type": "display_data"
    }
   ],
   "source": [
    "%matplotlib inline\n",
    "import matplotlib.pyplot as plt\n",
    "plt.style.use(['fivethirtyeight', './00_mplrc'])\n",
    "\n",
    "plt.plot(t,x, label=\"$x(t)$\")\n",
    "plt.plot(t,v, label=\"$v(t)/\\\\omega$\")\n",
    "plt.xlabel(\"$t$/s\")\n",
    "plt.ylabel(\"$x$/m\")\n",
    "plt.xticks((0,0.025,0.050,0.075,0.100))\n",
    "plt.legend(loc=0)\n",
    "plt.title('Displacement and pseudo-velocity')\n",
    "plt.show()"
   ]
  },
  {
   "cell_type": "code",
   "execution_count": 13,
   "metadata": {
    "collapsed": false
   },
   "outputs": [
    {
     "data": {
      "text/html": [
       "<style>\n",
       "@font-face {\n",
       "    font-family: 'Charis SIL';\n",
       "    src: url('fonts/CharisSILEur-R.woff') format('woff');\n",
       "}\n",
       "@font-face {\n",
       "    font-family: 'Architects Daughter';\n",
       "    font-style: normal;\n",
       "    src: url(https://fonts.gstatic.com/s/architectsdaughter/v6/RXTgOOQ9AAtaVOHxx0IUBM3t7GjCYufj5TXV5VnA2p8.woff2) format('woff2');\n",
       "    unicode-range: U+0000-00FF, U+0131, U+0152-0153, U+02C6, U+02DA, U+02DC, U+2000-206F, U+2074, U+20AC, U+2212, U+2215, U+E0FF, U+EFFD, U+F000;\n",
       "}\n",
       ".prompt{display: None;}\n",
       "div.cell{margin: auto;width:900px;}\n",
       "\n",
       "div #notebook { /* centre the content */\n",
       "    background: #fffaf0;\n",
       "    margin: auto;\n",
       "    padding: 0em;\n",
       "    padding-top: 1em;\n",
       "}\n",
       "div #notebook_container {width: 960px!important;}\n",
       "#notebook li { /* More space between bullet points */\n",
       "    margin-top:0.2em;\n",
       "}\n",
       "\n",
       "div.text_cell_render{\n",
       "    font-family: \"Charis SIL\", Cambria,  serif;\n",
       "    line-height: 155%;\n",
       "    font-size: 130%;\n",
       "}\n",
       ".CodeMirror{\n",
       "    font-family: Consolas, monospace;\n",
       "    font-size: 140%;\n",
       "    background-color:#fcffff!important;\n",
       "}\n",
       "\n",
       ".output_area {\n",
       "    font-family: Consolas,monospace;font-size: 120%;\n",
       "    background-color:#fcffff!important;\n",
       "    margin-top:0.8em;\n",
       "}\n",
       "\n",
       "div.output_latex{overflow:hidden}\n",
       "\n",
       "h1 {\n",
       "    font-family: 'Architects Daughter', serif;\n",
       "    font-size:   48pt!important;\n",
       "    text-align:  center;\n",
       "    text-shadow: 4px 4px 4px #aaa;\n",
       "    padding-bottom: 48pt;\n",
       "}\n",
       "\n",
       ".warning{color: rgb( 240, 20, 20 )}\n",
       "</style>\n",
       "<script>\n",
       "MathJax.Hub.Config({\n",
       "    TeX: {extensions: [\"AMSmath.js\", \"begingroup.js\"]},\n",
       "    tex2jax: {\n",
       "        inlineMath: [ ['$','$'], [\"\\\\(\",\"\\\\)\"] ],\n",
       "        displayMath: [ ['$$','$$'], [\"\\\\[\",\"\\\\]\"] ]\n",
       "                },\n",
       "    displayAlign: 'center', // Change this to 'center' to center equations.\n",
       "    \"HTML-CSS\": {styles: {'.MathJax_Display': {\"margin\": 4}}}\n",
       "        });\n",
       "</script>\n"
      ],
      "text/plain": [
       "<IPython.core.display.HTML object>"
      ]
     },
     "execution_count": 13,
     "metadata": {},
     "output_type": "execute_result"
    }
   ],
   "source": [
    "# incantation to properly format the notebook\n",
    "from IPython.display import HTML\n",
    "HTML(open(\"00_custom.css\", \"r\").read())"
   ]
  }
 ],
 "metadata": {
  "kernelspec": {
   "display_name": "Python 3",
   "language": "python",
   "name": "python3"
  },
  "language_info": {
   "codemirror_mode": {
    "name": "ipython",
    "version": 3
   },
   "file_extension": ".py",
   "mimetype": "text/x-python",
   "name": "python",
   "nbconvert_exporter": "python",
   "pygments_lexer": "ipython3",
   "version": "3.4.3"
  }
 },
 "nbformat": 4,
 "nbformat_minor": 0
}
