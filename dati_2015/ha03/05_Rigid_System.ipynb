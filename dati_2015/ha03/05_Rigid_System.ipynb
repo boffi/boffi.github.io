{
 "cells": [
  {
   "cell_type": "code",
   "execution_count": 13,
   "metadata": {
    "collapsed": false
   },
   "outputs": [
    {
     "data": {
      "text/html": [
       "<style>\n",
       "@font-face {\n",
       "    font-family: 'Charis SIL';\n",
       "    src: url('fonts/CharisSILEur-R.woff') format('woff');\n",
       "}\n",
       "@font-face {\n",
       "    font-family: 'Architects Daughter';\n",
       "    font-style: normal;\n",
       "    src: url(https://fonts.gstatic.com/s/architectsdaughter/v6/RXTgOOQ9AAtaVOHxx0IUBM3t7GjCYufj5TXV5VnA2p8.woff2) format('woff2');\n",
       "    unicode-range: U+0000-00FF, U+0131, U+0152-0153, U+02C6, U+02DA, U+02DC, U+2000-206F, U+2074, U+20AC, U+2212, U+2215, U+E0FF, U+EFFD, U+F000;\n",
       "}\n",
       ".prompt{display: None;}\n",
       "div.cell{margin: auto;width:900px;}\n",
       "\n",
       "div #notebook { /* centre the content */\n",
       "    background: #fffaf0;\n",
       "    margin: auto;\n",
       "    padding: 0em;\n",
       "    padding-top: 1em;\n",
       "}\n",
       "div #notebook_container {width: 960px!important;}\n",
       "#notebook li { /* More space between bullet points */\n",
       "    margin-top:0.2em;\n",
       "}\n",
       "\n",
       "div.text_cell_render{\n",
       "    font-family: \"Charis SIL\", Cambria,  serif;\n",
       "    line-height: 155%;\n",
       "    font-size: 130%;\n",
       "}\n",
       ".CodeMirror{\n",
       "    font-family: Consolas, monospace;\n",
       "    font-size: 140%;\n",
       "    background-color:#fcffff!important;\n",
       "}\n",
       "\n",
       ".output_area {\n",
       "    font-family: Consolas,monospace;font-size: 120%;\n",
       "    background-color:#fcffff!important;\n",
       "    margin-top:0.8em;\n",
       "}\n",
       "\n",
       "div.output_latex{overflow:hidden}\n",
       "\n",
       "h1 {\n",
       "    font-family: 'Architects Daughter', serif;\n",
       "    font-size:   48pt!important;\n",
       "    text-align:  center;\n",
       "    text-shadow: 4px 4px 4px #aaa;\n",
       "    padding-bottom: 48pt;\n",
       "}\n",
       "\n",
       ".warning{color: rgb( 240, 20, 20 )}\n",
       "</style>\n",
       "<script>\n",
       "MathJax.Hub.Config({\n",
       "    TeX: {extensions: [\"AMSmath.js\", \"begingroup.js\"]},\n",
       "    tex2jax: {\n",
       "        inlineMath: [ ['$','$'], [\"\\\\(\",\"\\\\)\"] ],\n",
       "        displayMath: [ ['$$','$$'], [\"\\\\[\",\"\\\\]\"] ]\n",
       "                },\n",
       "    displayAlign: 'center', // Change this to 'center' to center equations.\n",
       "    \"HTML-CSS\": {styles: {'.MathJax_Display': {\"margin\": 4}}}\n",
       "        });\n",
       "</script>\n"
      ],
      "text/plain": [
       "<IPython.core.display.HTML object>"
      ]
     },
     "execution_count": 13,
     "metadata": {},
     "output_type": "execute_result"
    }
   ],
   "source": [
    "from IPython.display import display, Latex, HTML\n",
    "def plvu(label,  value, units=\"\"):\n",
    "    print(\"%40s: %10g %s\"%(label, value, units))\n",
    "def css_styling():\n",
    "    styles = open(\"00_custom.css\", \"r\").read()\n",
    "    return HTML(styles)\n",
    "css_styling()"
   ]
  },
  {
   "cell_type": "markdown",
   "metadata": {},
   "source": [
    "# Rigid System\n",
    "\n",
    "Our problem is described by the following figure:\n",
    "\n",
    "<img src=\"trabacolo.svg\" style=\"width:100%\">\n",
    "\n",
    "## Solution"
   ]
  },
  {
   "cell_type": "markdown",
   "metadata": {},
   "source": [
    "To solve this problem we we'll use `fractions` and _dummy_ functions to formally compute incremental displacements, velocities and accelerations."
   ]
  },
  {
   "cell_type": "code",
   "execution_count": 14,
   "metadata": {
    "collapsed": true
   },
   "outputs": [],
   "source": [
    "from fractions import Fraction as frac\n",
    "\n",
    "def d(v):     return v\n",
    "def delta(v): return v\n",
    "def dot(v):   return v\n",
    "def ddot(v):  return v"
   ]
  },
  {
   "cell_type": "markdown",
   "metadata": {},
   "source": [
    "We use symbolic names to denote unit values of the various physical quantities involved, as well as the unit displacement corresponding to the free coordinate."
   ]
  },
  {
   "cell_type": "code",
   "execution_count": 15,
   "metadata": {
    "collapsed": true
   },
   "outputs": [],
   "source": [
    "k  = 1; m = 1; p = 1; L = 1\n",
    "uc = 1"
   ]
  },
  {
   "cell_type": "markdown",
   "metadata": {},
   "source": [
    "### Masses and Rotatory Inertias\n",
    "\n",
    "The rigid bar CDE can be conveniently analyzed in terms of three, identical sub bars, and for each of them we have the same mass and the same rotatory inertia."
   ]
  },
  {
   "cell_type": "code",
   "execution_count": 16,
   "metadata": {
    "collapsed": true
   },
   "outputs": [],
   "source": [
    "m1 = m*L ; j1 = frac(m1*L**2, 12)\n",
    "m2 = m1  ; j2 = j1\n",
    "m3 = m1  ; j3 = j1"
   ]
  },
  {
   "cell_type": "markdown",
   "metadata": {},
   "source": [
    "### Instantaneous Motion\n",
    "\n",
    "Analyzing the instantaneous motion of the system, one  can recognize that\n",
    "\n",
    "<ol type=\"a\">\n",
    "    <li> the top bar is constrained to move horizontally by an amount $u \\equiv u_C$,\n",
    "    <li> the right bar is constrained to move vertically by an amount $v \\equiv -u_C$,\n",
    "    <li> the central bar is rotating about the centre of the segment DE by an angle $\\theta \\equiv -u_C/L$.\n",
    "</ol>\n",
    "\n",
    "On these premises we can write the generalized displacement (and the virtual displacements and the accelerations) of the various points of interest.\n",
    "\n",
    "#### Displacements\n",
    "\n",
    "The displacements in A"
   ]
  },
  {
   "cell_type": "code",
   "execution_count": 17,
   "metadata": {
    "collapsed": true
   },
   "outputs": [],
   "source": [
    "ua = uc ; va = 0"
   ]
  },
  {
   "cell_type": "markdown",
   "metadata": {},
   "source": [
    "The displacements in D"
   ]
  },
  {
   "cell_type": "code",
   "execution_count": 18,
   "metadata": {
    "collapsed": true
   },
   "outputs": [],
   "source": [
    "theta_cde = frac(-uc,L)\n",
    "# coordinates with respect to CDE's centre of instantaneous rotation\n",
    "xd = -L ; yd = 0\n",
    "ud = -theta_cde*yd\n",
    "vd = +theta_cde*xd"
   ]
  },
  {
   "cell_type": "markdown",
   "metadata": {},
   "source": [
    "The displacements of the centres of mass of the three sub bars (all the rotations are the same)"
   ]
  },
  {
   "cell_type": "code",
   "execution_count": 19,
   "metadata": {
    "collapsed": true
   },
   "outputs": [],
   "source": [
    "x1 = frac(-L,2) ; y1 = 0\n",
    "x2 = 0 ; y2 = frac(+L,2)\n",
    "x3 = frac(+L,2) ; y3 = 0\n",
    "\n",
    "u1 = -theta_cde*y1 ; v1 = +theta_cde*x1\n",
    "u2 = -theta_cde*y2 ; v2 = +theta_cde*x2\n",
    "u3 = -theta_cde*y3 ; v3 = +theta_cde*x3\n",
    "\n",
    "theta1 = theta_cde ; theta2 = theta_cde ; theta3 = theta_cde"
   ]
  },
  {
   "cell_type": "markdown",
   "metadata": {},
   "source": [
    "### Forces\n",
    "\n",
    "Of course there is the external force, then the springs forces"
   ]
  },
  {
   "cell_type": "code",
   "execution_count": 20,
   "metadata": {
    "collapsed": true
   },
   "outputs": [],
   "source": [
    "fsa = -k*ua\n",
    "fsd = -k*vd"
   ]
  },
  {
   "cell_type": "markdown",
   "metadata": {},
   "source": [
    "the inertial forces (only the ones different from zero)"
   ]
  },
  {
   "cell_type": "code",
   "execution_count": 21,
   "metadata": {
    "collapsed": false
   },
   "outputs": [],
   "source": [
    "fi1 = -m1*ddot(v1)\n",
    "fi2 = -m2*ddot(u2)\n",
    "fi3 = -m3*ddot(v3)"
   ]
  },
  {
   "cell_type": "markdown",
   "metadata": {},
   "source": [
    "and the inertial couples"
   ]
  },
  {
   "cell_type": "code",
   "execution_count": 22,
   "metadata": {
    "collapsed": true
   },
   "outputs": [],
   "source": [
    "wi1 = -j1*ddot(theta1)\n",
    "wi2 = -j2*ddot(theta2)\n",
    "wi3 = -j3*ddot(theta3)"
   ]
  },
  {
   "cell_type": "markdown",
   "metadata": {},
   "source": [
    "### Principle of Virtual Displacements\n",
    "\n",
    "To have equilibrium it is necessary and sufficient that the virtual work of all the forces for the virtual rigid displacement is equal to zero (note that the work of reactive forces, for fixed constraints, is identically zero).\n",
    "\n",
    "First the virtual work of inertial forces, then the work of spring forces and eventually the work of the autonomous forces:"
   ]
  },
  {
   "cell_type": "code",
   "execution_count": 23,
   "metadata": {
    "collapsed": true
   },
   "outputs": [],
   "source": [
    "vwif = fi1*delta(v1) + fi2*delta(u2) + fi3*delta(v3) + wi1*delta(theta1)\n",
    "vwif+= wi2*delta(theta2) + wi3*delta(theta3)\n",
    "\n",
    "vwsf = fsa*delta(ua) + fsd*delta(vd)\n",
    "\n",
    "vwaf = p*delta(uc)"
   ]
  },
  {
   "cell_type": "markdown",
   "metadata": {},
   "source": [
    "Simplifying the variation of $u_C$, expliciting the dependencies on fundamental units we eventually have the final result."
   ]
  },
  {
   "cell_type": "code",
   "execution_count": 24,
   "metadata": {
    "collapsed": false
   },
   "outputs": [
    {
     "name": "stdout",
     "output_type": "stream",
     "text": [
      "   -1*m*ddot(u_c) -2*k*u_c +1*p = 0\n"
     ]
    }
   ],
   "source": [
    "print (\"   %s*m*ddot(u_c) %s*k*u_c +%s*p = 0\"%(vwif,vwsf,vwaf))"
   ]
  }
 ],
 "metadata": {
  "kernelspec": {
   "display_name": "Python 3",
   "language": "python",
   "name": "python3"
  },
  "language_info": {
   "codemirror_mode": {
    "name": "ipython",
    "version": 3
   },
   "file_extension": ".py",
   "mimetype": "text/x-python",
   "name": "python",
   "nbconvert_exporter": "python",
   "pygments_lexer": "ipython3",
   "version": "3.4.3"
  }
 },
 "nbformat": 4,
 "nbformat_minor": 0
}
