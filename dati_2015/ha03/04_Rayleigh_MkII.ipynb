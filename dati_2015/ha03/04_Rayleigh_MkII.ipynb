{
 "cells": [
  {
   "cell_type": "code",
   "execution_count": 1,
   "metadata": {
    "collapsed": true
   },
   "outputs": [],
   "source": [
    "from sympy import *\n",
    "from IPython.display import display\n",
    "%matplotlib inline\n",
    "init_printing(use_latex=True)"
   ]
  },
  {
   "cell_type": "markdown",
   "metadata": {},
   "source": [
    "# Rayleigh Quotient MarkII\n",
    "\n",
    "We want to mix the last two functions we saw in the exercise, the shape associated with a load applied to the tip and the shape associated with a uniform distributed load.\n",
    "\n",
    "We start by defining a number of variables that point to `Symbol` objects,"
   ]
  },
  {
   "cell_type": "code",
   "execution_count": 2,
   "metadata": {
    "collapsed": false
   },
   "outputs": [],
   "source": [
    "z, h , r0, dr, t, E, rho, zeta = symbols('z H r_0 Delta t E rho zeta')"
   ]
  },
  {
   "cell_type": "markdown",
   "metadata": {},
   "source": [
    "We define the tip-load function starting from the expression of the bending moment, just a linear function that is 0 for $z=H$... we integrate two times and we get the displacements bar the constants of integration that, on the other hand, happen to be both equal to zero due to clamped end at $z=0$, implying that $\\psi_1(0)=0$ and $\\psi'_1(0)=0$"
   ]
  },
  {
   "cell_type": "code",
   "execution_count": 3,
   "metadata": {
    "collapsed": true
   },
   "outputs": [],
   "source": [
    "f12 = h-z\n",
    "f11 = integrate(f12,z)\n",
    "f10 = integrate(f11,z)"
   ]
  },
  {
   "cell_type": "markdown",
   "metadata": {},
   "source": [
    "We have no scaling in place... we have to scale correctly our function by evaluating it for $z=H$ "
   ]
  },
  {
   "cell_type": "code",
   "execution_count": 4,
   "metadata": {
    "collapsed": true
   },
   "outputs": [],
   "source": [
    "scale_factor = f10.subs(z,h)"
   ]
  },
  {
   "cell_type": "markdown",
   "metadata": {},
   "source": [
    "Dividing our shape function (and its derivatives) by this particular scale factor we have, of course, an unit value of the tip displacement."
   ]
  },
  {
   "cell_type": "code",
   "execution_count": 5,
   "metadata": {
    "collapsed": false
   },
   "outputs": [
    {
     "data": {
      "image/png": "[encoded data removed]",
      "text/latex": [
       "$$\\left ( \\frac{1}{H^{3}} \\left(\\frac{3 H}{2} z^{2} - \\frac{z^{3}}{2}\\right), \\quad \\frac{1}{H^{3}} \\left(3 H z - \\frac{3 z^{2}}{2}\\right), \\quad \\frac{1}{H^{3}} \\left(3 H - 3 z\\right), \\quad 1\\right )$$"
      ],
      "text/plain": [
       "⎛  ⎛   2    3⎞    ⎛       2⎞              ⎞\n",
       "⎜  ⎜H⋅z    z ⎟    ⎜      z ⎟              ⎟\n",
       "⎜3⋅⎜──── - ──⎟  3⋅⎜H⋅z - ──⎟              ⎟\n",
       "⎜  ⎝ 2     6 ⎠    ⎝      2 ⎠  3⋅(H - z)   ⎟\n",
       "⎜─────────────, ────────────, ─────────, 1⎟\n",
       "⎜       3             3            3      ⎟\n",
       "⎝      H             H            H       ⎠"
      ]
     },
     "execution_count": 5,
     "metadata": {},
     "output_type": "execute_result"
    }
   ],
   "source": [
    "f10 /= scale_factor\n",
    "f11 /= scale_factor\n",
    "f12 /= scale_factor\n",
    "f10, f11, f12, f10.subs(z,h)"
   ]
  },
  {
   "cell_type": "markdown",
   "metadata": {},
   "source": [
    "We repeat the same procedure to compute the shape function for a constant distributed load, here the constraint on the bending moment is that both the moment and the shear are zero for $z=H$, so the non-normalized expression for $M_b\\propto \\psi_2''$ is"
   ]
  },
  {
   "cell_type": "code",
   "execution_count": 6,
   "metadata": {
    "collapsed": true
   },
   "outputs": [],
   "source": [
    "f22 = h*h/2 - h*z + z*z/2"
   ]
  },
  {
   "cell_type": "markdown",
   "metadata": {},
   "source": [
    "The rest of the derivation is the same"
   ]
  },
  {
   "cell_type": "code",
   "execution_count": 7,
   "metadata": {
    "collapsed": false
   },
   "outputs": [
    {
     "data": {
      "image/png": "[encoded data removed]",
      "text/latex": [
       "$$\\left ( \\frac{1}{H^{4}} \\left(2 H^{2} z^{2} - \\frac{4 H}{3} z^{3} + \\frac{z^{4}}{3}\\right), \\quad \\frac{1}{H^{4}} \\left(4 H^{2} z - 4 H z^{2} + \\frac{4 z^{3}}{3}\\right), \\quad \\frac{1}{H^{4}} \\left(4 H^{2} - 8 H z + 4 z^{2}\\right), \\quad 1\\right )$$"
      ],
      "text/plain": [
       "⎛  ⎛ 2  2      3    4⎞    ⎛ 2        2    3⎞    ⎛ 2          2⎞   ⎞\n",
       "⎜  ⎜H ⋅z    H⋅z    z ⎟    ⎜H ⋅z   H⋅z    z ⎟    ⎜H          z ⎟   ⎟\n",
       "⎜8⋅⎜───── - ──── + ──⎟  8⋅⎜──── - ──── + ──⎟  8⋅⎜── - H⋅z + ──⎟   ⎟\n",
       "⎜  ⎝  4      6     24⎠    ⎝ 2      2     6 ⎠    ⎝2          2 ⎠   ⎟\n",
       "⎜─────────────────────, ────────────────────, ─────────────────, 1⎟\n",
       "⎜           4                     4                    4          ⎟\n",
       "⎝          H                     H                    H           ⎠"
      ]
     },
     "execution_count": 7,
     "metadata": {},
     "output_type": "execute_result"
    }
   ],
   "source": [
    "f21 = integrate(f22,z)\n",
    "f20 = integrate(f21,z)\n",
    "scale_factor = f20.subs(z,h)\n",
    "f20 /= scale_factor\n",
    "f21 /= scale_factor\n",
    "f22 /= scale_factor\n",
    "f20, f21, f22, f20.subs(z,h)"
   ]
  },
  {
   "cell_type": "markdown",
   "metadata": {},
   "source": [
    "To combine the two shapes in the _right_ way we write\n",
    "\n",
    "$$\\psi = \\alpha\\,\\psi_1+(1-\\alpha)\\,\\psi_2$$\n",
    "\n",
    "so that $\\psi(H)=1$, note that the shape function depends on one parameter, $\\alpha$, and we can minimize the Rayleigh Quotient with respect to $\\alpha$."
   ]
  },
  {
   "cell_type": "code",
   "execution_count": 8,
   "metadata": {
    "collapsed": false
   },
   "outputs": [
    {
     "data": {
      "image/png": "[encoded data removed]",
      "text/latex": [
       "$$\\left ( z^{4} \\left(- \\frac{\\alpha}{3 H^{4}} + \\frac{1}{3 H^{4}}\\right) + z^{3} \\left(\\frac{5 \\alpha}{6 H^{3}} - \\frac{4}{3 H^{3}}\\right) + z^{2} \\left(- \\frac{\\alpha}{2 H^{2}} + \\frac{2}{H^{2}}\\right), \\quad z^{2} \\left(- \\frac{4 \\alpha}{H^{4}} + \\frac{4}{H^{4}}\\right) + z \\left(\\frac{5 \\alpha}{H^{3}} - \\frac{8}{H^{3}}\\right) - \\frac{\\alpha}{H^{2}} + \\frac{4}{H^{2}}, \\quad 1\\right )$$"
      ],
      "text/plain": [
       "⎛ 4 ⎛   α      1  ⎞    3 ⎛5⋅α     4  ⎞    2 ⎛   α     2 ⎞   2 ⎛  4⋅α   4 ⎞    \n",
       "⎜z ⋅⎜- ──── + ────⎟ + z ⋅⎜──── - ────⎟ + z ⋅⎜- ──── + ──⎟, z ⋅⎜- ─── + ──⎟ + z\n",
       "⎜   ⎜     4      4⎟      ⎜   3      3⎟      ⎜     2    2⎟     ⎜    4    4⎟    \n",
       "⎝   ⎝  3⋅H    3⋅H ⎠      ⎝6⋅H    3⋅H ⎠      ⎝  2⋅H    H ⎠     ⎝   H    H ⎠    \n",
       "\n",
       " ⎛5⋅α   8 ⎞   α    4    ⎞\n",
       "⋅⎜─── - ──⎟ - ── + ──, 1⎟\n",
       " ⎜  3    3⎟    2    2   ⎟\n",
       " ⎝ H    H ⎠   H    H    ⎠"
      ]
     },
     "execution_count": 8,
     "metadata": {},
     "output_type": "execute_result"
    }
   ],
   "source": [
    "a = symbols('alpha')\n",
    "f0 = a*f10 + (1-a)*f20\n",
    "f2 = diff(f0,z,2)\n",
    "f0.expand().collect(z), f2.expand().collect(z), f0.subs(z,h)"
   ]
  },
  {
   "cell_type": "markdown",
   "metadata": {},
   "source": [
    "Working with symbols we don't need to formally define a Python function, it suffices to bind a name to a symbolic expression.  That's done for the different variable quantities that model our problem and using these named expressions we can compute the denominator and the numerator of the Rayleigh Quotient."
   ]
  },
  {
   "cell_type": "code",
   "execution_count": 9,
   "metadata": {
    "collapsed": false
   },
   "outputs": [],
   "source": [
    "re = r0 - dr * z/h\n",
    "ri = re - t\n",
    "A = pi*(re**2-ri**2)\n",
    "J = pi*(re**4-ri**4)/4\n",
    "fm = rho*A*f0**2\n",
    "fs = E*J*f2**2\n",
    "mstar = 80000+integrate(fm,(z,0,h))\n",
    "kstar = integrate(fs,(z,0,h))"
   ]
  },
  {
   "cell_type": "markdown",
   "metadata": {},
   "source": [
    "Our problem is characterized by a set of numerical values for the different basic variables:"
   ]
  },
  {
   "cell_type": "code",
   "execution_count": 10,
   "metadata": {
    "collapsed": false
   },
   "outputs": [
    {
     "data": {
      "image/png": "[encoded data removed]",
      "text/latex": [
       "$$\\left \\{ \\Delta : \\frac{3}{5}, \\quad E : 30000000000, \\quad H : 32, \\quad r_{0} : \\frac{9}{5}, \\quad \\rho : 2500, \\quad t : \\frac{1}{4}\\right \\}$$"
      ],
      "text/plain": [
       "{Δ: 3/5, E: 30000000000, H: 32, r₀: 9/5, ρ: 2500, t: 1/4}"
      ]
     },
     "execution_count": 10,
     "metadata": {},
     "output_type": "execute_result"
    }
   ],
   "source": [
    "values = {E:30000000000,\n",
    "          h:32,\n",
    "          rho:2500,\n",
    "          t:Rational(1,4),\n",
    "          r0:Rational(18,10),\n",
    "          dr:Rational(6,10)}\n",
    "\n",
    "values"
   ]
  },
  {
   "cell_type": "markdown",
   "metadata": {},
   "source": [
    "We can substitute these values in the numerator and denominator of the RQ"
   ]
  },
  {
   "cell_type": "code",
   "execution_count": 11,
   "metadata": {
    "collapsed": false
   },
   "outputs": [
    {
     "data": {
      "image/png": "[encoded data removed]",
      "text/latex": [
       "$$\\frac{3625 \\pi}{81} \\alpha^{2} - \\frac{90725 \\pi}{81} \\alpha + \\frac{6952000 \\pi}{567} + 80000$$"
      ],
      "text/plain": [
       "        2                                \n",
       "3625⋅π⋅α    90725⋅π⋅α   6952000⋅π        \n",
       "───────── - ───────── + ───────── + 80000\n",
       "    81          81         567           "
      ]
     },
     "metadata": {},
     "output_type": "display_data"
    },
    {
     "data": {
      "image/png": "[encoded data removed]",
      "text/latex": [
       "$$\\frac{32053171875 \\pi}{229376} \\alpha^{2} - \\frac{63128484375 \\pi}{114688} \\alpha + \\frac{41628609375 \\pi}{14336}$$"
      ],
      "text/plain": [
       "               2                                  \n",
       "32053171875⋅π⋅α    63128484375⋅π⋅α   41628609375⋅π\n",
       "──────────────── - ─────────────── + ─────────────\n",
       "     229376             114688           14336    "
      ]
     },
     "metadata": {},
     "output_type": "display_data"
    }
   ],
   "source": [
    "display(mstar.subs(values))\n",
    "display(kstar.subs(values))"
   ]
  },
  {
   "cell_type": "markdown",
   "metadata": {},
   "source": [
    "Let's look at the RQ as a function of $\\alpha$, with successive refinements"
   ]
  },
  {
   "cell_type": "code",
   "execution_count": 12,
   "metadata": {
    "collapsed": false
   },
   "outputs": [
    {
     "data": {
      "image/png": "[encoded data removed]",
      "text/plain": [
       "<matplotlib.figure.Figure at 0x7a4bba8>"
      ]
     },
     "metadata": {},
     "output_type": "display_data"
    }
   ],
   "source": [
    "rq = (kstar/mstar).subs(values)\n",
    "plot(rq, (a,-3,3));"
   ]
  },
  {
   "cell_type": "code",
   "execution_count": 13,
   "metadata": {
    "collapsed": false
   },
   "outputs": [
    {
     "data": {
      "image/png": "[encoded data removed]",
      "text/plain": [
       "<matplotlib.figure.Figure at 0x7a733c8>"
      ]
     },
     "metadata": {},
     "output_type": "display_data"
    }
   ],
   "source": [
    "plot(rq, (a,1,3));"
   ]
  },
  {
   "cell_type": "code",
   "execution_count": 14,
   "metadata": {
    "collapsed": false
   },
   "outputs": [
    {
     "data": {
      "image/png": "[encoded data removed]",
      "text/plain": [
       "<matplotlib.figure.Figure at 0x544e9b0>"
      ]
     },
     "metadata": {},
     "output_type": "display_data"
    }
   ],
   "source": [
    "plot(rq, (a,1.5,2.0));"
   ]
  },
  {
   "cell_type": "markdown",
   "metadata": {},
   "source": [
    "Here we do the following:\n",
    "\n",
    "   1. Derive the RQ and obtain a numerical function (rather than a symbolic expression) using the `lambdify` function.\n",
    "   2. Using a root finder function (here `bisect` from the `scipy.optimize` collection) we find the location of the minimum of RQ.\n",
    "   3. Display the location of the minimum.\n",
    "   4. Display the shape function as a function of $\\zeta=z/H$.\n",
    "   5. Display the minimum value of RQ.\n",
    "   \n",
    "Note that the eigenvalue we have previously found, for $\\psi\\propto1-\\cos\\zeta\\pi/2$ was $\\omega^2= 66.259\\,(\\text{rad/s})^2$ "
   ]
  },
  {
   "cell_type": "code",
   "execution_count": 15,
   "metadata": {
    "collapsed": false
   },
   "outputs": [
    {
     "data": {
      "image/png": "[encoded data removed]",
      "text/latex": [
       "$$1.741914539969548$$"
      ],
      "text/plain": [
       "1.741914539969548"
      ]
     },
     "metadata": {},
     "output_type": "display_data"
    },
    {
     "data": {
      "image/png": "[encoded data removed]",
      "text/latex": [
       "$$- 0.247304846656516 \\zeta^{4} + 0.11826211664129 \\zeta^{3} + 1.12904273001523 \\zeta^{2}$$"
      ],
      "text/plain": [
       "                        4                     3                     2\n",
       "- - -0.247304846656516⋅ζ  + 0.11826211664129⋅ζ  + 1.12904273001523⋅ζ "
      ]
     },
     "metadata": {},
     "output_type": "display_data"
    },
    {
     "data": {
      "image/png": "[encoded data removed]",
      "text/latex": [
       "$$65.9688573022856$$"
      ],
      "text/plain": [
       "65.9688573022856"
      ]
     },
     "execution_count": 15,
     "metadata": {},
     "output_type": "execute_result"
    }
   ],
   "source": [
    "rqdiff = lambdify(a, rq.diff(a))\n",
    "from scipy.optimize import bisect\n",
    "a_0 = bisect(rqdiff, 1.6, 1.9)\n",
    "display(a_0)\n",
    "display(f0.expand().subs(a,a_0).subs(z,zeta*h))\n",
    "rq.subs(a,a_0).evalf()"
   ]
  },
  {
   "cell_type": "markdown",
   "metadata": {},
   "source": [
    "Oh, we have (re)discovered the Ritz method! and we have the better solution so far..."
   ]
  },
  {
   "cell_type": "code",
   "execution_count": 16,
   "metadata": {
    "collapsed": false
   },
   "outputs": [
    {
     "data": {
      "text/html": [
       "<style>\n",
       "@font-face {\n",
       "    font-family: 'Charis SIL';\n",
       "    src: url('fonts/CharisSILEur-R.woff') format('woff');\n",
       "}\n",
       "@font-face {\n",
       "    font-family: 'Architects Daughter';\n",
       "    font-style: normal;\n",
       "    src: url(https://fonts.gstatic.com/s/architectsdaughter/v6/RXTgOOQ9AAtaVOHxx0IUBM3t7GjCYufj5TXV5VnA2p8.woff2) format('woff2');\n",
       "    unicode-range: U+0000-00FF, U+0131, U+0152-0153, U+02C6, U+02DA, U+02DC, U+2000-206F, U+2074, U+20AC, U+2212, U+2215, U+E0FF, U+EFFD, U+F000;\n",
       "}\n",
       ".prompt{display: None;}\n",
       "div.cell{margin: auto;width:900px;}\n",
       "\n",
       "div #notebook { /* centre the content */\n",
       "    background: #fffaf0;\n",
       "    margin: auto;\n",
       "    padding: 0em;\n",
       "    padding-top: 1em;\n",
       "}\n",
       "div #notebook_container {width: 960px!important;}\n",
       "#notebook li { /* More space between bullet points */\n",
       "    margin-top:0.2em;\n",
       "}\n",
       "\n",
       "div.text_cell_render{\n",
       "    font-family: \"Charis SIL\", Cambria,  serif;\n",
       "    line-height: 155%;\n",
       "    font-size: 130%;\n",
       "}\n",
       ".CodeMirror{\n",
       "    font-family: Consolas, monospace;\n",
       "    font-size: 140%;\n",
       "    background-color:#fcffff!important;\n",
       "}\n",
       "\n",
       ".output_area {\n",
       "    font-family: Consolas,monospace;font-size: 120%;\n",
       "    background-color:#fcffff!important;\n",
       "    margin-top:0.8em;\n",
       "}\n",
       "\n",
       "div.output_latex{overflow:hidden}\n",
       "\n",
       "h1 {\n",
       "    font-family: 'Architects Daughter', serif;\n",
       "    font-size:   48pt!important;\n",
       "    text-align:  center;\n",
       "    text-shadow: 4px 4px 4px #aaa;\n",
       "    padding-bottom: 48pt;\n",
       "}\n",
       "\n",
       ".warning{color: rgb( 240, 20, 20 )}\n",
       "</style>\n",
       "<script>\n",
       "MathJax.Hub.Config({\n",
       "    TeX: {extensions: [\"AMSmath.js\", \"begingroup.js\"]},\n",
       "    tex2jax: {\n",
       "        inlineMath: [ ['$','$'], [\"\\\\(\",\"\\\\)\"] ],\n",
       "        displayMath: [ ['$$','$$'], [\"\\\\[\",\"\\\\]\"] ]\n",
       "                },\n",
       "    displayAlign: 'center', // Change this to 'center' to center equations.\n",
       "    \"HTML-CSS\": {styles: {'.MathJax_Display': {\"margin\": 4}}}\n",
       "        });\n",
       "</script>\n"
      ],
      "text/plain": [
       "<IPython.core.display.HTML object>"
      ]
     },
     "execution_count": 16,
     "metadata": {},
     "output_type": "execute_result"
    }
   ],
   "source": [
    "# usual incantation\n",
    "from IPython.display import HTML\n",
    "HTML(open('00_custom.css').read())"
   ]
  }
 ],
 "metadata": {
  "kernelspec": {
   "display_name": "Python 3",
   "language": "python",
   "name": "python3"
  },
  "language_info": {
   "codemirror_mode": {
    "name": "ipython",
    "version": 3
   },
   "file_extension": ".py",
   "mimetype": "text/x-python",
   "name": "python",
   "nbconvert_exporter": "python",
   "pygments_lexer": "ipython3",
   "version": "3.4.3"
  }
 },
 "nbformat": 4,
 "nbformat_minor": 0
}
