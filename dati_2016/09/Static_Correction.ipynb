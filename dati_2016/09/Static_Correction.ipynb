{
 "metadata": {
  "name": "",
  "signature": "sha256:a9f8444d8d3608de87d9c243c984c96f12c4c358ded84635b85ef25a9527e9e2"
 },
 "nbformat": 3,
 "nbformat_minor": 0,
 "worksheets": [
  {
   "cells": [
    {
     "cell_type": "code",
     "collapsed": true,
     "input": [
      "from scipy import *;\n",
      "from scipy.linalg import eigh"
     ],
     "language": "python",
     "metadata": {},
     "outputs": [],
     "prompt_number": 1
    },
    {
     "cell_type": "code",
     "collapsed": false,
     "input": [
      "k =mat([[  54, -34,   8,   0,   0],\n",
      "        [ -34,  48, -30,   7,   0],\n",
      "        [   8, -30,  42, -26,   6],\n",
      "        [   0,   7, -26,  31, -12],\n",
      "        [   0,   0,   6, -12,  6]])*0.65\n",
      "\n",
      "mass = mat(eye(5)) ; mass[4,4] = 4 ; mass = mass*1.0"
     ],
     "language": "python",
     "metadata": {},
     "outputs": [],
     "prompt_number": 2
    },
    {
     "cell_type": "code",
     "collapsed": true,
     "input": [
      "evals, evecs = eigh(k, mass)\n",
      "evecs = mat(evecs)\n",
      "w2 = mat(diag(evals)) ; w1 = mat(diag(sqrt(evals)))\n",
      "print evals\n",
      "print sqrt(evals)\n",
      "print 1/(1-1/evals)\n",
      "print evecs"
     ],
     "language": "python",
     "metadata": {},
     "outputs": [
      {
       "output_type": "stream",
       "stream": "stdout",
       "text": [
        "[  2.21379558e-02   1.47531594e+00   1.14460116e+01   3.52889322e+01\n",
        "   6.64926023e+01]\n",
        "[ 0.14878829  1.21462584  3.38319548  5.94044882  8.15429962]\n",
        "[-0.02263914  3.10386382  1.09573032  1.02916393  1.0152689 ]\n",
        "[[ 0.03861265 -0.26504416 -0.52623003  0.60662458 -0.53230558]\n",
        " [ 0.11061399 -0.54887627 -0.51096499 -0.12909326  0.63933488]\n",
        " [ 0.20963847 -0.61887301  0.22213708 -0.52660579 -0.49637624]\n",
        " [ 0.32803998 -0.35391774  0.61441445  0.57356854  0.24626412]\n",
        " [ 0.45681372  0.17336728 -0.09373732 -0.04755792 -0.01471638]]\n"
       ]
      }
     ],
     "prompt_number": 3
    },
    {
     "cell_type": "code",
     "collapsed": false,
     "input": [
      "load = mat('0;0;0;2;-1')\n",
      "qload = evecs.T*load ; Gamma = diag(asarray(qload).flatten())\n",
      "print Gamma"
     ],
     "language": "python",
     "metadata": {},
     "outputs": [
      {
       "output_type": "stream",
       "stream": "stdout",
       "text": [
        "[[ 0.19926624  0.          0.          0.          0.        ]\n",
        " [ 0.         -0.88120277  0.          0.          0.        ]\n",
        " [ 0.          0.          1.32256622  0.          0.        ]\n",
        " [ 0.          0.          0.          1.194695    0.        ]\n",
        " [ 0.          0.          0.          0.          0.50724461]]\n"
       ]
      }
     ],
     "prompt_number": 4
    },
    {
     "cell_type": "code",
     "collapsed": true,
     "input": [
      "R = mass*evecs*Gamma\n",
      "print R"
     ],
     "language": "python",
     "metadata": {},
     "outputs": [
      {
       "output_type": "stream",
       "stream": "stdout",
       "text": [
        "[[ 0.0076942   0.23355764 -0.69597406  0.72473136 -0.27000914]\n",
        " [ 0.02204163  0.48367129 -0.67578503 -0.15422707  0.32429917]\n",
        " [ 0.04177387  0.54535261  0.29379099 -0.6291333  -0.25178417]\n",
        " [ 0.06536729  0.3118733   0.81260379  0.68523947  0.12491615]\n",
        " [ 0.36411021 -0.61108692 -0.49589523 -0.22726885 -0.02985922]]\n"
       ]
      }
     ],
     "prompt_number": 5
    },
    {
     "cell_type": "code",
     "collapsed": false,
     "input": [
      "print [(R[i,:]).sum() for i in range(5)]\n",
      "print [(R[:,i]).sum() for i in range(5)]"
     ],
     "language": "python",
     "metadata": {},
     "outputs": [
      {
       "output_type": "stream",
       "stream": "stdout",
       "text": [
        "[-1.6653345369377348e-16, -1.1102230246251565e-16, -1.1102230246251565e-16, 1.9999999999999996, -0.99999999999999944]\n",
        "[0.50098720202849911, 0.96336792762634316, -0.76125953450619877, 0.39934161163840598, -0.10243720678704951]\n"
       ]
      }
     ],
     "prompt_number": 6
    },
    {
     "cell_type": "code",
     "collapsed": false,
     "input": [
      "set_printoptions(precision=6, linewidth=120, suppress=1)\n",
      "f = copy(k.I)\n",
      "print \"Now, the modal flexibility matrices, F_i = \\psi*\\psi^T/\\omega^2,\\n\"\n",
      "for i in range(5):\n",
      "    print \"F_%d =\"%(i+1,)\n",
      "    f_i = evecs[:,i]*evecs[:,i].T/evals[i]\n",
      "    print f_i\n",
      "    f = f - f_i\n",
      "print\n",
      "print 'The following matrix, F-sum(F_i), should be close to zero...'"
     ],
     "language": "python",
     "metadata": {},
     "outputs": [
      {
       "output_type": "stream",
       "stream": "stdout",
       "text": [
        "Now, the modal flexibility matrices, F_i = \\psi*\\psi^T/\\omega^2,\n",
        "\n",
        "F_1 =\n",
        "[[ 0.067348  0.192931  0.365648  0.572162  0.796767]\n",
        " [ 0.192931  0.552691  1.047475  1.639077  2.282505]\n",
        " [ 0.365648  1.047475  1.985201  3.10642   4.325861]\n",
        " [ 0.572162  1.639077  3.10642   4.860893  6.769061]\n",
        " [ 0.796767  2.282505  4.325861  6.769061  9.426289]]\n",
        "F_2 =\n",
        "[[ 0.047616  0.098607  0.111182  0.063582 -0.031146]\n",
        " [ 0.098607  0.204204  0.230245  0.131671 -0.0645  ]\n",
        " [ 0.111182  0.230245  0.259608  0.148463 -0.072725]\n",
        " [ 0.063582  0.131671  0.148463  0.084902 -0.04159 ]\n",
        " [-0.031146 -0.0645   -0.072725 -0.04159   0.020373]]\n",
        "F_3 =\n",
        "[[ 0.024193  0.023492 -0.010213 -0.028248  0.00431 ]\n",
        " [ 0.023492  0.02281  -0.009916 -0.027428  0.004185]\n",
        " [-0.010213 -0.009916  0.004311  0.011924 -0.001819]\n",
        " [-0.028248 -0.027428  0.011924  0.032981 -0.005032]\n",
        " [ 0.00431   0.004185 -0.001819 -0.005032  0.000768]]\n",
        "F_4 =\n",
        "[[ 0.010428 -0.002219 -0.009052  0.00986  -0.000818]\n",
        " [-0.002219  0.000472  0.001926 -0.002098  0.000174]\n",
        " [-0.009052  0.001926  0.007858 -0.008559  0.00071 ]\n",
        " [ 0.00986  -0.002098 -0.008559  0.009322 -0.000773]\n",
        " [-0.000818  0.000174  0.00071  -0.000773  0.000064]]\n",
        "F_5 =\n",
        "[[ 0.004261 -0.005118  0.003974 -0.001971  0.000118]\n",
        " [-0.005118  0.006147 -0.004773  0.002368 -0.000141]\n",
        " [ 0.003974 -0.004773  0.003706 -0.001838  0.00011 ]\n",
        " [-0.001971  0.002368 -0.001838  0.000912 -0.000055]\n",
        " [ 0.000118 -0.000141  0.00011  -0.000055  0.000003]]\n",
        "\n",
        "The following matrix, F-sum(F_i), should be close to zero...\n"
       ]
      }
     ],
     "prompt_number": 7
    },
    {
     "cell_type": "code",
     "collapsed": false,
     "input": [
      "print f\n",
      "print \"... and so it seems.\""
     ],
     "language": "python",
     "metadata": {},
     "outputs": [
      {
       "output_type": "stream",
       "stream": "stdout",
       "text": [
        "[[-0. -0. -0. -0. -0.]\n",
        " [-0. -0. -0. -0. -0.]\n",
        " [-0. -0. -0. -0. -0.]\n",
        " [-0. -0. -0. -0. -0.]\n",
        " [-0. -0. -0. -0. -0.]]\n",
        "... and so it seems.\n"
       ]
      }
     ],
     "prompt_number": 9
    },
    {
     "cell_type": "code",
     "collapsed": false,
     "input": [
      "print \"The correction matrix for modes 3,4,5\"\n",
      "f = k.I - evecs[:,0]*evecs[:,0].T/evals[0] - evecs[:,1]*evecs[:,1].T/evals[1]\n",
      "print f,\"\\n\"\n",
      "print \"x = \\psi_1 q_1 + \\psi_2 q_2 + ((F-F_1-F_2)*r) f(t)\"\n",
      "print \"                              ^^^^^^^^^^^^^^^\"\n",
      "print \"                                 constant\""
     ],
     "language": "python",
     "metadata": {},
     "outputs": [
      {
       "output_type": "stream",
       "stream": "stdout",
       "text": [
        "The correction matrix for modes 3,4,5\n",
        "[[ 0.038883  0.016154 -0.015291 -0.020359  0.00361 ]\n",
        " [ 0.016154  0.02943  -0.012763 -0.027159  0.004217]\n",
        " [-0.015291 -0.012763  0.015875  0.001527 -0.001   ]\n",
        " [-0.020359 -0.027159  0.001527  0.043216 -0.005859]\n",
        " [ 0.00361   0.004217 -0.001    -0.005859  0.000835]] \n",
        "\n",
        "x = \\psi_1 q_1 + \\psi_2 q_2 + ((F-F_1-F_2)*r) f(t)\n",
        "                              ^^^^^^^^^^^^^^^\n",
        "                                 constant\n"
       ]
      }
     ],
     "prompt_number": 10
    },
    {
     "cell_type": "markdown",
     "metadata": {},
     "source": [
      "let's try $p(t) = \\boldsymbol{r} \\\\,\\sin(t)$, that is $\\omega=1.0$\n"
     ]
    },
    {
     "cell_type": "code",
     "collapsed": false,
     "input": [],
     "language": "python",
     "metadata": {},
     "outputs": []
    },
    {
     "cell_type": "code",
     "collapsed": false,
     "input": [],
     "language": "python",
     "metadata": {},
     "outputs": []
    }
   ],
   "metadata": {}
  }
 ]
}