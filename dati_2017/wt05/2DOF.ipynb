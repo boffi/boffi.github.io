{
 "cells": [
  {
   "cell_type": "markdown",
   "metadata": {},
   "source": [
    "# 2 DOF System\n",
    "\n",
    "<img src=\"figures/struct01_conv.svg\" alt=\"Dynamic System\" style=\"width: 67%;\"/>\n",
    "\n",
    "The dynamical system in figure is composed of two massless, uniform beams\n",
    "supporting a dimensionless body of mass $m$.\n",
    "\n",
    "With $\\omega_0^2=(EJ)/(mL^3)$ determine the system's eigenvalues\n",
    "$\\omega_i^2=\\lambda_i^2\\,\\omega_0^2$ and the mass normalized eigenvectors.\n",
    "\n",
    "The system is subjected to a horizontal motion $u_\\mathcal{B}= u_\\mathcal{B}(t)$,\n",
    "determine the mass displacements \n",
    "$\\boldsymbol x_\\mathcal{B} = \\boldsymbol r\\,u_\\mathcal{B}$ and write the modal equations of dynamic equilibrium as\n",
    "$$\\ddot q_i + \\lambda_i^2\\omega_0^2\\,q_i = \\alpha_i\\,\\ddot u_\\mathcal{B}$$\n",
    "determining the numerical values of the $\\alpha_i$.\n",
    "## Structural matrices\n",
    "\n",
    "The flexibility is computed using the Principle of Virtual Displacements, the stiffness is computed by inversion and the mass matrix is the unit matrix multiplied by $m$, $\\ \\boldsymbol M=m\\,\\boldsymbol I$.\n",
    "\n",
    "<img src=\"figures/struct02_conv.svg\" alt=\"Dynamic System\" style=\"width: 67%;\"/>"
   ]
  },
  {
   "cell_type": "code",
   "execution_count": 3,
   "metadata": {},
   "outputs": [
    {
     "data": {
      "text/latex": [
       "\\begin{align}\\boldsymbol{F}=\\frac{1}{27}\\frac{L^3}{EJ}\\begin{bmatrix}+80&+13\\\\+13&+20\\end{bmatrix},\\end{align}"
      ],
      "text/plain": [
       "<IPython.core.display.Latex object>"
      ]
     },
     "metadata": {},
     "output_type": "display_data"
    },
    {
     "data": {
      "text/latex": [
       "\\begin{align}\\boldsymbol{K}=\\frac{1}{53}\\frac{EJ}{L^3}\\begin{bmatrix}+20&-13\\\\-13&+80\\end{bmatrix},\\end{align}"
      ],
      "text/plain": [
       "<IPython.core.display.Latex object>"
      ]
     },
     "metadata": {},
     "output_type": "display_data"
    },
    {
     "data": {
      "text/latex": [
       "\\begin{align}\\boldsymbol{M}=m\\begin{bmatrix}1&0\\\\0&1\\end{bmatrix}.\\end{align}"
      ],
      "text/plain": [
       "<IPython.core.display.Latex object>"
      ]
     },
     "metadata": {},
     "output_type": "display_data"
    }
   ],
   "source": [
    "l = [1, 1, 1, 2, 1]\n",
    "m = [[p( 2/3, 0), p(-1/3, 1), p(1, 0), p(2/3, 0), p(4/3, 0)],\n",
    "     [p(-2/3, 0), p(-2/3, 0), p(0, 0), p(1/3, 0), p(2/3, 0)]]\n",
    "\n",
    "F = array([[vw(emme, chi, l) for emme in m] for chi in m])\n",
    "K = inv(F)\n",
    "M = eye(2)\n",
    "\n",
    "dl(dmat(r'\\boldsymbol{F}=\\frac{1}{27}\\frac{L^3}{EJ}', F*27, r','))\n",
    "dl(dmat(r'\\boldsymbol{K}=\\frac{1}{53}\\frac{EJ}{L^3}', K*53, r','))\n",
    "dl(dmat(r'\\boldsymbol{M}=m', M,'.', fmt='%d'))"
   ]
  },
  {
   "cell_type": "markdown",
   "metadata": {},
   "source": [
    "## The eigenvalues problem"
   ]
  },
  {
   "cell_type": "code",
   "execution_count": 4,
   "metadata": {},
   "outputs": [
    {
     "data": {
      "text/latex": [
       "\\begin{align}\\boldsymbol{\\Lambda^2}=\\begin{bmatrix}+0.326499&+0\\\\+0&+1.56029\\end{bmatrix}.\\end{align}"
      ],
      "text/plain": [
       "<IPython.core.display.Latex object>"
      ]
     },
     "metadata": {},
     "output_type": "display_data"
    },
    {
     "data": {
      "text/latex": [
       "\\begin{align}\\boldsymbol{\\Psi}=\\begin{bmatrix}+0.979172&-0.203032\\\\+0.203032&+0.979172\\end{bmatrix}.\\end{align}"
      ],
      "text/plain": [
       "<IPython.core.display.Latex object>"
      ]
     },
     "metadata": {},
     "output_type": "display_data"
    }
   ],
   "source": [
    "wn2, Psi = eigh(K, M) ; Psi[:,0] *= -1\n",
    "Lambda2 = diag(wn2)\n",
    "\n",
    "dl(dmat(r'\\boldsymbol{\\Lambda^2}=', Lambda2, r'.'))\n",
    "dl(dmat(r'\\boldsymbol{\\Psi}=', Psi,  r'.'))"
   ]
  },
  {
   "cell_type": "markdown",
   "metadata": {},
   "source": [
    "## Mass Displacements and Inertial Forces\n",
    "\n",
    "We downgrade the  hinge in $\\mathcal B$ to permit a unit horizontal displacement and observe that the centre of instantaneous rotation for the lower beam is at the intersection of the vertical in $\\mathcal B$ and the line connecting $\\mathcal A$ and $\\mathcal C$.\n",
    "\n",
    "<img src=\"figures/struct03_conv.svg\" alt=\"Dynamic System\" style=\"width: 67%;\"/>\n",
    "\n",
    "The angle of rotation of the lower beam is $\\theta_2=1/3L$, anti-clockwise and the angle of rotation of the upper beam (that rotates about the hinge in $\\mathcal A$) is equal but clockwise, due to the continuity of displacements in the internal hinge $\\mathcal C$.\n",
    "\n",
    "Knowing the angle of rotation of the upper beam, the mass displacements are\n",
    "$$ x_1 = 2L\\frac{1}{3L}=\\frac{2}{3}\\quad\n",
    "\\text{ and }\\quad x_2=L\\frac{1}{3L}=\\frac{1}{3}.$$\n",
    "\n",
    "We can eventually write\n",
    "$$ \\boldsymbol x_\\text{tot} = \\boldsymbol x + \\begin{Bmatrix}\n",
    "   2/3\\\\1/3 \\end{Bmatrix}\\,u_\\mathcal{B}$$\n",
    "\n",
    "and the inertial force can be written as\n",
    "\n",
    "$$\\boldsymbol f_\\text{I} =\n",
    "\\boldsymbol M \\, \\ddot{\\boldsymbol x}_\\text{tot} =\n",
    "\\boldsymbol M \\, \\ddot{\\boldsymbol x} +\n",
    "\\boldsymbol M \\, \\begin{Bmatrix}2/3\\\\1/3\\end{Bmatrix}\\,\\ddot u_\\mathcal{B}\n",
    "$$\n",
    "\n",
    "## The Modal Equations of Motion\n",
    "\n",
    "The equation of motion, in structural coordinates, is\n",
    "\n",
    "$$\n",
    "\\boldsymbol M \\, \\ddot{\\boldsymbol x} +\n",
    "\\boldsymbol K \\, \\boldsymbol x = \n",
    "- \\boldsymbol M \\, \\begin{Bmatrix}2/3\\\\1/3\\end{Bmatrix}\\,\\ddot u_\\mathcal{B}\n",
    "$$\n",
    "\n",
    "or, because $\\boldsymbol M = m\\, \\boldsymbol I$,\n",
    "\n",
    "$$\n",
    "\\boldsymbol M \\, \\ddot{\\boldsymbol x} +\n",
    "\\boldsymbol K \\, \\boldsymbol x = \n",
    "- m\\, \\begin{Bmatrix}2/3\\\\1/3\\end{Bmatrix}\\,\\ddot u_\\mathcal{B}\n",
    "$$\n",
    "\n",
    "Using the modal expansion, $\\boldsymbol x = \\boldsymbol\\Psi\\, \\boldsymbol q$ and premultiplying  term by term by $\\boldsymbol\\Psi^T$ we have, because the eigenvectors are normalized w/r to the mass matrix,\n",
    "\n",
    "$$\n",
    "m\\,\\boldsymbol I \\, \\ddot{\\boldsymbol q} + m\\omega_0^2\\,\n",
    "\\boldsymbol \\Lambda^2 \\, \\boldsymbol q = \n",
    "- m\\,\\boldsymbol\\Psi^T\\, \\begin{Bmatrix}2/3\\\\1/3\\end{Bmatrix}\\,\\ddot u_\\mathcal{B}.\n",
    "$$\n"
   ]
  },
  {
   "cell_type": "code",
   "execution_count": 5,
   "metadata": {},
   "outputs": [
    {
     "name": "stdout",
     "output_type": "stream",
     "text": [
      "The modal equations of motion are\n"
     ]
    },
    {
     "data": {
      "text/latex": [
       "$$\\ddot q_{1} +0.326499\\,\\omega_0^2\\,q_{1} = -0.720459\\,\\ddot u_\\mathcal{B}$$"
      ],
      "text/plain": [
       "<IPython.core.display.Latex object>"
      ]
     },
     "metadata": {},
     "output_type": "display_data"
    },
    {
     "data": {
      "text/latex": [
       "$$\\ddot q_{2} +1.560294\\,\\omega_0^2\\,q_{2} = -0.191036\\,\\ddot u_\\mathcal{B}$$"
      ],
      "text/plain": [
       "<IPython.core.display.Latex object>"
      ]
     },
     "metadata": {},
     "output_type": "display_data"
    }
   ],
   "source": [
    "r = array((2/3, 1/3))\n",
    "a = -Psi.T@r\n",
    "print('The modal equations of motion are')\n",
    "\n",
    "for i, (ai, l2i) in enumerate(zip(a, wn2), 1):\n",
    "    dl(r'$$\\ddot q_{%d} %+.6f\\,\\omega_0^2\\,q_{%d} = %+.6f\\,\\ddot u_\\mathcal{B}$$' %\n",
    "        (i, l2i, i, ai))"
   ]
  },
  {
   "cell_type": "markdown",
   "metadata": {},
   "source": [
    "## Initialization"
   ]
  },
  {
   "cell_type": "code",
   "execution_count": 1,
   "metadata": {
    "init_cell": true
   },
   "outputs": [
    {
     "data": {
      "text/html": [
       "<style>\n",
       "\n",
       "@font-face {\n",
       "    font-family: 'Charis SIL';\n",
       "    src: url('fonts/CharisSILEur-R.woff') format('woff');\n",
       "}\n",
       "@font-face {\n",
       "    font-family: 'Architects Daughter';\n",
       "    font-style: normal;\n",
       "    src: url(https://fonts.gstatic.com/s/architectsdaughter/v6/RXTgOOQ9AAtaVOHxx0IUBM3t7GjCYufj5TXV5VnA2p8.woff2) format('woff2');\n",
       "    unicode-range: U+0000-00FF, U+0131, U+0152-0153, U+02C6, U+02DA, U+02DC, U+2000-206F, U+2074, U+20AC, U+2212, U+2215, U+E0FF, U+EFFD, U+F000;\n",
       "}\n",
       ".prompt{display: None;}\n",
       "div.cell{margin: auto;width:720px;}\n",
       "\n",
       "code{font-family: Consolas}\n",
       "\n",
       "div #notebook { /* centre the content */\n",
       "    background: #fdfffa;\n",
       "    margin: auto;\n",
       "    padding: 0em;\n",
       "    padding-top: 1em;\n",
       "}\n",
       "div #notebook_container {width: 700px!important;}\n",
       "#notebook li { /* More space between bullet points */\n",
       "    margin-top:0.2em;\n",
       "}\n",
       "\n",
       "div.text_cell_render{\n",
       "    font-family: \"Charis SIL\", Cambria,  serif;\n",
       "    line-height: 150%;\n",
       "    font-size: 140%;\n",
       "}\n",
       ".CodeMirror{\n",
       "    width: 700px!important;\n",
       "    font-family: Consolas,monospace;\n",
       "    font-size: 100%;\n",
       "    background-color:#fefffc!important;\n",
       "}\n",
       "\n",
       ".output_area {\n",
       "    font-family: Consolas,monospace;font-size: 100%;\n",
       "    background-color:#ffffff!important;\n",
       "    margin-top:0.8em;\n",
       "}\n",
       "\n",
       "div.output_latex{overflow:hidden}\n",
       "\n",
       "h1 {\n",
       "    font-family: 'Architects Daughter', serif;\n",
       "    font-size:   32pt!important;\n",
       "    text-align:  center;\n",
       "    text-shadow: 4px 4px 4px #aaa;\n",
       "    padding-bottom: 32pt;\n",
       "}\n",
       "\n",
       ".warning{color: rgb( 240, 20, 20 )}\n",
       "</style>\n"
      ],
      "text/plain": [
       "<IPython.core.display.HTML object>"
      ]
     },
     "metadata": {},
     "output_type": "display_data"
    }
   ],
   "source": [
    "from numpy import array, diag, eye, poly1d\n",
    "from scipy.linalg import eigh, inv\n",
    "\n",
    "from IPython.display import Latex, HTML\n",
    "display(HTML(open('01.css').read()))\n",
    "\n",
    "def p(*l): return poly1d(l)\n",
    "\n",
    "def vw(M, Χ, L):\n",
    "    return sum(p(l)-p(0) for (m, χ, l) in zip(M, Χ, L) for p in ((m*χ).integ(),))\n",
    "\n",
    "def dmat(pre, mat, post, mattype='b', fmt='%+.6g'):\n",
    "    s = r'\\begin{align}' + pre + r'\\begin{%smatrix}'%mattype\n",
    "    s += r'\\\\'.join('&'.join(fmt%val for val in row) for row in mat)\n",
    "    s += r'\\end{%smatrix}'%mattype + post + r'\\end{align}'\n",
    "    return s\n",
    "\n",
    "def dl(ls): \n",
    "    display(Latex(ls))\n",
    "    return None"
   ]
  }
 ],
 "metadata": {
  "kernelspec": {
   "display_name": "Python 3",
   "language": "python",
   "name": "python3"
  },
  "language_info": {
   "codemirror_mode": {
    "name": "ipython",
    "version": 3
   },
   "file_extension": ".py",
   "mimetype": "text/x-python",
   "name": "python",
   "nbconvert_exporter": "python",
   "pygments_lexer": "ipython3",
   "version": "3.6.4"
  }
 },
 "nbformat": 4,
 "nbformat_minor": 2
}
