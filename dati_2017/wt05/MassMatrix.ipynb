{
 "cells": [
  {
   "cell_type": "markdown",
   "metadata": {},
   "source": [
    "# Mass Matrix\n",
    "\n",
    "<img src=\"figures/trab01_conv.svg\" alt=\"Dynamic System\" style=\"width:95%;\"/>"
   ]
  },
  {
   "cell_type": "markdown",
   "metadata": {},
   "source": [
    "The 2 DOF dynamical system in figure is composed of two massless rigid bodies and a massive one.\n",
    "\n",
    "Compute the mass matrix of the system with reference to the degrees of freedom indicated in figure, in the hypotesis of small displacements.\n",
    "\n",
    "## Solution\n",
    "\n",
    "We are going to use symbols for the relevant quantities."
   ]
  },
  {
   "cell_type": "code",
   "execution_count": 3,
   "metadata": {},
   "outputs": [],
   "source": [
    "m, L, x1, x2 = symbols('m L x_1 x_2')"
   ]
  },
  {
   "cell_type": "markdown",
   "metadata": {},
   "source": [
    "#### Contribution of $x_1$ to the displacements of the massive bar\n",
    "\n",
    "We constrain $x_2$ to zero (i.e., the roller becomes a hinge) and impose a unit displacement $x_1=1$.\n",
    "\n",
    "<img src=\"figures/trab02_conv.svg\" alt=\"Dynamic System\" style=\"width:95%;\"/>\n",
    "\n",
    "The Centre of Instantaneous Rotation (CIR) of the massive bar, at the intersection of the dashed lines in figure, coincides with the CIR of the left bar, hence the rotation of the two bars are the same.\n",
    "\n",
    "Because the two rotations are  $\\phi_1=1/2L$ the displacements of the centre of mass are $u_{G1} = -\\phi_1\\times L/2 = -1/4$ and $v_{G1} = +\\phi_1\\times L=1/2$."
   ]
  },
  {
   "cell_type": "code",
   "execution_count": 4,
   "metadata": {},
   "outputs": [],
   "source": [
    "ug1, vg1, 𝜙1 = -x1/4, +x1/2, +x1/(2*L)"
   ]
  },
  {
   "cell_type": "markdown",
   "metadata": {},
   "source": [
    "#### Contribution of $x_2$ to the displacements of the massive bar\n",
    "\n",
    "We constrain $x_1$ to zero (i.e., we introduce a roller) and impose a unit displacement $x_2=1$.\n",
    "\n",
    "<img src=\"figures/trab03_conv.svg\" alt=\"Dynamic System\" style=\"width:95%;\"/>\n",
    "\n",
    "The left beam can't move, hence the CIR of the massive bar is the top internal hinge.\n",
    "The CIR of the bottom hinge is at an infinite distance in the vertical direction (the bottom bar undergos a horizontal motion) and by continuity we have $\\phi_2=1/L$, $u_{G2}=-\\phi_2\\times(-L/2)=+1/2$ and $v_{G2}=0$."
   ]
  },
  {
   "cell_type": "code",
   "execution_count": 5,
   "metadata": {},
   "outputs": [],
   "source": [
    "ug2, vg2, 𝜙2 = +x2/2, 0, +x2/L"
   ]
  },
  {
   "cell_type": "markdown",
   "metadata": {},
   "source": [
    "#### Total Displacements and Velocities\n",
    "\n",
    "The total displacement components are the sum of the two cuntributions, the total rotation is the sum of the two contributions.\n",
    "\n",
    "The velocities are obtained differentiating w/r to time."
   ]
  },
  {
   "cell_type": "code",
   "execution_count": 6,
   "metadata": {},
   "outputs": [],
   "source": [
    "ug, vg, 𝜙 = ug1+ug2, vg1+vg2, 𝜙1+𝜙2\n",
    "dot_u, dot_v, ω = diff_t(ug), diff_t(vg), diff_t(𝜙)"
   ]
  },
  {
   "cell_type": "markdown",
   "metadata": {},
   "source": [
    "#### Kinetic Energy"
   ]
  },
  {
   "cell_type": "code",
   "execution_count": 8,
   "metadata": {},
   "outputs": [
    {
     "data": {
      "text/latex": [
       "$$T=\\frac{m x_{1}^{2}}{6} - \\frac{m x_{1}}{12} x_{2} + \\frac{m x_{2}^{2}}{6}.$$"
      ],
      "text/plain": [
       "<IPython.core.display.Latex object>"
      ]
     },
     "metadata": {},
     "output_type": "display_data"
    }
   ],
   "source": [
    "T = m * (dot_u**2 + dot_v**2 + ω**2*L**2/12) / 2\n",
    "display(Latex('$$T=' + latex(T.expand()) + '.$$'))"
   ]
  },
  {
   "cell_type": "markdown",
   "metadata": {},
   "source": [
    "#### Mass Matrix Coefficients\n",
    "\n",
    "The coefficient can be computed as \n",
    "\n",
    "$$m_{ij} = \\frac{\\partial^2 T}{\\partial x_i \\partial x_j}.$$"
   ]
  },
  {
   "cell_type": "code",
   "execution_count": 7,
   "metadata": {},
   "outputs": [
    {
     "data": {
      "text/latex": [
       "$$T=\\frac{m x_{1}^{2}}{6} - \\frac{m x_{1}}{12} x_{2} + \\frac{m x_{2}^{2}}{6}.$$"
      ],
      "text/plain": [
       "<IPython.core.display.Latex object>"
      ]
     },
     "metadata": {},
     "output_type": "display_data"
    },
    {
     "data": {
      "text/latex": [
       "$$m_{11}=\\frac{m}{3}.$$"
      ],
      "text/plain": [
       "<IPython.core.display.Latex object>"
      ]
     },
     "metadata": {},
     "output_type": "display_data"
    },
    {
     "data": {
      "text/latex": [
       "$$m_{12}=- \\frac{m}{12}.$$"
      ],
      "text/plain": [
       "<IPython.core.display.Latex object>"
      ]
     },
     "metadata": {},
     "output_type": "display_data"
    },
    {
     "data": {
      "text/latex": [
       "$$m_{21}=- \\frac{m}{12}.$$"
      ],
      "text/plain": [
       "<IPython.core.display.Latex object>"
      ]
     },
     "metadata": {},
     "output_type": "display_data"
    },
    {
     "data": {
      "text/latex": [
       "$$m_{22}=\\frac{m}{3}.$$"
      ],
      "text/plain": [
       "<IPython.core.display.Latex object>"
      ]
     },
     "metadata": {},
     "output_type": "display_data"
    }
   ],
   "source": [
    "for i, xi in enumerate((x1, x2), 1):\n",
    "    for j, xj in enumerate((x1, x2), 1):\n",
    "        display(Latex('$$m_{%d%d}='%(i,j)+latex(T.diff(xi,xj))+'.$$'))"
   ]
  },
  {
   "cell_type": "markdown",
   "metadata": {},
   "source": [
    "## Initialization"
   ]
  },
  {
   "cell_type": "code",
   "execution_count": 1,
   "metadata": {
    "init_cell": true
   },
   "outputs": [
    {
     "data": {
      "text/html": [
       "<style>\n",
       "\n",
       "@font-face {\n",
       "    font-family: 'Charis SIL';\n",
       "    src: url('fonts/CharisSILEur-R.woff') format('woff');\n",
       "}\n",
       "@font-face {\n",
       "    font-family: 'Architects Daughter';\n",
       "    font-style: normal;\n",
       "    src: url(https://fonts.gstatic.com/s/architectsdaughter/v6/RXTgOOQ9AAtaVOHxx0IUBM3t7GjCYufj5TXV5VnA2p8.woff2) format('woff2');\n",
       "    unicode-range: U+0000-00FF, U+0131, U+0152-0153, U+02C6, U+02DA, U+02DC, U+2000-206F, U+2074, U+20AC, U+2212, U+2215, U+E0FF, U+EFFD, U+F000;\n",
       "}\n",
       ".prompt{display: None;}\n",
       "div.cell{margin: auto;width:720px;}\n",
       "\n",
       "code{font-family: Consolas}\n",
       "\n",
       "div #notebook { /* centre the content */\n",
       "    background: #fdfffa;\n",
       "    margin: auto;\n",
       "    padding: 0em;\n",
       "    padding-top: 1em;\n",
       "}\n",
       "div #notebook_container {width: 700px!important;}\n",
       "#notebook li { /* More space between bullet points */\n",
       "    margin-top:0.2em;\n",
       "}\n",
       "\n",
       "div.text_cell_render{\n",
       "    font-family: \"Charis SIL\", Cambria,  serif;\n",
       "    line-height: 150%;\n",
       "    font-size: 140%;\n",
       "}\n",
       ".CodeMirror{\n",
       "    width: 700px!important;\n",
       "    font-family: Consolas,monospace;\n",
       "    font-size: 100%;\n",
       "    background-color:#fefffc!important;\n",
       "}\n",
       "\n",
       ".output_area {\n",
       "    font-family: Consolas,monospace;font-size: 100%;\n",
       "    background-color:#ffffff!important;\n",
       "    margin-top:0.8em;\n",
       "}\n",
       "\n",
       "div.output_latex{overflow:hidden}\n",
       "\n",
       "h1 {\n",
       "    font-family: 'Architects Daughter', serif;\n",
       "    font-size:   32pt!important;\n",
       "    text-align:  center;\n",
       "    text-shadow: 4px 4px 4px #aaa;\n",
       "    padding-bottom: 32pt;\n",
       "}\n",
       "\n",
       ".warning{color: rgb( 240, 20, 20 )}\n",
       "</style>\n"
      ],
      "text/plain": [
       "<IPython.core.display.HTML object>"
      ]
     },
     "metadata": {},
     "output_type": "display_data"
    }
   ],
   "source": [
    "from sympy import symbols, init_printing, latex\n",
    "init_printing(use_latex=1)\n",
    "\n",
    "from IPython.display import HTML, Latex\n",
    "display(HTML(open('01.css').read()))\n",
    "\n",
    "def diff_t(expr): return expr"
   ]
  }
 ],
 "metadata": {
  "kernelspec": {
   "display_name": "Python 3",
   "language": "python",
   "name": "python3"
  },
  "language_info": {
   "codemirror_mode": {
    "name": "ipython",
    "version": 3
   },
   "file_extension": ".py",
   "mimetype": "text/x-python",
   "name": "python",
   "nbconvert_exporter": "python",
   "pygments_lexer": "ipython3",
   "version": "3.6.4"
  }
 },
 "nbformat": 4,
 "nbformat_minor": 2
}
