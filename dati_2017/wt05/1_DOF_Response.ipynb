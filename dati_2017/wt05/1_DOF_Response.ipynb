{
 "cells": [
  {
   "cell_type": "markdown",
   "metadata": {},
   "source": [
    "# Single DoF Response"
   ]
  },
  {
   "cell_type": "code",
   "execution_count": 2,
   "metadata": {},
   "outputs": [
    {
     "name": "stdout",
     "output_type": "stream",
     "text": [
      "Max displacement ≈ 94.868 mm\n"
     ]
    }
   ],
   "source": [
    "from math import sqrt\n",
    "\n",
    "m = 20.0 # kg\n",
    "k = 800.0 # N/m\n",
    "p_max = 1200.0 # N\n",
    "Delta_t = 0.02 # s\n",
    "h = 0.01 # s\n",
    "\n",
    "w = sqrt(k/m) # rad/s\n",
    "\n",
    "# appproximated\n",
    "Delta_moment = p_max*Delta_t/2 # N \\times s = kg m / s\n",
    "\n",
    "initial_velocity = Delta_moment/m # m / s\n",
    "amplitude_of_motion = initial_velocity/w # m\n",
    "\n",
    "print('Max displacement ≈ %.3f mm' % (amplitude_of_motion*1000))\n"
   ]
  },
  {
   "cell_type": "markdown",
   "metadata": {},
   "source": [
    "## Linear Acceleration"
   ]
  },
  {
   "cell_type": "code",
   "execution_count": 3,
   "metadata": {},
   "outputs": [
    {
     "name": "stdout",
     "output_type": "stream",
     "text": [
      "x(t₂) ≈ 5.992 mm\n",
      "v(t₂) ≈ 598.402 mm/s\n",
      "x_{max} ≈ 94.805 mm\n"
     ]
    }
   ],
   "source": [
    "c = 0 # N / (m/s) — undamped system\n",
    "h = 0.01 # s\n",
    "κ = k + 3*c/h + 6*m/h**2\n",
    "\n",
    "x0 = 0.0\n",
    "v0 = 0.0\n",
    "p0 = 0.0\n",
    "p1 = 1200.0\n",
    "p2 = 0.0\n",
    "\n",
    "a0 = (p0 - k*x0 - c*v0) / m\n",
    "\n",
    "dp1 = (p1-p0) + c*(a0*h/2+3*v0) + m*(3*a0+6*v0/h)\n",
    "\n",
    "dx1 = dp1/κ\n",
    "dv1 = 3*dx1/h - 3*v0 - a0*h/2\n",
    "\n",
    "x1 = x0+dx1\n",
    "v1 = v0+dv1\n",
    "a1 = (p1 - k*x1 - c*v1) / m\n",
    "\n",
    "dp2 = (p2-p1) + c*(a1*h/2+3*v1) + m*(3*a1+6*v1/h)\n",
    "dx2 = dp2/κ\n",
    "dv2 = 3*dx2/h - 3*v1 - a1*h/2\n",
    "\n",
    "x2 = x1+dx2\n",
    "v2 = v1+dv2\n",
    "\n",
    "print(\"x(t₂) ≈ %.3f mm\"   % (x2*1000))\n",
    "print(\"v(t₂) ≈ %.3f mm/s\" % (v2*1000))\n",
    "print('x_{max} ≈ %.3f mm' % (sqrt(x2**2+v2**2/w**2)*1000))"
   ]
  },
  {
   "cell_type": "markdown",
   "metadata": {},
   "source": [
    "### Initialization"
   ]
  },
  {
   "cell_type": "code",
   "execution_count": 4,
   "metadata": {},
   "outputs": [
    {
     "data": {
      "text/html": [
       "<style>\n",
       "\n",
       "@font-face {\n",
       "    font-family: 'Charis SIL';\n",
       "    src: url('fonts/CharisSILEur-R.woff') format('woff');\n",
       "}\n",
       "@font-face {\n",
       "    font-family: 'Architects Daughter';\n",
       "    font-style: normal;\n",
       "    src: url(https://fonts.gstatic.com/s/architectsdaughter/v6/RXTgOOQ9AAtaVOHxx0IUBM3t7GjCYufj5TXV5VnA2p8.woff2) format('woff2');\n",
       "    unicode-range: U+0000-00FF, U+0131, U+0152-0153, U+02C6, U+02DA, U+02DC, U+2000-206F, U+2074, U+20AC, U+2212, U+2215, U+E0FF, U+EFFD, U+F000;\n",
       "}\n",
       ".prompt{display: None;}\n",
       "div.cell{margin: auto;width:720px;}\n",
       "\n",
       "code{font-family: Consolas}\n",
       "\n",
       "div #notebook { /* centre the content */\n",
       "    background: #fdfffa;\n",
       "    margin: auto;\n",
       "    padding: 0em;\n",
       "    padding-top: 1em;\n",
       "}\n",
       "div #notebook_container {width: 700px!important;}\n",
       "#notebook li { /* More space between bullet points */\n",
       "    margin-top:0.2em;\n",
       "}\n",
       "\n",
       "div.text_cell_render{\n",
       "    font-family: \"Charis SIL\", Cambria,  serif;\n",
       "    line-height: 150%;\n",
       "    font-size: 140%;\n",
       "}\n",
       ".CodeMirror{\n",
       "    width: 700px!important;\n",
       "    font-family: Consolas,monospace;\n",
       "    font-size: 100%;\n",
       "    background-color:#fefffc!important;\n",
       "}\n",
       "\n",
       ".output_area {\n",
       "    font-family: Consolas,monospace;font-size: 100%;\n",
       "    background-color:#ffffff!important;\n",
       "    margin-top:0.8em;\n",
       "}\n",
       "\n",
       "div.output_latex{overflow:hidden}\n",
       "\n",
       "h1 {\n",
       "    font-family: 'Architects Daughter', serif;\n",
       "    font-size:   32pt!important;\n",
       "    text-align:  center;\n",
       "    text-shadow: 4px 4px 4px #aaa;\n",
       "    padding-bottom: 32pt;\n",
       "}\n",
       "\n",
       ".warning{color: rgb( 240, 20, 20 )}\n",
       "</style>\n"
      ],
      "text/plain": [
       "<IPython.core.display.HTML object>"
      ]
     },
     "metadata": {},
     "output_type": "display_data"
    }
   ],
   "source": [
    "from IPython.display import HTML\n",
    "display(HTML(open('01.css').read()))"
   ]
  }
 ],
 "metadata": {
  "kernelspec": {
   "display_name": "Python 3",
   "language": "python",
   "name": "python3"
  },
  "language_info": {
   "codemirror_mode": {
    "name": "ipython",
    "version": 3
   },
   "file_extension": ".py",
   "mimetype": "text/x-python",
   "name": "python",
   "nbconvert_exporter": "python",
   "pygments_lexer": "ipython3",
   "version": "3.6.4"
  }
 },
 "nbformat": 4,
 "nbformat_minor": 2
}
