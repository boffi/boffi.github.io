{
 "cells": [
  {
   "cell_type": "markdown",
   "metadata": {},
   "source": [
    "#### prolegomena"
   ]
  },
  {
   "cell_type": "code",
   "execution_count": 1,
   "metadata": {},
   "outputs": [],
   "source": [
    "# --+----1----+----2----+----3----+----4----+----5----+----6----+----7----+----8\n",
    "%matplotlib inline\n",
    "# I need the time axis labels in italian,\n",
    "# it's usually better to do this at first\n",
    "from locale import setlocale, LC_TIME ; setlocale(LC_TIME, 'it_IT.utf8')\n",
    "\n",
    "from numpy import array\n",
    "# Astronomical computations will be done using ephem \n",
    "import ephem as x\n",
    "\n",
    "# Not every important city is included in ephem city database\n",
    "from ephem.cities import _city_data, city\n",
    "_city_data.update({\n",
    "    'Monza':('45.577721','9.300896',160.0),\n",
    "    'Cabiate':('45.679350','9.165230',255.0),\n",
    "    'Meda':('45.661400','9.155734',223.0),\n",
    "     })\n",
    "\n",
    "# We'll need to fiddle a bit with the labeling of the time axis\n",
    "from matplotlib.ticker import MultipleLocator\n",
    "from matplotlib.dates import MonthLocator, DateFormatter\n",
    "\n",
    "# The preferred format for inline plots, alternatives are 'png' and 'svg'\n",
    "%config InlineBackend.figure_format = 'png'\n",
    "\n",
    "# The time unit is a day, here we define day, hour, etc\n",
    "d, h, m, s = 1.0, 1.0/24, 1.0/24/60, 1.0/24/60/60"
   ]
  },
  {
   "cell_type": "markdown",
   "metadata": {},
   "source": [
    "# Moonlight\n",
    "\n",
    "### Initialization\n",
    "\n",
    "We need an observer, or better two observers, the second one will be used behind the scenes to do some\n",
    "computation."
   ]
  },
  {
   "cell_type": "code",
   "execution_count": 2,
   "metadata": {},
   "outputs": [],
   "source": [
    "my_city = 'Cabiate'\n",
    "me  = city(my_city)\n",
    "me2 = city(my_city)"
   ]
  },
  {
   "cell_type": "markdown",
   "metadata": {},
   "source": [
    "Finally, we need a moon."
   ]
  },
  {
   "cell_type": "code",
   "execution_count": 3,
   "metadata": {},
   "outputs": [],
   "source": [
    "moon = x.Moon()"
   ]
  },
  {
   "cell_type": "markdown",
   "metadata": {},
   "source": [
    "### \"Vertical\" velocity of the moon\n",
    "\n",
    "For a given date, i.e., moment in time, \n",
    "\n",
    "1. i compute the position of the moon in the sky of the observer (me2) a little before and a little later,\n",
    "2. i extract the height of the moon (moon.alt) in the sky of the observer in these two instants and\n",
    "3. i approximate the vertical velocity with the usual finite differences formula."
   ]
  },
  {
   "cell_type": "code",
   "execution_count": 4,
   "metadata": {},
   "outputs": [],
   "source": [
    "def velocity(date):\n",
    "    me2.date=date-0.1*s\n",
    "    moon.compute(me2) ; alt0 = moon.alt\n",
    "    me2.date=date+0.1*s\n",
    "    moon.compute(me2) ; alt1 = moon.alt\n",
    "    return alt1/0.2/s - alt0/0.2/s"
   ]
  },
  {
   "cell_type": "markdown",
   "metadata": {},
   "source": [
    "### Day-by-day maximum heigth of the moon\n",
    "\n",
    "Given that the maximum heigth is reached when the moon is close to transit, after a bit of initialization,\n",
    "\n",
    "1. the position of the moon is computed at the beginning of the day\n",
    "2. the transit time is extracted\n",
    "3. test if the moon transits during the day\n",
    "   1. bracketing the transit time, use the default solver to find the time for which the vertical velocity is zero,\n",
    "   2. save in a container the couple of values time, altitude of the moon (nb, the plotting routines expect that time is in a particular format, hence the `.datetime()` call)\n",
    "4. the date of the observer is incremented by one day (`me.date = me.date + d`),\n",
    "5. if the new date is in 2014 `break` otherwise repeat the cycle.\n",
    "\n",
    "The container (a Python `list`) is converted to an `array`, so that we can index it with a `[i,j]` notation."
   ]
  },
  {
   "cell_type": "code",
   "execution_count": 5,
   "metadata": {},
   "outputs": [
    {
     "name": "stderr",
     "output_type": "stream",
     "text": [
      "/home/boffi/lib/miniconda3/lib/python3.6/site-packages/ipykernel_launcher.py:7: DeprecationWarning: the ephem.Body attributes 'rise_time', 'rise_az', 'transit_time', 'transit_alt', 'set_time', 'set_az', 'circumpolar', and 'never_up' are deprecated; please convert your program to use the ephem.Observer functions next_rising(), previous_rising(), next_transit(), and so forth\n",
      "\n",
      "  import sys\n"
     ]
    }
   ],
   "source": [
    "me.date = \"2013/01/01 00:00:01\"\n",
    "next_year = x.date(\"2014/01/01 00:00:01\")\n",
    "container = []\n",
    "\n",
    "while 1:\n",
    "    moon.compute(me)\n",
    "    mtt = moon.transit_time\n",
    "    if mtt:\n",
    "        time = x.Date(x.newton(velocity,mtt-0.2*h,mtt+0.2*h))\n",
    "        container.append( (time.datetime(), 180*moon.alt/x.pi))\n",
    "    me.date = me.date + d\n",
    "    if me.date>next_year: break\n",
    "\n",
    "container=array(container)"
   ]
  },
  {
   "cell_type": "markdown",
   "metadata": {},
   "source": [
    "### The phases of the moon\n",
    "\n",
    "This is ad-hoc for 2013, because i know that the first phase is a last quarter, anyway... the dates of new, 1st q., full and last q. moons are stored in a list, together with an integer 0,..,3 denoting the phase. At the end, the list of moons is converted to an array."
   ]
  },
  {
   "cell_type": "code",
   "execution_count": 6,
   "metadata": {},
   "outputs": [],
   "source": [
    "date = x.Date('2013/01/01') ; moons = []\n",
    "\n",
    "while 1:\n",
    "    \n",
    "    date = x.next_last_quarter_moon(date)\n",
    "    if date>next_year: break\n",
    "    moons.append((date.datetime(),3))\n",
    "    \n",
    "    date = x.next_new_moon(date)\n",
    "    if date>next_year: break\n",
    "    moons.append((date.datetime(),0))\n",
    "    \n",
    "    date = x.next_first_quarter_moon(date)\n",
    "    if date>next_year: break\n",
    "    moons.append((date.datetime(),1))\n",
    "    \n",
    "    date = x.next_full_moon(date)\n",
    "    if date>next_year: break\n",
    "    moons.append((date.datetime(),2))\n",
    "\n",
    "moons = array(moons)"
   ]
  },
  {
   "cell_type": "markdown",
   "metadata": {},
   "source": [
    "We want to superimpose the envelope curve with different symbols for each phase of the moon.  For now"
   ]
  },
  {
   "cell_type": "code",
   "execution_count": 7,
   "metadata": {},
   "outputs": [],
   "source": [
    "i = 0 ; delendo = []\n",
    "\n",
    "for m in moons:\n",
    "    tm, phase = m\n",
    "    \n",
    "    while container[i,0]<tm:\n",
    "        i = i+1\n",
    "\n",
    "    t0, alt0 = container[i-1,:]; t0 = x.Date(t0)\n",
    "    t1, alt1 = container[ i ,:]; t1 = x.Date(t1)\n",
    "    altm = alt0 + (x.Date(tm)-t0)*(alt1-alt0)/(t1-t0)\n",
    "    delendo.append((tm,altm,phase))\n",
    "    \n",
    "moons = array(delendo) ; del delendo"
   ]
  },
  {
   "cell_type": "markdown",
   "metadata": {},
   "source": [
    "When applying a test on some elements of an array, we obtain an array of boolean values\n",
    "(i.e., true vs false) of the same length of the tested sequence."
   ]
  },
  {
   "cell_type": "code",
   "execution_count": 8,
   "metadata": {},
   "outputs": [],
   "source": [
    "new  = moons[:,2]    == 0\n",
    "full = moons[:,2]    == 2\n",
    "qrtr = moons[:,2] %2 == 1"
   ]
  },
  {
   "cell_type": "markdown",
   "metadata": {},
   "source": [
    "The important fact is that we can use these boolean arrays to index an array... e.g.,\n",
    "we print the `new` array and then we use it to print the first 3 new moons."
   ]
  },
  {
   "cell_type": "code",
   "execution_count": 10,
   "metadata": {},
   "outputs": [
    {
     "name": "stdout",
     "output_type": "stream",
     "text": [
      "[False  True False False False  True False False False  True False False\n",
      " False  True False False False  True False False False  True False False\n",
      " False  True False False False  True False False False  True False False\n",
      " False  True False False False  True False False False  True False False\n",
      " False]\n",
      "[[datetime.datetime(2013, 1, 11, 19, 43, 37, 595710) 26.13313877716511 0]\n",
      " [datetime.datetime(2013, 2, 10, 7, 20, 6, 621791) 34.04074874671431 0]\n",
      " [datetime.datetime(2013, 3, 11, 19, 51, 0, 142128) 44.140383345096815 0]]\n"
     ]
    }
   ],
   "source": [
    "print(new)\n",
    "print(moons[new][:3])"
   ]
  },
  {
   "cell_type": "markdown",
   "metadata": {},
   "source": [
    "## Plotting\n",
    "\n",
    "### Prepare the axis on which to plot\n",
    "\n",
    "- We want to plot 13 cycles of an  almost periodic function, it's better to have an\n",
    "  elongated x-axis.\n",
    "- The margins around the graph are by default a fixed ratio of the figure size and the\n",
    "  horizontal margins are hence too large, fix this.\n",
    "- The range of ordinates is ~ 20 to 65 degrees so limits on the y axis would be \n",
    "  too tight, so we specify a range 0-90 degrees and, while at it, we give a precise\n",
    "  range to the x axis.\n",
    "- By default, we have a label every two months, we want a label for every month and\n",
    "  the year in every label.\n",
    "- By defalt, no minor ticks... we want a minor tick for every day.\n",
    "\n",
    "Show our current results."
   ]
  },
  {
   "cell_type": "code",
   "execution_count": null,
   "metadata": {},
   "outputs": [],
   "source": [
    "from matplotlib.pyplot import figure, close\n",
    "f = figure(figsize=(10,2.5))\n",
    "ax = f.add_subplot(111)\n",
    "close()"
   ]
  },
  {
   "cell_type": "code",
   "execution_count": null,
   "metadata": {},
   "outputs": [],
   "source": [
    "# size of the figure in inches\n",
    "#figsize(10,2.5)\n",
    "\n",
    "# in this figure there is one x-y graph\n",
    "#subplot(111)\n",
    "\n",
    "# save the current figure and the current x-y graph\n",
    "#f = gcf() ; ax = gca() ; close()\n",
    "\n",
    "# the margins of the x-y are fractions of the figure,\n",
    "# having increased the figsize we narrow the margins\n",
    "f.subplots_adjust(left=0.06, right=0.96, bottom=0.08, top=0.92)\n",
    "\n",
    "# adjust the limits of the axes\n",
    "ax.axis(ymin=0, ymax=90,\n",
    "        xmin=x.Date(\"2013-01-01\").datetime(),\n",
    "        xmax=x.Date(\"2014/01/01\").datetime())\n",
    "\n",
    "ax.xaxis.set_minor_locator(MultipleLocator(1))\n",
    "ax.xaxis.set_major_locator(MonthLocator(bymonth=range(13)))\n",
    "ax.xaxis.set_major_formatter(DateFormatter(\"%b %Y\"))\n",
    "ax.set_axisbelow(True)\n",
    "ax.grid(c='#B0B0B0', linestyle='-', linewidth=0.1)\n",
    "\n",
    "show_all = True\n",
    "\n",
    "if show_all: f.show()"
   ]
  },
  {
   "cell_type": "markdown",
   "metadata": {},
   "source": [
    "### Enhancing the axis\n",
    "\n",
    "- The minor ticks on x are too large.\n",
    "- The x labels almost run one into the other, choose a smaller font and, while\n",
    "  we are at it, change also the size of the y labels.\n",
    "- I prefer y labels in vertical."
   ]
  },
  {
   "cell_type": "code",
   "execution_count": null,
   "metadata": {},
   "outputs": [],
   "source": [
    "ax.tick_params(axis='x', which='minor', length=4, width=0.2, color='#909090')\n",
    "[tik.set_size('xx-small') for tik in ax.get_xticklabels()]\n",
    "[tik.set_size('xx-small') for tik in ax.get_yticklabels()]\n",
    "[tik.set_rotation(90.0)   for tik in ax.get_yticklabels()]\n",
    "\n",
    "if show_all: f.show()"
   ]
  },
  {
   "cell_type": "markdown",
   "metadata": {},
   "source": [
    "### Titles for the x-y graph and the individual axes\n",
    "\n",
    "I feel no need for a specific label for the whole x-axis, month names are good enough\n",
    "to infere the meaning of the abscissae."
   ]
  },
  {
   "cell_type": "code",
   "execution_count": null,
   "metadata": {},
   "outputs": [],
   "source": [
    "# the title and a label for the ordinates\n",
    "ax.set_title(\n",
    "    'La Luna vista da %s (lat = %s, lon = %s, altezza = %5.1f mslm).'%\n",
    "    (me.name,x.degrees(me.lat),x.degrees(me.lon), me.elevation),\n",
    "    size='small')\n",
    "ax.set_ylabel('Inviluppo dell\\'altezza lunare, in gradi', size='x-small')\n",
    "\n",
    "if show_all: f.show()"
   ]
  },
  {
   "cell_type": "markdown",
   "metadata": {},
   "source": [
    "### Plot the envelope of the moon altitude over the horizon\n",
    "\n",
    "We have a function that is defined only in a discrete set of points and we plot it as a continuous function with a very light color, then we superimpose small black dots in the position where we have found a local maximum. "
   ]
  },
  {
   "cell_type": "code",
   "execution_count": null,
   "metadata": {},
   "outputs": [],
   "source": [
    "# plot the envelope of moon altitudes two times, first with a continuous line\n",
    "# & later with the smallest of the available dot typess\n",
    "ax.plot(container[:,0],container[:,1],'-',color='lightgray', linewidth=0.3)\n",
    "ax.plot(container[:,0],container[:,1],',',color=\"black\")\n",
    "\n",
    "if show_all: f.show()"
   ]
  },
  {
   "cell_type": "markdown",
   "metadata": {},
   "source": [
    "### Plot the New Moons, etc\n",
    "\n",
    "First i plot differently colored circles, with a slight transparency so that \n",
    "the underlying envelope curve is still visible and later i superimpose in the center of\n",
    "each circle a small black dot to help the eye to exactly position each moon."
   ]
  },
  {
   "cell_type": "code",
   "execution_count": null,
   "metadata": {},
   "outputs": [],
   "source": [
    "# plot the postion of a) new moons, b) full moons and c) both first quarter and last quarter\n",
    "# of the moon\n",
    "\n",
    "# first time, with circles of different colors\n",
    "ax.plot(moons[new, 0],moons[new, 1],'o',markersize=5, color='#202090',   alpha=0.75)\n",
    "ax.plot(moons[full,0],moons[full,1],'o',markersize=5, color=\"#ffff00\",   alpha=0.75)\n",
    "ax.plot(moons[qrtr,0],moons[qrtr,1],'o',markersize=5, color=\"lightgray\", alpha=0.75)\n",
    "\n",
    "# second time, with small black dots\n",
    "ax.plot(moons[:,0],moons[:,1],'.k',markersize=2)\n",
    "\n",
    "if show_all: f.show()"
   ]
  },
  {
   "cell_type": "markdown",
   "metadata": {},
   "source": [
    "#### What's up with these random circles?\n",
    "\n",
    "I know that the small circles represent the approximate maximum altitude of the moon when\n",
    "the moon enters a new phase and i think this is almost evident, but an annotation is easy to place."
   ]
  },
  {
   "cell_type": "code",
   "execution_count": null,
   "metadata": {},
   "outputs": [],
   "source": [
    "xpos = x.Date('2013/07/1').datetime()\n",
    "\n",
    "ax.annotate('''I cerchi sul grafico indicano la posizione delle lune piene (cerchi gialli),\n",
    "delle lune nuove (cerchi blu) e dei quarti di luna (cerchi grigi).''', (xpos,12),\n",
    "    size='x-small', ha='center', va='center',\n",
    "    bbox=dict(boxstyle=\"round,pad=0.5\",fc='white',ec='lightgray'))\n",
    "\n",
    "if show_all: f.show()"
   ]
  },
  {
   "cell_type": "markdown",
   "metadata": {},
   "source": [
    "#### A gratuitous comment...\n",
    "\n",
    "It's in Italian, means that these two full moons are very high in the sky and,\n",
    "consequently, we will have a sort of _\"white nights\"_ in the 3 days atound the full\n",
    "moon date."
   ]
  },
  {
   "cell_type": "code",
   "execution_count": null,
   "metadata": {},
   "outputs": [],
   "source": [
    "ax.annotate('',(moons[-2,0],moons[-2,1]), xytext=(10./12.,0.85), textcoords='axes fraction', ha='right',\n",
    "    arrowprops=dict(width=0.1,headwidth=4.0,shrink=0.15,color='gray'))\n",
    "ax.annotate(u'''Le due ultime lune piene di autunno saliranno molto alte nel\n",
    "cielo e le tre notti della luna piena saranno molto luminose.''',\n",
    "    (moons[-6,0],moons[-6,1]), xytext=(10./12.,0.85), textcoords='axes fraction', ha='right',\n",
    "    name='sans', size='xx-small', color='#404090',\n",
    "    arrowprops=dict(width=0.1,headwidth=4.0,shrink=0.25,color='gray',),\n",
    "    bbox={\"boxstyle\":\"round,pad=0.5\",\"fc\":\"#feffff\",\"alpha\":0.9,'ec':'#b0b0ff'})\n",
    "\n",
    "f.show()"
   ]
  },
  {
   "cell_type": "markdown",
   "metadata": {},
   "source": [
    "### This fine plot deserves to be saved\n",
    "\n",
    "And it's just a single line of code!"
   ]
  },
  {
   "cell_type": "code",
   "execution_count": null,
   "metadata": {},
   "outputs": [],
   "source": [
    "f.savefig('Moon_at_%s.pdf'%(me.name,))"
   ]
  }
 ],
 "metadata": {
  "kernelspec": {
   "display_name": "Python 3",
   "language": "python",
   "name": "python3"
  },
  "language_info": {
   "codemirror_mode": {
    "name": "ipython",
    "version": 3
   },
   "file_extension": ".py",
   "mimetype": "text/x-python",
   "name": "python",
   "nbconvert_exporter": "python",
   "pygments_lexer": "ipython3",
   "version": "3.6.5"
  }
 },
 "nbformat": 4,
 "nbformat_minor": 2
}
