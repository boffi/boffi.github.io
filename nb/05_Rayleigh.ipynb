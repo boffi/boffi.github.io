{
 "metadata": {
  "name": "05_Rayleigh"
 },
 "nbformat": 3,
 "nbformat_minor": 0,
 "worksheets": [
  {
   "cells": [
    {
     "cell_type": "markdown",
     "metadata": {},
     "source": [
      "Here we import everything from `sympy`, load the ability to pretty-print all sympy expressions\n",
      "and also the ability to display external images and LaTeX expressions."
     ]
    },
    {
     "cell_type": "code",
     "collapsed": true,
     "input": [
      "from sympy import *\n",
      "%load_ext sympyprinting\n",
      "from IPython.core.display import Image, Math"
     ],
     "language": "python",
     "metadata": {},
     "outputs": [],
     "prompt_number": 1
    },
    {
     "cell_type": "markdown",
     "metadata": {},
     "source": [
      "# Rayleigh approximations"
     ]
    },
    {
     "cell_type": "code",
     "collapsed": false,
     "input": [
      "Image(filename='figures/model.png')"
     ],
     "language": "python",
     "metadata": {},
     "outputs": [
      {
       "output_type": "pyout",
       "png": "[encoded data removed]",
       "prompt_number": 2,
       "text": [
        "<IPython.core.display.Image object at 0x430a5d0>"
       ]
      }
     ],
     "prompt_number": 2
    },
    {
     "cell_type": "markdown",
     "metadata": {},
     "source": [
      "We need the relative rotation across each one of the 5 hinges in the top part of the figure, so we introduce two fictitious bar so that we can compute the relative rotation as the difference of the rotations of the adjacent bars for all the hinges.  Having introduced the two fictitious bar, to compute their rotations we have to take into account four additional degrees of freedom, as you can see in the bottom part of the figure.\n",
      "\n",
      "We start defining the symbols that we will use"
     ]
    },
    {
     "cell_type": "code",
     "collapsed": false,
     "input": [
      "xm, x0, x1, x2, x3, x4, x5 = symbols('x_-1 x_0 x_1 x_2 x_3 x_4 x_5')\n",
      "K, k, L , m, W, w, Zo, phi, theta = symbols('K k L m Omega omega Z_0 phi theta')"
     ],
     "language": "python",
     "metadata": {},
     "outputs": [],
     "prompt_number": 3
    },
    {
     "cell_type": "markdown",
     "metadata": {},
     "source": [
      "We define a vector of displacements"
     ]
    },
    {
     "cell_type": "code",
     "collapsed": false,
     "input": [
      "disp = (xm, x0, x1, x2, x3, x4, x5)\n",
      "display(disp)"
     ],
     "language": "python",
     "metadata": {},
     "outputs": [
      {
       "latex": [
        "$$\\begin{pmatrix}x_{-1}, & x_{0}, & x_{1}, & x_{2}, & x_{3}, & x_{4}, & x_{5}\\end{pmatrix}$$"
       ],
       "output_type": "display_data",
       "text": [
        "(x\u208b\u2081, x\u2080, x\u2081, x\u2082, x\u2083, x\u2084, x\u2085)"
       ]
      }
     ],
     "prompt_number": 4
    },
    {
     "cell_type": "markdown",
     "metadata": {},
     "source": [
      "We define a function that takes the difference between two adjacent menbers of a sequence and optionally scales the difference by a factor, note that if the original sequence lenght is $N$, the sequence of differences that's returned by our function has lenght $N-1$."
     ]
    },
    {
     "cell_type": "code",
     "collapsed": false,
     "input": [
      "def differences(seq, factor=1):\n",
      "    return [(b-a)*factor for a, b in zip(seq[:-1],seq[1:])]"
     ],
     "language": "python",
     "metadata": {},
     "outputs": [],
     "prompt_number": 5
    },
    {
     "cell_type": "markdown",
     "metadata": {},
     "source": [
      "Now we use our `differences` to compute first the rotation of each of the six bars (the scaling factor being $\\displaystyle\\frac1L$) and later the relative rotations across each of the five hinges"
     ]
    },
    {
     "cell_type": "code",
     "collapsed": false,
     "input": [
      "rot = differences(disp, factor=1/L)\n",
      "print \"The rotations of the rods\"\n",
      "display(Math(r',\\quad'.join([r'\\phi_{%d} = %s'%(i+0,latex(r.simplify())) for i, r in enumerate(rot[:3])])+','))\n",
      "display(Math(r',\\quad'.join([r'\\phi_{%d} = %s'%(i+3,latex(r.simplify())) for i, r in enumerate(rot[3:])])+'.'))\n",
      "\n",
      "rrot = differences(rot)\n",
      "print \"\\nThe relative rotations across the hinges:\"\n",
      "display(Math(r',\\quad'.join([r'\\theta_{%d} = %s'%(i+0,latex(r.simplify())) for i, r in enumerate(rrot[:3])])+','))\n",
      "display(Math(r',\\quad'.join([r'\\theta_{%d} = %s'%(i+3,latex(r.simplify())) for i, r in enumerate(rrot[3:])])+'.'))\n",
      "#dummy = [display(Math(r\"\\theta_%d = {%s}\"%(i,latex(r.simplify())))) for i, r in enumerate(rrot)]"
     ],
     "language": "python",
     "metadata": {},
     "outputs": [
      {
       "output_type": "stream",
       "stream": "stdout",
       "text": [
        "The rotations of the rods\n"
       ]
      },
      {
       "latex": [
        "$$\\phi_{0} = \\frac{- x_{-1} + x_{0}}{L},\\quad\\phi_{1} = \\frac{- x_{0} + x_{1}}{L},\\quad\\phi_{2} = \\frac{- x_{1} + x_{2}}{L},$$"
       ],
       "output_type": "display_data",
       "text": [
        "<IPython.core.display.Math object at 0x4a7b690>"
       ]
      },
      {
       "latex": [
        "$$\\phi_{3} = \\frac{- x_{2} + x_{3}}{L},\\quad\\phi_{4} = \\frac{- x_{3} + x_{4}}{L},\\quad\\phi_{5} = \\frac{- x_{4} + x_{5}}{L}.$$"
       ],
       "output_type": "display_data",
       "text": [
        "<IPython.core.display.Math object at 0x4a06790>"
       ]
      },
      {
       "output_type": "stream",
       "stream": "stdout",
       "text": [
        "\n",
        "The relative rotations across the hinges:\n"
       ]
      },
      {
       "latex": [
        "$$\\theta_{0} = \\frac{x_{-1} - 2 x_{0} + x_{1}}{L},\\quad\\theta_{1} = \\frac{x_{0} - 2 x_{1} + x_{2}}{L},\\quad\\theta_{2} = \\frac{x_{1} - 2 x_{2} + x_{3}}{L},$$"
       ],
       "output_type": "display_data",
       "text": [
        "<IPython.core.display.Math object at 0x4e1e7d0>"
       ]
      },
      {
       "latex": [
        "$$\\theta_{3} = \\frac{x_{2} - 2 x_{3} + x_{4}}{L},\\quad\\theta_{4} = \\frac{x_{3} - 2 x_{4} + x_{5}}{L}.$$"
       ],
       "output_type": "display_data",
       "text": [
        "<IPython.core.display.Math object at 0x4a06790>"
       ]
      }
     ],
     "prompt_number": 36
    },
    {
     "cell_type": "markdown",
     "metadata": {},
     "source": [
      "Now, for each element of `rrot`, we substitute `0` for each of the fictitious displacements, to obtain the relative rotations across the springs in terms of the 3 free coordinates of our problem."
     ]
    },
    {
     "cell_type": "code",
     "collapsed": false,
     "input": [
      "rrot = [rr.subs({xm:0,x0:0,x4:0,x5:0}) for rr in rrot]\n",
      "print \"The relative rotations across the hinges after substitution of 0 for fictitious degrees of freedom:\"\n",
      "display(Math(r',\\quad'.join([r'\\theta_{%d} = %s'%(i,latex(r.simplify())) for i, r in enumerate(rrot)])+'.'))\n"
     ],
     "language": "python",
     "metadata": {},
     "outputs": [
      {
       "output_type": "stream",
       "stream": "stdout",
       "text": [
        "The relative rotations across the hinges after substitution of 0 for fictitious degrees of freedom:\n"
       ]
      },
      {
       "latex": [
        "$$\\theta_{0} = \\frac{x_{1}}{L},\\quad\\theta_{1} = \\frac{- 2 x_{1} + x_{2}}{L},\\quad\\theta_{2} = \\frac{x_{1} - 2 x_{2} + x_{3}}{L},\\quad\\theta_{3} = \\frac{x_{2} - 2 x_{3}}{L},\\quad\\theta_{4} = \\frac{x_{3}}{L}.$$"
       ],
       "output_type": "display_data",
       "text": [
        "<IPython.core.display.Math object at 0x4a7b1d0>"
       ]
      }
     ],
     "prompt_number": 28
    },
    {
     "cell_type": "markdown",
     "metadata": {},
     "source": [
      "Next, we can compute the (double of the) strain energy in terms of the free coordinates (note that I substituted `k` for `K/L**2`, just to have the expression for $\\omega^2$ look more familiar...)"
     ]
    },
    {
     "cell_type": "code",
     "collapsed": false,
     "input": [
      "V2 = sum([stif*rr**2 for stif, rr in zip((2*K, K, K, K, 2*K), rrot)]).expand()\n",
      "V2 = V2.subs(K,k*L*L)\n",
      "display(V2)"
     ],
     "language": "python",
     "metadata": {},
     "outputs": [
      {
       "latex": [
        "$$7 k x_{1}^{2} - 8 k x_{1} x_{2} + 2 k x_{1} x_{3} + 6 k x_{2}^{2} - 8 k x_{2} x_{3} + 7 k x_{3}^{2}$$"
       ],
       "output_type": "display_data",
       "png": "[encoded data removed]",
       "text": [
        "\n",
        "      2                                 2                     2\n",
        "7\u22c5k\u22c5x\u2081  - 8\u22c5k\u22c5x\u2081\u22c5x\u2082 + 2\u22c5k\u22c5x\u2081\u22c5x\u2083 + 6\u22c5k\u22c5x\u2082  - 8\u22c5k\u22c5x\u2082\u22c5x\u2083 + 7\u22c5k\u22c5x\u2083 "
       ]
      }
     ],
     "prompt_number": 8
    },
    {
     "cell_type": "markdown",
     "metadata": {},
     "source": [
      "Here we define the stiffness and the mass matrix"
     ]
    },
    {
     "cell_type": "code",
     "collapsed": false,
     "input": [
      "k_mat=k*Matrix(((7, -4, 1), (-4, 6, -4), (1, -4, 7)))\n",
      "m_mat = m*Matrix(((1,0,0),(0,1,0),(0,0,1)))\n",
      "display(k_mat) ; display(m_mat)"
     ],
     "language": "python",
     "metadata": {},
     "outputs": [
      {
       "latex": [
        "$$\\left(\\begin{smallmatrix}7 k & - 4 k & k\\\\- 4 k & 6 k & - 4 k\\\\k & - 4 k & 7 k\\end{smallmatrix}\\right)$$"
       ],
       "output_type": "display_data",
       "text": [
        "\n",
        "\u23a17\u22c5k   -4\u22c5k   k  \u23a4\n",
        "\u23a2                \u23a5\n",
        "\u23a2-4\u22c5k  6\u22c5k   -4\u22c5k\u23a5\n",
        "\u23a2                \u23a5\n",
        "\u23a3 k    -4\u22c5k  7\u22c5k \u23a6"
       ]
      },
      {
       "latex": [
        "$$\\left(\\begin{smallmatrix}m & 0 & 0\\\\0 & m & 0\\\\0 & 0 & m\\end{smallmatrix}\\right)$$"
       ],
       "output_type": "display_data",
       "text": [
        "\n",
        "\u23a1m  0  0\u23a4\n",
        "\u23a2       \u23a5\n",
        "\u23a20  m  0\u23a5\n",
        "\u23a2       \u23a5\n",
        "\u23a30  0  m\u23a6"
       ]
      }
     ],
     "prompt_number": 9
    },
    {
     "cell_type": "markdown",
     "metadata": {},
     "source": [
      "In the following we will use many times the duoble matrix multiplication, so we define a shorthand function."
     ]
    },
    {
     "cell_type": "code",
     "collapsed": false,
     "input": [
      "def dmp(M,v):\n",
      "    return (v.transpose()*M*v)[0]"
     ],
     "language": "python",
     "metadata": {},
     "outputs": [],
     "prompt_number": 10
    },
    {
     "cell_type": "markdown",
     "metadata": {},
     "source": [
      "Our first use of `dmp` is for verifying the correctness of the stiffness matrix"
     ]
    },
    {
     "cell_type": "code",
     "collapsed": false,
     "input": [
      "V2test = dmp(k_mat,Matrix((x1,x2,x3))).expand()\n",
      "display(V2test)"
     ],
     "language": "python",
     "metadata": {},
     "outputs": [
      {
       "latex": [
        "$$7 k x_{1}^{2} - 8 k x_{1} x_{2} + 2 k x_{1} x_{3} + 6 k x_{2}^{2} - 8 k x_{2} x_{3} + 7 k x_{3}^{2}$$"
       ],
       "output_type": "display_data",
       "png": "[encoded data removed]",
       "text": [
        "\n",
        "      2                                 2                     2\n",
        "7\u22c5k\u22c5x\u2081  - 8\u22c5k\u22c5x\u2081\u22c5x\u2082 + 2\u22c5k\u22c5x\u2081\u22c5x\u2083 + 6\u22c5k\u22c5x\u2082  - 8\u22c5k\u22c5x\u2082\u22c5x\u2083 + 7\u22c5k\u22c5x\u2083 "
       ]
      }
     ],
     "prompt_number": 11
    },
    {
     "cell_type": "markdown",
     "metadata": {},
     "source": [
      "Having verified the correctness of the stiffness matrix, we define a vector of maximum displacements and a vector of maximum velocities in terms of the unknown $\\omega$."
     ]
    },
    {
     "cell_type": "code",
     "collapsed": false,
     "input": [
      "d_max = Matrix((1,1,1))*Zo\n",
      "v_max = w*d_max\n",
      "display(d_max)\n",
      "display(v_max)"
     ],
     "language": "python",
     "metadata": {},
     "outputs": [
      {
       "latex": [
        "$$\\left(\\begin{smallmatrix}Z_{0}\\\\Z_{0}\\\\Z_{0}\\end{smallmatrix}\\right)$$"
       ],
       "output_type": "display_data",
       "text": [
        "\n",
        "\u23a1Z\u2080\u23a4\n",
        "\u23a2  \u23a5\n",
        "\u23a2Z\u2080\u23a5\n",
        "\u23a2  \u23a5\n",
        "\u23a3Z\u2080\u23a6"
       ]
      },
      {
       "latex": [
        "$$\\left(\\begin{smallmatrix}Z_{0} \\omega\\\\Z_{0} \\omega\\\\Z_{0} \\omega\\end{smallmatrix}\\right)$$"
       ],
       "output_type": "display_data",
       "text": [
        "\n",
        "\u23a1Z\u2080\u22c5\u03c9\u23a4\n",
        "\u23a2    \u23a5\n",
        "\u23a2Z\u2080\u22c5\u03c9\u23a5\n",
        "\u23a2    \u23a5\n",
        "\u23a3Z\u2080\u22c5\u03c9\u23a6"
       ]
      }
     ],
     "prompt_number": 12
    },
    {
     "cell_type": "markdown",
     "metadata": {},
     "source": [
      "The (double of the) strain and kinetic energies are now computed, using `dmp`."
     ]
    },
    {
     "cell_type": "code",
     "collapsed": false,
     "input": [
      "V2 = dmp(k_mat,d_max)\n",
      "T2 = dmp(m_mat,v_max)\n",
      "display(Eq(V2, T2))"
     ],
     "language": "python",
     "metadata": {},
     "outputs": [
      {
       "latex": [
        "$$6 Z_{0}^{2} k = 3 Z_{0}^{2} m \\omega^{2}$$"
       ],
       "output_type": "display_data",
       "png": "[encoded data removed]",
       "text": [
        "\n",
        "    2         2    2\n",
        "6\u22c5Z\u2080 \u22c5k = 3\u22c5Z\u2080 \u22c5m\u22c5\u03c9 "
       ]
      }
     ],
     "prompt_number": 13
    },
    {
     "cell_type": "markdown",
     "metadata": {},
     "source": [
      "To solve correctly the equation above we have to make the substitution $\\omega^2 = \\Omega$, so that\n",
      "the solver is not confused by the unknown being squared"
     ]
    },
    {
     "cell_type": "code",
     "collapsed": false,
     "input": [
      "R00 = solve(Eq(V2,T2.subs(w,sqrt(W))),W)[0]\n",
      "display(Eq(w*w, R00))"
     ],
     "language": "python",
     "metadata": {},
     "outputs": [
      {
       "latex": [
        "$$\\omega^{2} = 2 \\frac{k}{m}$$"
       ],
       "output_type": "display_data",
       "png": "[encoded data removed]",
       "text": [
        "\n",
        " 2   2\u22c5k\n",
        "\u03c9  = \u2500\u2500\u2500\n",
        "      m "
       ]
      }
     ],
     "prompt_number": 14
    },
    {
     "cell_type": "markdown",
     "metadata": {},
     "source": [
      "We compute the maximum values of the forces of inertia multiplying by `W`${}=\\Omega=\\omega^2$, then a better approximation of the strain energy , that equated to the previuous value of the kinetic energy gives the new approximation to $\\omega^2$."
     ]
    },
    {
     "cell_type": "code",
     "collapsed": false,
     "input": [
      "f_in = -W*m_mat*d_max\n",
      "V2 = dmp(k_mat.inv(),f_in)\n",
      "R01 = solve(Eq(V2,T2.subs(w,sqrt(W))),W)[0]\n",
      "display(Eq(w*w, R01))"
     ],
     "language": "python",
     "metadata": {},
     "outputs": [
      {
       "latex": [
        "$$\\omega^{2} = \\frac{4}{3} \\frac{k}{m}$$"
       ],
       "output_type": "display_data",
       "png": "[encoded data removed]",
       "text": [
        "\n",
        " 2   4\u22c5k\n",
        "\u03c9  = \u2500\u2500\u2500\n",
        "     3\u22c5m"
       ]
      }
     ],
     "prompt_number": 15
    },
    {
     "cell_type": "markdown",
     "metadata": {},
     "source": [
      "Computing a better approximation of the kinetic energy gives the third approximation,"
     ]
    },
    {
     "cell_type": "code",
     "collapsed": false,
     "input": [
      "v_max = -w*k_mat.inv()*f_in\n",
      "T2 = dmp(m_mat,v_max)\n",
      "R11 = solve(Eq(V2,T2.subs(w,sqrt(W))),W)[0]\n",
      "display(Eq(w*w, R11))"
     ],
     "language": "python",
     "metadata": {},
     "outputs": [
      {
       "latex": [
        "$$\\omega^{2} = \\frac{24}{19} \\frac{k}{m}$$"
       ],
       "output_type": "display_data",
       "png": "[encoded data removed]",
       "text": [
        "\n",
        " 2   24\u22c5k\n",
        "\u03c9  = \u2500\u2500\u2500\u2500\n",
        "     19\u22c5m"
       ]
      }
     ],
     "prompt_number": 16
    },
    {
     "cell_type": "markdown",
     "metadata": {},
     "source": [
      "Finally, the numerical values"
     ]
    },
    {
     "cell_type": "code",
     "collapsed": false,
     "input": [
      "display([R.evalf() for R in (R00,R01,R11)])"
     ],
     "language": "python",
     "metadata": {},
     "outputs": [
      {
       "latex": [
        "$$\\begin{bmatrix}2.0 \\frac{k}{m}, & 1.33333333333333 \\frac{k}{m}, & 1.26315789473684 \\frac{k}{m}\\end{bmatrix}$$"
       ],
       "output_type": "display_data",
       "text": [
        "[\n",
        "2.0\u22c5k\n",
        "\u2500\u2500\u2500\u2500\u2500\n",
        "  m  ,\n",
        " \n",
        "1.33333333333333\u22c5k\n",
        "\u2500\u2500\u2500\u2500\u2500\u2500\u2500\u2500\u2500\u2500\u2500\u2500\u2500\u2500\u2500\u2500\u2500\u2500\n",
        "        m         ,\n",
        " \n",
        "1.26315789473684\u22c5k\n",
        "\u2500\u2500\u2500\u2500\u2500\u2500\u2500\u2500\u2500\u2500\u2500\u2500\u2500\u2500\u2500\u2500\u2500\u2500\n",
        "        m         ]"
       ]
      }
     ],
     "prompt_number": 17
    }
   ],
   "metadata": {}
  }
 ]
}