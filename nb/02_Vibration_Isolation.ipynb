{
 "metadata": {
  "name": "02_Vibration_Isolation"
 },
 "nbformat": 3,
 "nbformat_minor": 0,
 "worksheets": [
  {
   "cells": [
    {
     "cell_type": "markdown",
     "metadata": {},
     "source": [
      "Later we will need to find the root of a non-linear equation, so we import the function `bisect` from the library `scipy.optimize`."
     ]
    },
    {
     "cell_type": "code",
     "collapsed": false,
     "input": [
      "from scipy.optimize import bisect"
     ],
     "language": "python",
     "metadata": {},
     "outputs": [],
     "prompt_number": 1
    },
    {
     "cell_type": "markdown",
     "metadata": {},
     "source": [
      "# Vibration Isolation\n",
      "\n",
      "The transmissibility ratio `TR` for a single degree of freedom system is a function of\n",
      "$\\beta$, frequency ratio  and $\\zeta$, damping ratio (here denoted by `b` and `z`)."
     ]
    },
    {
     "cell_type": "code",
     "collapsed": false,
     "input": [
      "def TR(b,z):\n",
      "    return sqrt(1+4*b*b*z*z)/sqrt((1-b*b)**2+4*b*b*z*z)"
     ],
     "language": "python",
     "metadata": {},
     "outputs": [],
     "prompt_number": 2
    },
    {
     "cell_type": "markdown",
     "metadata": {},
     "source": [
      "The data of the problem is input in the next cell, the requested value of the TR is computed here too.\n",
      "\n",
      "Note that in the following we make reference to a first stage `0` where $\\zeta_0=0$ and\n",
      "a second stage `1` where $\\zeta_1=5\\%$."
     ]
    },
    {
     "cell_type": "code",
     "collapsed": false,
     "input": [
      "m_0    = 4200.00\n",
      "f_orig = 3600.00\n",
      "freq   = 15.00\n",
      "f_tran = 400.00\n",
      "\n",
      "tr_req = f_tran/f_orig\n",
      "\n",
      "z_0 = 0.00\n",
      "c_0 = 0.00\n",
      "z_1 = 0.05"
     ],
     "language": "python",
     "metadata": {},
     "outputs": [],
     "prompt_number": 3
    },
    {
     "cell_type": "markdown",
     "metadata": {},
     "source": [
      "The value of the frequency ratio in stage 0 can be computed using bisect. Note that `bisect`\n",
      "find the zero of a function in an interval where the function changes its sign."
     ]
    },
    {
     "cell_type": "code",
     "collapsed": false,
     "input": [
      "beta_0 = bisect(lambda x: TR(x,z_0) - tr_req, 1.5, 100)"
     ],
     "language": "python",
     "metadata": {},
     "outputs": [],
     "prompt_number": 4
    },
    {
     "cell_type": "markdown",
     "metadata": {},
     "source": [
      "In the cell above, `lambda x: TR(x, z_0) - tr_req` defines on the fly a function of one parameter\n",
      "(here `x`) that returns the value of the difference of the TR, computed for `z=z_0`,\n",
      "and the target level of the TR.\n",
      "\n",
      "Having $\\beta$, we can compute $k$ at stage 0, `k_0`.\n",
      "From $k  = m \\omega_n^2$ and $\\omega_n = \\omega/\\beta$ we can write"
     ]
    },
    {
     "cell_type": "code",
     "collapsed": false,
     "input": [
      "k_0 = m_0 * (2*pi*freq/beta_0)**2"
     ],
     "language": "python",
     "metadata": {},
     "outputs": [],
     "prompt_number": 5
    },
    {
     "cell_type": "markdown",
     "metadata": {},
     "source": [
      "In the second stage, we have $\\zeta=5\\%=\\zeta_1$, so we can immediately compute $\\beta_1$:"
     ]
    },
    {
     "cell_type": "code",
     "collapsed": false,
     "input": [
      "beta_1 = bisect(lambda x: TR(x,z_1)-tr_req, 1.5,100)"
     ],
     "language": "python",
     "metadata": {},
     "outputs": [],
     "prompt_number": 6
    },
    {
     "cell_type": "markdown",
     "metadata": {},
     "source": [
      "As requested, the stiffness must be the same as in the first stage, so we must change the mass,\n",
      "introducing some ballast.  The new value of the mass must be computed as follows:"
     ]
    },
    {
     "cell_type": "code",
     "collapsed": false,
     "input": [
      "k_1 = k_0\n",
      "m_1 = k_1 / (2*pi*freq/beta_1)**2"
     ],
     "language": "python",
     "metadata": {},
     "outputs": [],
     "prompt_number": 7
    },
    {
     "cell_type": "markdown",
     "metadata": {},
     "source": [
      "Having the new values of $k$ and $m$ we can compute $c$"
     ]
    },
    {
     "cell_type": "code",
     "collapsed": false,
     "input": [
      "c_1 = 2 * 0.05 * sqrt(m_1*k_1)"
     ],
     "language": "python",
     "metadata": {},
     "outputs": [],
     "prompt_number": 8
    },
    {
     "cell_type": "markdown",
     "metadata": {},
     "source": [
      "Finally we print our results"
     ]
    },
    {
     "cell_type": "code",
     "collapsed": false,
     "input": [
      "print \"                     damping  stiffness\"\n",
      "print \" Stage    mass kg      N\u00d7s/m       kN/m       beta       1/TR\"\n",
      "print \"------   --------   --------   --------   --------   --------\"\n",
      "fmt = \"   %d      %7.2f    %7.1f    %7.2f    %7.5f    %7.5f\"\n",
      "print fmt % ( 1, m_0, c_0, k_0/1000, beta_0, 1/TR(beta_0,z_0))\n",
      "print fmt % ( 2, m_1, c_1, k_1/1000, beta_1, 1/TR(beta_1,z_1))"
     ],
     "language": "python",
     "metadata": {},
     "outputs": [
      {
       "output_type": "stream",
       "stream": "stdout",
       "text": [
        "                     damping  stiffness\n",
        " Stage    mass kg      N\u00d7s/m       kN/m       beta       1/TR\n",
        "------   --------   --------   --------   --------   --------\n",
        "   1      4200.00        0.0    3730.71    3.16228    9.00000\n",
        "   2      4390.33    12798.1    3730.71    3.23314    9.00000\n"
       ]
      }
     ],
     "prompt_number": 9
    }
   ],
   "metadata": {}
  }
 ]
}